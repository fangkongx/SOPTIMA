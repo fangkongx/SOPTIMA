{
 "cells": [
  {
   "cell_type": "code",
   "execution_count": 19,
   "id": "5201b898-93a9-46ff-8f03-57645a7e0a67",
   "metadata": {},
   "outputs": [],
   "source": [
    "import os\n",
    "import numpy as np\n",
    "import pandas as pd\n",
    "import plotly\n",
    "import plotly.express as px\n",
    "import plotly.graph_objects as go\n",
    "from plotly.subplots import make_subplots"
   ]
  },
  {
   "cell_type": "code",
   "execution_count": 20,
   "id": "796bd19e-35aa-4132-ace2-ea5a935db858",
   "metadata": {},
   "outputs": [],
   "source": [
    "# colors: aliceblue, antiquewhite, aqua, aquamarine, azure, beige, bisque, black, blanchedalmond, blue, blueviolet, brown, burlywood, cadetblue, chartreuse, chocolate, coral, cornflowerblue, cornsilk, crimson, cyan, darkblue, darkcyan, darkgoldenrod, darkgray, darkgrey, darkgreen, darkkhaki, darkmagenta, darkolivegreen, darkorange, darkorchid, darkred, darksalmon, darkseagreen, darkslateblue, darkslategray, darkslategrey, darkturquoise, darkviolet, deeppink, deepskyblue, dimgray, dimgrey, dodgerblue, firebrick, floralwhite, forestgreen, fuchsia, gainsboro, ghostwhite, gold, goldenrod, gray, grey, green, greenyellow, honeydew, hotpink, indianred, indigo, ivory, khaki, lavender, lavenderblush, lawngreen, lemonchiffon, lightblue, lightcoral, lightcyan, lightgoldenrodyellow, lightgray, lightgrey, lightgreen, lightpink, lightsalmon, lightseagreen, lightskyblue, lightslategray, lightslategrey, lightsteelblue, lightyellow, lime, limegreen, linen, magenta, maroon, mediumaquamarine, mediumblue, mediumorchid, mediumpurple, mediumseagreen, mediumslateblue, mediumspringgreen, mediumturquoise, mediumvioletred, midnightblue, mintcream, mistyrose, moccasin, navajowhite, navy, oldlace, olive, olivedrab, orange, orangered, orchid, palegoldenrod, palegreen, paleturquoise, palevioletred, papayawhip, peachpuff, peru, pink, plum, powderblue, purple, red, rosybrown, royalblue, rebeccapurple, saddlebrown, salmon, sandybrown, seagreen, seashell, sienna, silver, skyblue, slateblue, slategray, slategrey, snow, springgreen, steelblue, tan, teal, thistle, tomato, turquoise, violet, wheat, white, whitesmoke, yellow, yellowgreen\n",
    "# symbols: [0, ‘0’, ‘circle’, 100, ‘100’, ‘circle-open’, 200, ‘200’, ‘circle-dot’, 300, ‘300’, ‘circle-open-dot’, 1, ‘1’, ‘square’, 101, ‘101’, ‘square-open’, 201, ‘201’, ‘square-dot’, 301, ‘301’, ‘square-open-dot’, 2, ‘2’, ‘diamond’, 102, ‘102’, ‘diamond-open’, 202, ‘202’, ‘diamond-dot’, 302, ‘302’, ‘diamond-open-dot’, 3, ‘3’, ‘cross’, 103, ‘103’, ‘cross-open’, 203, ‘203’, ‘cross-dot’, 303, ‘303’, ‘cross-open-dot’, 4, ‘4’, ‘x’, 104, ‘104’, ‘x-open’, 204, ‘204’, ‘x-dot’, 304, ‘304’, ‘x-open-dot’, 5, ‘5’, ‘triangle-up’, 105, ‘105’, ‘triangle-up-open’, 205, ‘205’, ‘triangle-up-dot’, 305, ‘305’, ‘triangle-up-open-dot’, 6, ‘6’, ‘triangle-down’, 106, ‘106’, ‘triangle-down-open’, 206, ‘206’, ‘triangle-down-dot’, 306, ‘306’, ‘triangle-down-open-dot’, 7, ‘7’, ‘triangle-left’, 107, ‘107’, ‘triangle-left-open’, 207, ‘207’, ‘triangle-left-dot’, 307, ‘307’, ‘triangle-left-open-dot’, 8, ‘8’, ‘triangle-right’, 108, ‘108’, ‘triangle-right-open’, 208, ‘208’, ‘triangle-right-dot’, 308, ‘308’, ‘triangle-right-open-dot’, 9, ‘9’, ‘triangle-ne’, 109, ‘109’, ‘triangle-ne-open’, 209, ‘209’, ‘triangle-ne-dot’, 309, ‘309’, ‘triangle-ne-open-dot’, 10, ‘10’, ‘triangle-se’, 110, ‘110’, ‘triangle-se-open’, 210, ‘210’, ‘triangle-se-dot’, 310, ‘310’, ‘triangle-se-open-dot’, 11, ‘11’, ‘triangle-sw’, 111, ‘111’, ‘triangle-sw-open’, 211, ‘211’, ‘triangle-sw-dot’, 311, ‘311’, ‘triangle-sw-open-dot’, 12, ‘12’, ‘triangle-nw’, 112, ‘112’, ‘triangle-nw-open’, 212, ‘212’, ‘triangle-nw-dot’, 312, ‘312’, ‘triangle-nw-open-dot’, 13, ‘13’, ‘pentagon’, 113, ‘113’, ‘pentagon-open’, 213, ‘213’, ‘pentagon-dot’, 313, ‘313’, ‘pentagon-open-dot’, 14, ‘14’, ‘hexagon’, 114, ‘114’, ‘hexagon-open’, 214, ‘214’, ‘hexagon-dot’, 314, ‘314’, ‘hexagon-open-dot’, 15, ‘15’, ‘hexagon2’, 115, ‘115’, ‘hexagon2-open’, 215, ‘215’, ‘hexagon2-dot’, 315, ‘315’, ‘hexagon2-open-dot’, 16, ‘16’, ‘octagon’, 116, ‘116’, ‘octagon-open’, 216, ‘216’, ‘octagon-dot’, 316, ‘316’, ‘octagon-open-dot’, 17, ‘17’, ‘star’, 117, ‘117’, ‘star-open’, 217, ‘217’, ‘star-dot’, 317, ‘317’, ‘star-open-dot’, 18, ‘18’, ‘hexagram’, 118, ‘118’, ‘hexagram-open’, 218, ‘218’, ‘hexagram-dot’, 318, ‘318’, ‘hexagram-open-dot’, 19, ‘19’, ‘star-triangle-up’, 119, ‘119’, ‘star-triangle-up-open’, 219, ‘219’, ‘star-triangle-up-dot’, 319, ‘319’, ‘star-triangle-up-open-dot’, 20, ‘20’, ‘star-triangle-down’, 120, ‘120’, ‘star-triangle-down-open’, 220, ‘220’, ‘star-triangle-down-dot’, 320, ‘320’, ‘star-triangle-down-open-dot’, 21, ‘21’, ‘star-square’, 121, ‘121’, ‘star-square-open’, 221, ‘221’, ‘star-square-dot’, 321, ‘321’, ‘star-square-open-dot’, 22, ‘22’, ‘star-diamond’, 122, ‘122’, ‘star-diamond-open’, 222, ‘222’, ‘star-diamond-dot’, 322, ‘322’, ‘star-diamond-open-dot’, 23, ‘23’, ‘diamond-tall’, 123, ‘123’, ‘diamond-tall-open’, 223, ‘223’, ‘diamond-tall-dot’, 323, ‘323’, ‘diamond-tall-open-dot’, 24, ‘24’, ‘diamond-wide’, 124, ‘124’, ‘diamond-wide-open’, 224, ‘224’, ‘diamond-wide-dot’, 324, ‘324’, ‘diamond-wide-open-dot’, 25, ‘25’, ‘hourglass’, 125, ‘125’, ‘hourglass-open’, 26, ‘26’, ‘bowtie’, 126, ‘126’, ‘bowtie-open’, 27, ‘27’, ‘circle-cross’, 127, ‘127’, ‘circle-cross-open’, 28, ‘28’, ‘circle-x’, 128, ‘128’, ‘circle-x-open’, 29, ‘29’, ‘square-cross’, 129, ‘129’, ‘square-cross-open’, 30, ‘30’, ‘square-x’, 130, ‘130’, ‘square-x-open’, 31, ‘31’, ‘diamond-cross’, 131, ‘131’, ‘diamond-cross-open’, 32, ‘32’, ‘diamond-x’, 132, ‘132’, ‘diamond-x-open’, 33, ‘33’, ‘cross-thin’, 133, ‘133’, ‘cross-thin-open’, 34, ‘34’, ‘x-thin’, 134, ‘134’, ‘x-thin-open’, 35, ‘35’, ‘asterisk’, 135, ‘135’, ‘asterisk-open’, 36, ‘36’, ‘hash’, 136, ‘136’, ‘hash-open’, 236, ‘236’, ‘hash-dot’, 336, ‘336’, ‘hash-open-dot’, 37, ‘37’, ‘y-up’, 137, ‘137’, ‘y-up-open’, 38, ‘38’, ‘y-down’, 138, ‘138’, ‘y-down-open’, 39, ‘39’, ‘y-left’, 139, ‘139’, ‘y-left-open’, 40, ‘40’, ‘y-right’, 140, ‘140’, ‘y-right-open’, 41, ‘41’, ‘line-ew’, 141, ‘141’, ‘line-ew-open’, 42, ‘42’, ‘line-ns’, 142, ‘142’, ‘line-ns-open’, 43, ‘43’, ‘line-ne’, 143, ‘143’, ‘line-ne-open’, 44, ‘44’, ‘line-nw’, 144, ‘144’, ‘line-nw-open’, 45, ‘45’, ‘arrow-up’, 145, ‘145’, ‘arrow-up-open’, 46, ‘46’, ‘arrow-down’, 146, ‘146’, ‘arrow-down-open’, 47, ‘47’, ‘arrow-left’, 147, ‘147’, ‘arrow-left-open’, 48, ‘48’, ‘arrow-right’, 148, ‘148’, ‘arrow-right-open’, 49, ‘49’, ‘arrow-bar-up’, 149, ‘149’, ‘arrow-bar-up-open’, 50, ‘50’, ‘arrow-bar-down’, 150, ‘150’, ‘arrow-bar-down-open’, 51, ‘51’, ‘arrow-bar-left’, 151, ‘151’, ‘arrow-bar-left-open’, 52, ‘52’, ‘arrow-bar-right’, 152, ‘152’, ‘arrow-bar-right-open’, 53, ‘53’, ‘arrow’, 153, ‘153’, ‘arrow-open’, 54, ‘54’, ‘arrow-wide’, 154, ‘154’, ‘arrow-wide-open’]"
   ]
  },
  {
   "cell_type": "code",
   "execution_count": 21,
   "id": "67ec9349-8ca4-448b-9490-ac28fb0733f2",
   "metadata": {},
   "outputs": [],
   "source": [
    "my_legends = [\"ES\", \"A/B\", \"TSS\", \"UCBS\", \"EGS\", \"IG\", \"IRG\", \"UES\"]\n",
    "my_colors = ['red', 'lime', 'blueviolet', 'maroon', 'darkgray', 'darkorange', 'black', \"yellowgreen\"]\n",
    "my_symbols = ['square', 'circle', 'triangle-up', 'x', 'diamond', 'cross', 'pentagon', \"star\"]\n",
    "my_l2c, my_l2s = dict(), dict()\n",
    "for i, legend in enumerate(my_legends):\n",
    "    my_l2c[legend] = my_colors[i]\n",
    "    my_l2s[legend] = my_symbols[i]"
   ]
  },
  {
   "cell_type": "markdown",
   "id": "47c43da2-2f12-45fa-9229-c71573eebfdd",
   "metadata": {
    "tags": []
   },
   "source": [
    "# Simulation Data"
   ]
  },
  {
   "cell_type": "code",
   "execution_count": 22,
   "id": "5327bcaf-6034-4ff7-ad24-32a1df4b25d2",
   "metadata": {},
   "outputs": [],
   "source": [
    "def get_key2data(df, idx2key):\n",
    "    power_idx, sample_idx, reward_idx = 0, 1, 3\n",
    "    key2data = dict()\n",
    "    for idx, key in idx2key.items():\n",
    "        key2data[key] = dict()\n",
    "        for algo in algos:\n",
    "            key2data[key][algo] = dict()\n",
    "    for idx, key in idx2key.items():\n",
    "        for algo in algos:\n",
    "            key2data[key][algo][\"power\"] = df.iloc[int(idx)][f\"{algo}_{power_idx}\"]\n",
    "            key2data[key][algo][\"samples\"] = df.iloc[int(idx)][f\"{algo}_{sample_idx}\"]\n",
    "            key2data[key][algo][\"rewards\"] = df.iloc[int(idx)][f\"{algo}_{reward_idx}\"]\n",
    "    return key2data"
   ]
  },
  {
   "cell_type": "code",
   "execution_count": 23,
   "id": "03f302c6-9dbb-43b3-be08-a56529460a20",
   "metadata": {
    "tags": []
   },
   "outputs": [],
   "source": [
    "def sd_return_fig(algos, key2data, max_rewards, display_row_xaxis = True, xrange_rows = [], marker_size = 12):\n",
    "    text = \"$\\sigma$\"\n",
    "    fig = make_subplots(\n",
    "        rows = 2, cols = len(key2data),\n",
    "        y_title=\"Power\",\n",
    "        column_titles = list(key2data.keys()),\n",
    "        # subplot_titles = list(key2data.keys()) + list(key2data.keys()),\n",
    "        # row_titles = [\"(a) Trade-off between Power and Rewards\", \"(b) Trade-off between Power and Sample Size\"],\n",
    "        shared_yaxes=True,\n",
    "        horizontal_spacing=0.03,\n",
    "        vertical_spacing=0.15,\n",
    "    )\n",
    "    for i, (key, data) in enumerate(key2data.items()):\n",
    "        scatters, rows, cols = list(), list(), list()\n",
    "        for j, algo in enumerate(algos):\n",
    "            # power reward trade-off\n",
    "            scatters.append(\n",
    "                go.Scatter(\n",
    "                    x=[data[algo][\"rewards\"] / max_rewards],\n",
    "                    y=[data[algo][\"power\"]],\n",
    "                    legendgroup=algo,\n",
    "                    mode=\"markers\",\n",
    "                    marker=go.scatter.Marker(\n",
    "                        color=[my_l2c[algo]],\n",
    "                        symbol=[my_l2s[algo]],\n",
    "                        size=marker_size,\n",
    "                    ), \n",
    "                    name=algo,\n",
    "                    orientation='h',\n",
    "                    showlegend=True if i == 0 else False,\n",
    "                    xaxis='x',\n",
    "                    yaxis='y',\n",
    "                )\n",
    "            )\n",
    "            rows.append(1),\n",
    "            cols.append(i + 1),\n",
    "            # power sample size trade-off\n",
    "            scatters.append(\n",
    "                go.Scatter(\n",
    "                    x=[data[algo][\"samples\"]],\n",
    "                    y=[data[algo][\"power\"]],\n",
    "                    legendgroup=algo,\n",
    "                    mode=\"markers\",\n",
    "                    marker=go.scatter.Marker(\n",
    "                        color=[my_l2c[algo]],\n",
    "                        symbol=[my_l2s[algo]],\n",
    "                        size=marker_size,\n",
    "                    ), \n",
    "                    name=algo,\n",
    "                    orientation='h',\n",
    "                    showlegend=False,\n",
    "                    xaxis='x',\n",
    "                    yaxis='y',\n",
    "                )\n",
    "            )\n",
    "            rows.append(2),\n",
    "            cols.append(i + 1),\n",
    "        fig.add_traces(\n",
    "            scatters, rows=rows, cols=cols\n",
    "        )\n",
    "    \n",
    "    fig.add_hline(0.8)\n",
    "    fig.update_layout(\n",
    "        legend=dict(\n",
    "            orientation='h',\n",
    "            x=0.33,\n",
    "            y=-0.15,\n",
    "            # title='Test Design',\n",
    "        ),\n",
    "        height=800,\n",
    "        width=1600,\n",
    "        # paper_bgcolor='rgba(0,0,0,0)',\n",
    "        # plot_bgcolor='Beige',\n",
    "        plot_bgcolor='rgb(242,242,242)',\n",
    "        font_size=16,\n",
    "        # title=repr(\"$\\sigma$\"),\n",
    "    )\n",
    "    # for i, (key, data) in enumerate(key2data.items()):\n",
    "    #     fig.update_xaxes(title_text=\"Rewards\", row=1, col=i + 1)\n",
    "    if display_row_xaxis:\n",
    "        fig.update_xaxes(title_text=\"Normalized averaged rewards\", row=1, col=3)\n",
    "        fig.update_xaxes(title_text=\"Averaged sample size per arm\", row=2, col=3)\n",
    "    for i, xrange in enumerate(xrange_rows):\n",
    "        for j in range(len(key2data.keys())):\n",
    "            fig.update_xaxes(range=xrange, row=i + 1, col=j + 1)\n",
    "    # fig.for_each_annotation(lambda a: a.update(text=f'<b>{a.text}</b>'))\n",
    "    fig.update_annotations(font=dict(size=20))\n",
    "    # fig.update_annotations(font=dict(family=\"Helvetica\", size=12))\n",
    "    return fig\n"
   ]
  },
  {
   "cell_type": "markdown",
   "id": "09fe6452-0daf-49da-873a-4ae399906ef3",
   "metadata": {},
   "source": [
    "## 5-arm, Gaussian; base_mean = 10; var=0.16 (all)"
   ]
  },
  {
   "cell_type": "code",
   "execution_count": 24,
   "id": "139b17eb-5af6-4e44-89cb-fbdbc4f4d6d3",
   "metadata": {},
   "outputs": [
    {
     "data": {
      "text/html": [
       "<div>\n",
       "<style scoped>\n",
       "    .dataframe tbody tr th:only-of-type {\n",
       "        vertical-align: middle;\n",
       "    }\n",
       "\n",
       "    .dataframe tbody tr th {\n",
       "        vertical-align: top;\n",
       "    }\n",
       "\n",
       "    .dataframe thead th {\n",
       "        text-align: right;\n",
       "    }\n",
       "</style>\n",
       "<table border=\"1\" class=\"dataframe\">\n",
       "  <thead>\n",
       "    <tr style=\"text-align: right;\">\n",
       "      <th></th>\n",
       "      <th>A/B_0</th>\n",
       "      <th>A/B_1</th>\n",
       "      <th>A/B_2</th>\n",
       "      <th>A/B_3</th>\n",
       "      <th>ES_0</th>\n",
       "      <th>ES_1</th>\n",
       "      <th>ES_2</th>\n",
       "      <th>ES_3</th>\n",
       "      <th>UES_0</th>\n",
       "      <th>UES_1</th>\n",
       "      <th>...</th>\n",
       "      <th>TSS_2</th>\n",
       "      <th>TSS_3</th>\n",
       "      <th>UCBS_0</th>\n",
       "      <th>UCBS_1</th>\n",
       "      <th>UCBS_2</th>\n",
       "      <th>UCBS_3</th>\n",
       "      <th>EGS_0</th>\n",
       "      <th>EGS_1</th>\n",
       "      <th>EGS_2</th>\n",
       "      <th>EGS_3</th>\n",
       "    </tr>\n",
       "  </thead>\n",
       "  <tbody>\n",
       "    <tr>\n",
       "      <th>0</th>\n",
       "      <td>0.1132</td>\n",
       "      <td>1000</td>\n",
       "      <td>5000</td>\n",
       "      <td>9.999814</td>\n",
       "      <td>0.2164</td>\n",
       "      <td>598.4</td>\n",
       "      <td>2992</td>\n",
       "      <td>10.012645</td>\n",
       "      <td>0.1282</td>\n",
       "      <td>647.6</td>\n",
       "      <td>...</td>\n",
       "      <td>2620</td>\n",
       "      <td>10.025926</td>\n",
       "      <td>0.1694</td>\n",
       "      <td>638.6</td>\n",
       "      <td>3193</td>\n",
       "      <td>10.013226</td>\n",
       "      <td>0.0028</td>\n",
       "      <td>808.0</td>\n",
       "      <td>4040</td>\n",
       "      <td>10.024947</td>\n",
       "    </tr>\n",
       "    <tr>\n",
       "      <th>1</th>\n",
       "      <td>0.3732</td>\n",
       "      <td>1000</td>\n",
       "      <td>5000</td>\n",
       "      <td>9.999855</td>\n",
       "      <td>0.5452</td>\n",
       "      <td>380.2</td>\n",
       "      <td>1901</td>\n",
       "      <td>10.052985</td>\n",
       "      <td>0.4208</td>\n",
       "      <td>424.2</td>\n",
       "      <td>...</td>\n",
       "      <td>3432</td>\n",
       "      <td>10.064481</td>\n",
       "      <td>0.5026</td>\n",
       "      <td>411.2</td>\n",
       "      <td>2056</td>\n",
       "      <td>10.050406</td>\n",
       "      <td>0.1198</td>\n",
       "      <td>673.4</td>\n",
       "      <td>3367</td>\n",
       "      <td>10.058293</td>\n",
       "    </tr>\n",
       "    <tr>\n",
       "      <th>2</th>\n",
       "      <td>0.6330</td>\n",
       "      <td>1000</td>\n",
       "      <td>5000</td>\n",
       "      <td>9.999020</td>\n",
       "      <td>0.7728</td>\n",
       "      <td>214.4</td>\n",
       "      <td>1072</td>\n",
       "      <td>10.133825</td>\n",
       "      <td>0.6810</td>\n",
       "      <td>259.6</td>\n",
       "      <td>...</td>\n",
       "      <td>3218</td>\n",
       "      <td>10.139868</td>\n",
       "      <td>0.7412</td>\n",
       "      <td>239.0</td>\n",
       "      <td>1195</td>\n",
       "      <td>10.129371</td>\n",
       "      <td>0.4652</td>\n",
       "      <td>451.4</td>\n",
       "      <td>2257</td>\n",
       "      <td>10.133629</td>\n",
       "    </tr>\n",
       "    <tr>\n",
       "      <th>3</th>\n",
       "      <td>0.8308</td>\n",
       "      <td>1000</td>\n",
       "      <td>5000</td>\n",
       "      <td>9.998335</td>\n",
       "      <td>0.8990</td>\n",
       "      <td>86.4</td>\n",
       "      <td>432</td>\n",
       "      <td>10.365153</td>\n",
       "      <td>0.8454</td>\n",
       "      <td>117.6</td>\n",
       "      <td>...</td>\n",
       "      <td>1588</td>\n",
       "      <td>10.360779</td>\n",
       "      <td>0.8910</td>\n",
       "      <td>104.6</td>\n",
       "      <td>523</td>\n",
       "      <td>10.353089</td>\n",
       "      <td>0.7512</td>\n",
       "      <td>223.8</td>\n",
       "      <td>1119</td>\n",
       "      <td>10.355643</td>\n",
       "    </tr>\n",
       "    <tr>\n",
       "      <th>4</th>\n",
       "      <td>0.9148</td>\n",
       "      <td>1000</td>\n",
       "      <td>5000</td>\n",
       "      <td>9.998070</td>\n",
       "      <td>0.9508</td>\n",
       "      <td>46.8</td>\n",
       "      <td>234</td>\n",
       "      <td>10.738133</td>\n",
       "      <td>0.9300</td>\n",
       "      <td>66.4</td>\n",
       "      <td>...</td>\n",
       "      <td>697</td>\n",
       "      <td>10.747149</td>\n",
       "      <td>0.9512</td>\n",
       "      <td>51.4</td>\n",
       "      <td>257</td>\n",
       "      <td>10.732808</td>\n",
       "      <td>0.8798</td>\n",
       "      <td>123.8</td>\n",
       "      <td>619</td>\n",
       "      <td>10.726230</td>\n",
       "    </tr>\n",
       "  </tbody>\n",
       "</table>\n",
       "<p>5 rows × 24 columns</p>\n",
       "</div>"
      ],
      "text/plain": [
       "    A/B_0  A/B_1  A/B_2     A/B_3    ES_0   ES_1  ES_2       ES_3   UES_0  \\\n",
       "0  0.1132   1000   5000  9.999814  0.2164  598.4  2992  10.012645  0.1282   \n",
       "1  0.3732   1000   5000  9.999855  0.5452  380.2  1901  10.052985  0.4208   \n",
       "2  0.6330   1000   5000  9.999020  0.7728  214.4  1072  10.133825  0.6810   \n",
       "3  0.8308   1000   5000  9.998335  0.8990   86.4   432  10.365153  0.8454   \n",
       "4  0.9148   1000   5000  9.998070  0.9508   46.8   234  10.738133  0.9300   \n",
       "\n",
       "   UES_1  ...  TSS_2      TSS_3  UCBS_0  UCBS_1  UCBS_2     UCBS_3   EGS_0  \\\n",
       "0  647.6  ...   2620  10.025926  0.1694   638.6    3193  10.013226  0.0028   \n",
       "1  424.2  ...   3432  10.064481  0.5026   411.2    2056  10.050406  0.1198   \n",
       "2  259.6  ...   3218  10.139868  0.7412   239.0    1195  10.129371  0.4652   \n",
       "3  117.6  ...   1588  10.360779  0.8910   104.6     523  10.353089  0.7512   \n",
       "4   66.4  ...    697  10.747149  0.9512    51.4     257  10.732808  0.8798   \n",
       "\n",
       "   EGS_1  EGS_2      EGS_3  \n",
       "0  808.0   4040  10.024947  \n",
       "1  673.4   3367  10.058293  \n",
       "2  451.4   2257  10.133629  \n",
       "3  223.8   1119  10.355643  \n",
       "4  123.8    619  10.726230  \n",
       "\n",
       "[5 rows x 24 columns]"
      ]
     },
     "execution_count": 24,
     "metadata": {},
     "output_type": "execute_result"
    }
   ],
   "source": [
    "df = pd.read_csv(\"res_sim_5arm_gauss_var_sigma.csv\")\n",
    "df"
   ]
  },
  {
   "cell_type": "code",
   "execution_count": 25,
   "id": "d5e3965e-86a2-48ed-956d-43017c22e0b1",
   "metadata": {
    "tags": []
   },
   "outputs": [
    {
     "name": "stdout",
     "output_type": "stream",
     "text": [
      "{'$\\\\sigma_{\\\\Delta}^2 = 0.05$': {'ES': {'power': 0.2164, 'samples': 598.4, 'rewards': 10.012645}, 'A/B': {'power': 0.1132, 'samples': 1000.0, 'rewards': 9.99981363}, 'UES': {'power': 0.1282, 'samples': 647.6, 'rewards': 10.0027926}, 'TSS': {'power': 0.0004, 'samples': 524.0, 'rewards': 10.0259258}, 'UCBS': {'power': 0.1694, 'samples': 638.6, 'rewards': 10.0132262}, 'EGS': {'power': 0.0028, 'samples': 808.0, 'rewards': 10.0249474}}, '$\\\\sigma_{\\\\Delta}^2 = 0.1$': {'ES': {'power': 0.5452, 'samples': 380.2, 'rewards': 10.0529852}, 'A/B': {'power': 0.3732, 'samples': 1000.0, 'rewards': 9.99985467}, 'UES': {'power': 0.4208, 'samples': 424.2, 'rewards': 10.0263705}, 'TSS': {'power': 0.0166, 'samples': 686.4, 'rewards': 10.0644808}, 'UCBS': {'power': 0.5026, 'samples': 411.2, 'rewards': 10.0504065}, 'EGS': {'power': 0.1198, 'samples': 673.4, 'rewards': 10.0582932}}, '$\\\\sigma_{\\\\Delta}^2 = 0.2$': {'ES': {'power': 0.7728, 'samples': 214.4, 'rewards': 10.1338246}, 'A/B': {'power': 0.633, 'samples': 1000.0, 'rewards': 9.99901984}, 'UES': {'power': 0.681, 'samples': 259.6, 'rewards': 10.0940248}, 'TSS': {'power': 0.2452, 'samples': 643.6, 'rewards': 10.1398679}, 'UCBS': {'power': 0.7412, 'samples': 239.0, 'rewards': 10.1293709}, 'EGS': {'power': 0.4652, 'samples': 451.4, 'rewards': 10.1336295}}, '$\\\\sigma_{\\\\Delta}^2 = 0.5$': {'ES': {'power': 0.899, 'samples': 86.4, 'rewards': 10.3651531}, 'A/B': {'power': 0.8308, 'samples': 1000.0, 'rewards': 9.99833452}, 'UES': {'power': 0.8454, 'samples': 117.6, 'rewards': 10.3040097}, 'TSS': {'power': 0.7214, 'samples': 317.6, 'rewards': 10.3607789}, 'UCBS': {'power': 0.891, 'samples': 104.6, 'rewards': 10.3530889}, 'EGS': {'power': 0.7512, 'samples': 223.8, 'rewards': 10.3556432}}, '$\\\\sigma_{\\\\Delta}^2 = 1$': {'ES': {'power': 0.9508, 'samples': 46.8, 'rewards': 10.7381334}, 'A/B': {'power': 0.9148, 'samples': 1000.0, 'rewards': 9.99806952}, 'UES': {'power': 0.93, 'samples': 66.4, 'rewards': 10.6806093}, 'TSS': {'power': 0.8702, 'samples': 139.4, 'rewards': 10.7471486}, 'UCBS': {'power': 0.9512, 'samples': 51.4, 'rewards': 10.7328083}, 'EGS': {'power': 0.8798, 'samples': 123.8, 'rewards': 10.7262301}}}\n"
     ]
    },
    {
     "data": {
      "application/vnd.plotly.v1+json": {
       "config": {
        "plotlyServerURL": "https://plot.ly"
       },
       "data": [
        {
         "legendgroup": "ES",
         "marker": {
          "color": [
           "red"
          ],
          "size": 8,
          "symbol": [
           "square"
          ]
         },
         "mode": "markers",
         "name": "ES",
         "orientation": "h",
         "showlegend": true,
         "type": "scatter",
         "x": [
          0.9102404545454544
         ],
         "xaxis": "x",
         "y": [
          0.2164
         ],
         "yaxis": "y"
        },
        {
         "legendgroup": "ES",
         "marker": {
          "color": [
           "red"
          ],
          "size": 8,
          "symbol": [
           "square"
          ]
         },
         "mode": "markers",
         "name": "ES",
         "orientation": "h",
         "showlegend": false,
         "type": "scatter",
         "x": [
          598.4
         ],
         "xaxis": "x6",
         "y": [
          0.2164
         ],
         "yaxis": "y6"
        },
        {
         "legendgroup": "A/B",
         "marker": {
          "color": [
           "lime"
          ],
          "size": 8,
          "symbol": [
           "circle"
          ]
         },
         "mode": "markers",
         "name": "A/B",
         "orientation": "h",
         "showlegend": true,
         "type": "scatter",
         "x": [
          0.9090739663636364
         ],
         "xaxis": "x",
         "y": [
          0.1132
         ],
         "yaxis": "y"
        },
        {
         "legendgroup": "A/B",
         "marker": {
          "color": [
           "lime"
          ],
          "size": 8,
          "symbol": [
           "circle"
          ]
         },
         "mode": "markers",
         "name": "A/B",
         "orientation": "h",
         "showlegend": false,
         "type": "scatter",
         "x": [
          1000
         ],
         "xaxis": "x6",
         "y": [
          0.1132
         ],
         "yaxis": "y6"
        },
        {
         "legendgroup": "UES",
         "marker": {
          "color": [
           "yellowgreen"
          ],
          "size": 8,
          "symbol": [
           "star"
          ]
         },
         "mode": "markers",
         "name": "UES",
         "orientation": "h",
         "showlegend": true,
         "type": "scatter",
         "x": [
          0.9093447818181818
         ],
         "xaxis": "x",
         "y": [
          0.1282
         ],
         "yaxis": "y"
        },
        {
         "legendgroup": "UES",
         "marker": {
          "color": [
           "yellowgreen"
          ],
          "size": 8,
          "symbol": [
           "star"
          ]
         },
         "mode": "markers",
         "name": "UES",
         "orientation": "h",
         "showlegend": false,
         "type": "scatter",
         "x": [
          647.6
         ],
         "xaxis": "x6",
         "y": [
          0.1282
         ],
         "yaxis": "y6"
        },
        {
         "legendgroup": "TSS",
         "marker": {
          "color": [
           "blueviolet"
          ],
          "size": 8,
          "symbol": [
           "triangle-up"
          ]
         },
         "mode": "markers",
         "name": "TSS",
         "orientation": "h",
         "showlegend": true,
         "type": "scatter",
         "x": [
          0.9114477999999999
         ],
         "xaxis": "x",
         "y": [
          0.0004
         ],
         "yaxis": "y"
        },
        {
         "legendgroup": "TSS",
         "marker": {
          "color": [
           "blueviolet"
          ],
          "size": 8,
          "symbol": [
           "triangle-up"
          ]
         },
         "mode": "markers",
         "name": "TSS",
         "orientation": "h",
         "showlegend": false,
         "type": "scatter",
         "x": [
          524
         ],
         "xaxis": "x6",
         "y": [
          0.0004
         ],
         "yaxis": "y6"
        },
        {
         "legendgroup": "UCBS",
         "marker": {
          "color": [
           "maroon"
          ],
          "size": 8,
          "symbol": [
           "x"
          ]
         },
         "mode": "markers",
         "name": "UCBS",
         "orientation": "h",
         "showlegend": true,
         "type": "scatter",
         "x": [
          0.910293290909091
         ],
         "xaxis": "x",
         "y": [
          0.1694
         ],
         "yaxis": "y"
        },
        {
         "legendgroup": "UCBS",
         "marker": {
          "color": [
           "maroon"
          ],
          "size": 8,
          "symbol": [
           "x"
          ]
         },
         "mode": "markers",
         "name": "UCBS",
         "orientation": "h",
         "showlegend": false,
         "type": "scatter",
         "x": [
          638.6
         ],
         "xaxis": "x6",
         "y": [
          0.1694
         ],
         "yaxis": "y6"
        },
        {
         "legendgroup": "EGS",
         "marker": {
          "color": [
           "darkgray"
          ],
          "size": 8,
          "symbol": [
           "diamond"
          ]
         },
         "mode": "markers",
         "name": "EGS",
         "orientation": "h",
         "showlegend": true,
         "type": "scatter",
         "x": [
          0.9113588545454546
         ],
         "xaxis": "x",
         "y": [
          0.0028
         ],
         "yaxis": "y"
        },
        {
         "legendgroup": "EGS",
         "marker": {
          "color": [
           "darkgray"
          ],
          "size": 8,
          "symbol": [
           "diamond"
          ]
         },
         "mode": "markers",
         "name": "EGS",
         "orientation": "h",
         "showlegend": false,
         "type": "scatter",
         "x": [
          808
         ],
         "xaxis": "x6",
         "y": [
          0.0028
         ],
         "yaxis": "y6"
        },
        {
         "legendgroup": "ES",
         "marker": {
          "color": [
           "red"
          ],
          "size": 8,
          "symbol": [
           "square"
          ]
         },
         "mode": "markers",
         "name": "ES",
         "orientation": "h",
         "showlegend": false,
         "type": "scatter",
         "x": [
          0.9139077454545455
         ],
         "xaxis": "x2",
         "y": [
          0.5452
         ],
         "yaxis": "y2"
        },
        {
         "legendgroup": "ES",
         "marker": {
          "color": [
           "red"
          ],
          "size": 8,
          "symbol": [
           "square"
          ]
         },
         "mode": "markers",
         "name": "ES",
         "orientation": "h",
         "showlegend": false,
         "type": "scatter",
         "x": [
          380.2
         ],
         "xaxis": "x7",
         "y": [
          0.5452
         ],
         "yaxis": "y7"
        },
        {
         "legendgroup": "A/B",
         "marker": {
          "color": [
           "lime"
          ],
          "size": 8,
          "symbol": [
           "circle"
          ]
         },
         "mode": "markers",
         "name": "A/B",
         "orientation": "h",
         "showlegend": false,
         "type": "scatter",
         "x": [
          0.9090776972727272
         ],
         "xaxis": "x2",
         "y": [
          0.3732
         ],
         "yaxis": "y2"
        },
        {
         "legendgroup": "A/B",
         "marker": {
          "color": [
           "lime"
          ],
          "size": 8,
          "symbol": [
           "circle"
          ]
         },
         "mode": "markers",
         "name": "A/B",
         "orientation": "h",
         "showlegend": false,
         "type": "scatter",
         "x": [
          1000
         ],
         "xaxis": "x7",
         "y": [
          0.3732
         ],
         "yaxis": "y7"
        },
        {
         "legendgroup": "UES",
         "marker": {
          "color": [
           "yellowgreen"
          ],
          "size": 8,
          "symbol": [
           "star"
          ]
         },
         "mode": "markers",
         "name": "UES",
         "orientation": "h",
         "showlegend": false,
         "type": "scatter",
         "x": [
          0.9114882272727273
         ],
         "xaxis": "x2",
         "y": [
          0.4208
         ],
         "yaxis": "y2"
        },
        {
         "legendgroup": "UES",
         "marker": {
          "color": [
           "yellowgreen"
          ],
          "size": 8,
          "symbol": [
           "star"
          ]
         },
         "mode": "markers",
         "name": "UES",
         "orientation": "h",
         "showlegend": false,
         "type": "scatter",
         "x": [
          424.2
         ],
         "xaxis": "x7",
         "y": [
          0.4208
         ],
         "yaxis": "y7"
        },
        {
         "legendgroup": "TSS",
         "marker": {
          "color": [
           "blueviolet"
          ],
          "size": 8,
          "symbol": [
           "triangle-up"
          ]
         },
         "mode": "markers",
         "name": "TSS",
         "orientation": "h",
         "showlegend": false,
         "type": "scatter",
         "x": [
          0.9149528
         ],
         "xaxis": "x2",
         "y": [
          0.0166
         ],
         "yaxis": "y2"
        },
        {
         "legendgroup": "TSS",
         "marker": {
          "color": [
           "blueviolet"
          ],
          "size": 8,
          "symbol": [
           "triangle-up"
          ]
         },
         "mode": "markers",
         "name": "TSS",
         "orientation": "h",
         "showlegend": false,
         "type": "scatter",
         "x": [
          686.4
         ],
         "xaxis": "x7",
         "y": [
          0.0166
         ],
         "yaxis": "y7"
        },
        {
         "legendgroup": "UCBS",
         "marker": {
          "color": [
           "maroon"
          ],
          "size": 8,
          "symbol": [
           "x"
          ]
         },
         "mode": "markers",
         "name": "UCBS",
         "orientation": "h",
         "showlegend": false,
         "type": "scatter",
         "x": [
          0.9136733181818181
         ],
         "xaxis": "x2",
         "y": [
          0.5026
         ],
         "yaxis": "y2"
        },
        {
         "legendgroup": "UCBS",
         "marker": {
          "color": [
           "maroon"
          ],
          "size": 8,
          "symbol": [
           "x"
          ]
         },
         "mode": "markers",
         "name": "UCBS",
         "orientation": "h",
         "showlegend": false,
         "type": "scatter",
         "x": [
          411.2
         ],
         "xaxis": "x7",
         "y": [
          0.5026
         ],
         "yaxis": "y7"
        },
        {
         "legendgroup": "EGS",
         "marker": {
          "color": [
           "darkgray"
          ],
          "size": 8,
          "symbol": [
           "diamond"
          ]
         },
         "mode": "markers",
         "name": "EGS",
         "orientation": "h",
         "showlegend": false,
         "type": "scatter",
         "x": [
          0.9143902909090909
         ],
         "xaxis": "x2",
         "y": [
          0.1198
         ],
         "yaxis": "y2"
        },
        {
         "legendgroup": "EGS",
         "marker": {
          "color": [
           "darkgray"
          ],
          "size": 8,
          "symbol": [
           "diamond"
          ]
         },
         "mode": "markers",
         "name": "EGS",
         "orientation": "h",
         "showlegend": false,
         "type": "scatter",
         "x": [
          673.4
         ],
         "xaxis": "x7",
         "y": [
          0.1198
         ],
         "yaxis": "y7"
        },
        {
         "legendgroup": "ES",
         "marker": {
          "color": [
           "red"
          ],
          "size": 8,
          "symbol": [
           "square"
          ]
         },
         "mode": "markers",
         "name": "ES",
         "orientation": "h",
         "showlegend": false,
         "type": "scatter",
         "x": [
          0.9212567818181818
         ],
         "xaxis": "x3",
         "y": [
          0.7728
         ],
         "yaxis": "y3"
        },
        {
         "legendgroup": "ES",
         "marker": {
          "color": [
           "red"
          ],
          "size": 8,
          "symbol": [
           "square"
          ]
         },
         "mode": "markers",
         "name": "ES",
         "orientation": "h",
         "showlegend": false,
         "type": "scatter",
         "x": [
          214.4
         ],
         "xaxis": "x8",
         "y": [
          0.7728
         ],
         "yaxis": "y8"
        },
        {
         "legendgroup": "A/B",
         "marker": {
          "color": [
           "lime"
          ],
          "size": 8,
          "symbol": [
           "circle"
          ]
         },
         "mode": "markers",
         "name": "A/B",
         "orientation": "h",
         "showlegend": false,
         "type": "scatter",
         "x": [
          0.9090018036363637
         ],
         "xaxis": "x3",
         "y": [
          0.633
         ],
         "yaxis": "y3"
        },
        {
         "legendgroup": "A/B",
         "marker": {
          "color": [
           "lime"
          ],
          "size": 8,
          "symbol": [
           "circle"
          ]
         },
         "mode": "markers",
         "name": "A/B",
         "orientation": "h",
         "showlegend": false,
         "type": "scatter",
         "x": [
          1000
         ],
         "xaxis": "x8",
         "y": [
          0.633
         ],
         "yaxis": "y8"
        },
        {
         "legendgroup": "UES",
         "marker": {
          "color": [
           "yellowgreen"
          ],
          "size": 8,
          "symbol": [
           "star"
          ]
         },
         "mode": "markers",
         "name": "UES",
         "orientation": "h",
         "showlegend": false,
         "type": "scatter",
         "x": [
          0.9176386181818181
         ],
         "xaxis": "x3",
         "y": [
          0.681
         ],
         "yaxis": "y3"
        },
        {
         "legendgroup": "UES",
         "marker": {
          "color": [
           "yellowgreen"
          ],
          "size": 8,
          "symbol": [
           "star"
          ]
         },
         "mode": "markers",
         "name": "UES",
         "orientation": "h",
         "showlegend": false,
         "type": "scatter",
         "x": [
          259.6
         ],
         "xaxis": "x8",
         "y": [
          0.681
         ],
         "yaxis": "y8"
        },
        {
         "legendgroup": "TSS",
         "marker": {
          "color": [
           "blueviolet"
          ],
          "size": 8,
          "symbol": [
           "triangle-up"
          ]
         },
         "mode": "markers",
         "name": "TSS",
         "orientation": "h",
         "showlegend": false,
         "type": "scatter",
         "x": [
          0.9218061727272727
         ],
         "xaxis": "x3",
         "y": [
          0.2452
         ],
         "yaxis": "y3"
        },
        {
         "legendgroup": "TSS",
         "marker": {
          "color": [
           "blueviolet"
          ],
          "size": 8,
          "symbol": [
           "triangle-up"
          ]
         },
         "mode": "markers",
         "name": "TSS",
         "orientation": "h",
         "showlegend": false,
         "type": "scatter",
         "x": [
          643.6
         ],
         "xaxis": "x8",
         "y": [
          0.2452
         ],
         "yaxis": "y8"
        },
        {
         "legendgroup": "UCBS",
         "marker": {
          "color": [
           "maroon"
          ],
          "size": 8,
          "symbol": [
           "x"
          ]
         },
         "mode": "markers",
         "name": "UCBS",
         "orientation": "h",
         "showlegend": false,
         "type": "scatter",
         "x": [
          0.9208519
         ],
         "xaxis": "x3",
         "y": [
          0.7412
         ],
         "yaxis": "y3"
        },
        {
         "legendgroup": "UCBS",
         "marker": {
          "color": [
           "maroon"
          ],
          "size": 8,
          "symbol": [
           "x"
          ]
         },
         "mode": "markers",
         "name": "UCBS",
         "orientation": "h",
         "showlegend": false,
         "type": "scatter",
         "x": [
          239
         ],
         "xaxis": "x8",
         "y": [
          0.7412
         ],
         "yaxis": "y8"
        },
        {
         "legendgroup": "EGS",
         "marker": {
          "color": [
           "darkgray"
          ],
          "size": 8,
          "symbol": [
           "diamond"
          ]
         },
         "mode": "markers",
         "name": "EGS",
         "orientation": "h",
         "showlegend": false,
         "type": "scatter",
         "x": [
          0.9212390454545454
         ],
         "xaxis": "x3",
         "y": [
          0.4652
         ],
         "yaxis": "y3"
        },
        {
         "legendgroup": "EGS",
         "marker": {
          "color": [
           "darkgray"
          ],
          "size": 8,
          "symbol": [
           "diamond"
          ]
         },
         "mode": "markers",
         "name": "EGS",
         "orientation": "h",
         "showlegend": false,
         "type": "scatter",
         "x": [
          451.4
         ],
         "xaxis": "x8",
         "y": [
          0.4652
         ],
         "yaxis": "y8"
        },
        {
         "legendgroup": "ES",
         "marker": {
          "color": [
           "red"
          ],
          "size": 8,
          "symbol": [
           "square"
          ]
         },
         "mode": "markers",
         "name": "ES",
         "orientation": "h",
         "showlegend": false,
         "type": "scatter",
         "x": [
          0.9422866454545455
         ],
         "xaxis": "x4",
         "y": [
          0.899
         ],
         "yaxis": "y4"
        },
        {
         "legendgroup": "ES",
         "marker": {
          "color": [
           "red"
          ],
          "size": 8,
          "symbol": [
           "square"
          ]
         },
         "mode": "markers",
         "name": "ES",
         "orientation": "h",
         "showlegend": false,
         "type": "scatter",
         "x": [
          86.4
         ],
         "xaxis": "x9",
         "y": [
          0.899
         ],
         "yaxis": "y9"
        },
        {
         "legendgroup": "A/B",
         "marker": {
          "color": [
           "lime"
          ],
          "size": 8,
          "symbol": [
           "circle"
          ]
         },
         "mode": "markers",
         "name": "A/B",
         "orientation": "h",
         "showlegend": false,
         "type": "scatter",
         "x": [
          0.9089395018181818
         ],
         "xaxis": "x4",
         "y": [
          0.8308
         ],
         "yaxis": "y4"
        },
        {
         "legendgroup": "A/B",
         "marker": {
          "color": [
           "lime"
          ],
          "size": 8,
          "symbol": [
           "circle"
          ]
         },
         "mode": "markers",
         "name": "A/B",
         "orientation": "h",
         "showlegend": false,
         "type": "scatter",
         "x": [
          1000
         ],
         "xaxis": "x9",
         "y": [
          0.8308
         ],
         "yaxis": "y9"
        },
        {
         "legendgroup": "UES",
         "marker": {
          "color": [
           "yellowgreen"
          ],
          "size": 8,
          "symbol": [
           "star"
          ]
         },
         "mode": "markers",
         "name": "UES",
         "orientation": "h",
         "showlegend": false,
         "type": "scatter",
         "x": [
          0.9367281545454545
         ],
         "xaxis": "x4",
         "y": [
          0.8454
         ],
         "yaxis": "y4"
        },
        {
         "legendgroup": "UES",
         "marker": {
          "color": [
           "yellowgreen"
          ],
          "size": 8,
          "symbol": [
           "star"
          ]
         },
         "mode": "markers",
         "name": "UES",
         "orientation": "h",
         "showlegend": false,
         "type": "scatter",
         "x": [
          117.6
         ],
         "xaxis": "x9",
         "y": [
          0.8454
         ],
         "yaxis": "y9"
        },
        {
         "legendgroup": "TSS",
         "marker": {
          "color": [
           "blueviolet"
          ],
          "size": 8,
          "symbol": [
           "triangle-up"
          ]
         },
         "mode": "markers",
         "name": "TSS",
         "orientation": "h",
         "showlegend": false,
         "type": "scatter",
         "x": [
          0.9418889909090908
         ],
         "xaxis": "x4",
         "y": [
          0.7214
         ],
         "yaxis": "y4"
        },
        {
         "legendgroup": "TSS",
         "marker": {
          "color": [
           "blueviolet"
          ],
          "size": 8,
          "symbol": [
           "triangle-up"
          ]
         },
         "mode": "markers",
         "name": "TSS",
         "orientation": "h",
         "showlegend": false,
         "type": "scatter",
         "x": [
          317.6
         ],
         "xaxis": "x9",
         "y": [
          0.7214
         ],
         "yaxis": "y9"
        },
        {
         "legendgroup": "UCBS",
         "marker": {
          "color": [
           "maroon"
          ],
          "size": 8,
          "symbol": [
           "x"
          ]
         },
         "mode": "markers",
         "name": "UCBS",
         "orientation": "h",
         "showlegend": false,
         "type": "scatter",
         "x": [
          0.9411898999999999
         ],
         "xaxis": "x4",
         "y": [
          0.891
         ],
         "yaxis": "y4"
        },
        {
         "legendgroup": "UCBS",
         "marker": {
          "color": [
           "maroon"
          ],
          "size": 8,
          "symbol": [
           "x"
          ]
         },
         "mode": "markers",
         "name": "UCBS",
         "orientation": "h",
         "showlegend": false,
         "type": "scatter",
         "x": [
          104.6
         ],
         "xaxis": "x9",
         "y": [
          0.891
         ],
         "yaxis": "y9"
        },
        {
         "legendgroup": "EGS",
         "marker": {
          "color": [
           "darkgray"
          ],
          "size": 8,
          "symbol": [
           "diamond"
          ]
         },
         "mode": "markers",
         "name": "EGS",
         "orientation": "h",
         "showlegend": false,
         "type": "scatter",
         "x": [
          0.9414221090909091
         ],
         "xaxis": "x4",
         "y": [
          0.7512
         ],
         "yaxis": "y4"
        },
        {
         "legendgroup": "EGS",
         "marker": {
          "color": [
           "darkgray"
          ],
          "size": 8,
          "symbol": [
           "diamond"
          ]
         },
         "mode": "markers",
         "name": "EGS",
         "orientation": "h",
         "showlegend": false,
         "type": "scatter",
         "x": [
          223.8
         ],
         "xaxis": "x9",
         "y": [
          0.7512
         ],
         "yaxis": "y9"
        },
        {
         "legendgroup": "ES",
         "marker": {
          "color": [
           "red"
          ],
          "size": 8,
          "symbol": [
           "square"
          ]
         },
         "mode": "markers",
         "name": "ES",
         "orientation": "h",
         "showlegend": false,
         "type": "scatter",
         "x": [
          0.9761939454545455
         ],
         "xaxis": "x5",
         "y": [
          0.9508
         ],
         "yaxis": "y5"
        },
        {
         "legendgroup": "ES",
         "marker": {
          "color": [
           "red"
          ],
          "size": 8,
          "symbol": [
           "square"
          ]
         },
         "mode": "markers",
         "name": "ES",
         "orientation": "h",
         "showlegend": false,
         "type": "scatter",
         "x": [
          46.8
         ],
         "xaxis": "x10",
         "y": [
          0.9508
         ],
         "yaxis": "y10"
        },
        {
         "legendgroup": "A/B",
         "marker": {
          "color": [
           "lime"
          ],
          "size": 8,
          "symbol": [
           "circle"
          ]
         },
         "mode": "markers",
         "name": "A/B",
         "orientation": "h",
         "showlegend": false,
         "type": "scatter",
         "x": [
          0.9089154109090909
         ],
         "xaxis": "x5",
         "y": [
          0.9148
         ],
         "yaxis": "y5"
        },
        {
         "legendgroup": "A/B",
         "marker": {
          "color": [
           "lime"
          ],
          "size": 8,
          "symbol": [
           "circle"
          ]
         },
         "mode": "markers",
         "name": "A/B",
         "orientation": "h",
         "showlegend": false,
         "type": "scatter",
         "x": [
          1000
         ],
         "xaxis": "x10",
         "y": [
          0.9148
         ],
         "yaxis": "y10"
        },
        {
         "legendgroup": "UES",
         "marker": {
          "color": [
           "yellowgreen"
          ],
          "size": 8,
          "symbol": [
           "star"
          ]
         },
         "mode": "markers",
         "name": "UES",
         "orientation": "h",
         "showlegend": false,
         "type": "scatter",
         "x": [
          0.9709644818181818
         ],
         "xaxis": "x5",
         "y": [
          0.93
         ],
         "yaxis": "y5"
        },
        {
         "legendgroup": "UES",
         "marker": {
          "color": [
           "yellowgreen"
          ],
          "size": 8,
          "symbol": [
           "star"
          ]
         },
         "mode": "markers",
         "name": "UES",
         "orientation": "h",
         "showlegend": false,
         "type": "scatter",
         "x": [
          66.4
         ],
         "xaxis": "x10",
         "y": [
          0.93
         ],
         "yaxis": "y10"
        },
        {
         "legendgroup": "TSS",
         "marker": {
          "color": [
           "blueviolet"
          ],
          "size": 8,
          "symbol": [
           "triangle-up"
          ]
         },
         "mode": "markers",
         "name": "TSS",
         "orientation": "h",
         "showlegend": false,
         "type": "scatter",
         "x": [
          0.977013509090909
         ],
         "xaxis": "x5",
         "y": [
          0.8702
         ],
         "yaxis": "y5"
        },
        {
         "legendgroup": "TSS",
         "marker": {
          "color": [
           "blueviolet"
          ],
          "size": 8,
          "symbol": [
           "triangle-up"
          ]
         },
         "mode": "markers",
         "name": "TSS",
         "orientation": "h",
         "showlegend": false,
         "type": "scatter",
         "x": [
          139.4
         ],
         "xaxis": "x10",
         "y": [
          0.8702
         ],
         "yaxis": "y10"
        },
        {
         "legendgroup": "UCBS",
         "marker": {
          "color": [
           "maroon"
          ],
          "size": 8,
          "symbol": [
           "x"
          ]
         },
         "mode": "markers",
         "name": "UCBS",
         "orientation": "h",
         "showlegend": false,
         "type": "scatter",
         "x": [
          0.9757098454545455
         ],
         "xaxis": "x5",
         "y": [
          0.9512
         ],
         "yaxis": "y5"
        },
        {
         "legendgroup": "UCBS",
         "marker": {
          "color": [
           "maroon"
          ],
          "size": 8,
          "symbol": [
           "x"
          ]
         },
         "mode": "markers",
         "name": "UCBS",
         "orientation": "h",
         "showlegend": false,
         "type": "scatter",
         "x": [
          51.4
         ],
         "xaxis": "x10",
         "y": [
          0.9512
         ],
         "yaxis": "y10"
        },
        {
         "legendgroup": "EGS",
         "marker": {
          "color": [
           "darkgray"
          ],
          "size": 8,
          "symbol": [
           "diamond"
          ]
         },
         "mode": "markers",
         "name": "EGS",
         "orientation": "h",
         "showlegend": false,
         "type": "scatter",
         "x": [
          0.9751118272727273
         ],
         "xaxis": "x5",
         "y": [
          0.8798
         ],
         "yaxis": "y5"
        },
        {
         "legendgroup": "EGS",
         "marker": {
          "color": [
           "darkgray"
          ],
          "size": 8,
          "symbol": [
           "diamond"
          ]
         },
         "mode": "markers",
         "name": "EGS",
         "orientation": "h",
         "showlegend": false,
         "type": "scatter",
         "x": [
          123.8
         ],
         "xaxis": "x10",
         "y": [
          0.8798
         ],
         "yaxis": "y10"
        }
       ],
       "layout": {
        "annotations": [
         {
          "font": {
           "size": 20
          },
          "showarrow": false,
          "text": "$\\sigma_{\\Delta}^2 = 0.05$",
          "x": 0.088,
          "xanchor": "center",
          "xref": "paper",
          "y": 1,
          "yanchor": "bottom",
          "yref": "paper"
         },
         {
          "font": {
           "size": 20
          },
          "showarrow": false,
          "text": "$\\sigma_{\\Delta}^2 = 0.1$",
          "x": 0.294,
          "xanchor": "center",
          "xref": "paper",
          "y": 1,
          "yanchor": "bottom",
          "yref": "paper"
         },
         {
          "font": {
           "size": 20
          },
          "showarrow": false,
          "text": "$\\sigma_{\\Delta}^2 = 0.2$",
          "x": 0.5,
          "xanchor": "center",
          "xref": "paper",
          "y": 1,
          "yanchor": "bottom",
          "yref": "paper"
         },
         {
          "font": {
           "size": 20
          },
          "showarrow": false,
          "text": "$\\sigma_{\\Delta}^2 = 0.5$",
          "x": 0.706,
          "xanchor": "center",
          "xref": "paper",
          "y": 1,
          "yanchor": "bottom",
          "yref": "paper"
         },
         {
          "font": {
           "size": 20
          },
          "showarrow": false,
          "text": "$\\sigma_{\\Delta}^2 = 1$",
          "x": 0.9119999999999999,
          "xanchor": "center",
          "xref": "paper",
          "y": 1,
          "yanchor": "bottom",
          "yref": "paper"
         },
         {
          "font": {
           "size": 20
          },
          "showarrow": false,
          "text": "Power",
          "textangle": -90,
          "x": 0,
          "xanchor": "right",
          "xref": "paper",
          "xshift": -40,
          "y": 0.5,
          "yanchor": "middle",
          "yref": "paper"
         }
        ],
        "font": {
         "size": 16
        },
        "height": 800,
        "legend": {
         "orientation": "h",
         "x": 0.33,
         "y": -0.15
        },
        "plot_bgcolor": "rgb(242,242,242)",
        "shapes": [
         {
          "type": "line",
          "x0": 0,
          "x1": 1,
          "xref": "x domain",
          "y0": 0.8,
          "y1": 0.8,
          "yref": "y"
         },
         {
          "type": "line",
          "x0": 0,
          "x1": 1,
          "xref": "x2 domain",
          "y0": 0.8,
          "y1": 0.8,
          "yref": "y2"
         },
         {
          "type": "line",
          "x0": 0,
          "x1": 1,
          "xref": "x3 domain",
          "y0": 0.8,
          "y1": 0.8,
          "yref": "y3"
         },
         {
          "type": "line",
          "x0": 0,
          "x1": 1,
          "xref": "x4 domain",
          "y0": 0.8,
          "y1": 0.8,
          "yref": "y4"
         },
         {
          "type": "line",
          "x0": 0,
          "x1": 1,
          "xref": "x5 domain",
          "y0": 0.8,
          "y1": 0.8,
          "yref": "y5"
         },
         {
          "type": "line",
          "x0": 0,
          "x1": 1,
          "xref": "x6 domain",
          "y0": 0.8,
          "y1": 0.8,
          "yref": "y6"
         },
         {
          "type": "line",
          "x0": 0,
          "x1": 1,
          "xref": "x7 domain",
          "y0": 0.8,
          "y1": 0.8,
          "yref": "y7"
         },
         {
          "type": "line",
          "x0": 0,
          "x1": 1,
          "xref": "x8 domain",
          "y0": 0.8,
          "y1": 0.8,
          "yref": "y8"
         },
         {
          "type": "line",
          "x0": 0,
          "x1": 1,
          "xref": "x9 domain",
          "y0": 0.8,
          "y1": 0.8,
          "yref": "y9"
         },
         {
          "type": "line",
          "x0": 0,
          "x1": 1,
          "xref": "x10 domain",
          "y0": 0.8,
          "y1": 0.8,
          "yref": "y10"
         }
        ],
        "template": {
         "data": {
          "bar": [
           {
            "error_x": {
             "color": "#2a3f5f"
            },
            "error_y": {
             "color": "#2a3f5f"
            },
            "marker": {
             "line": {
              "color": "#E5ECF6",
              "width": 0.5
             },
             "pattern": {
              "fillmode": "overlay",
              "size": 10,
              "solidity": 0.2
             }
            },
            "type": "bar"
           }
          ],
          "barpolar": [
           {
            "marker": {
             "line": {
              "color": "#E5ECF6",
              "width": 0.5
             },
             "pattern": {
              "fillmode": "overlay",
              "size": 10,
              "solidity": 0.2
             }
            },
            "type": "barpolar"
           }
          ],
          "carpet": [
           {
            "aaxis": {
             "endlinecolor": "#2a3f5f",
             "gridcolor": "white",
             "linecolor": "white",
             "minorgridcolor": "white",
             "startlinecolor": "#2a3f5f"
            },
            "baxis": {
             "endlinecolor": "#2a3f5f",
             "gridcolor": "white",
             "linecolor": "white",
             "minorgridcolor": "white",
             "startlinecolor": "#2a3f5f"
            },
            "type": "carpet"
           }
          ],
          "choropleth": [
           {
            "colorbar": {
             "outlinewidth": 0,
             "ticks": ""
            },
            "type": "choropleth"
           }
          ],
          "contour": [
           {
            "colorbar": {
             "outlinewidth": 0,
             "ticks": ""
            },
            "colorscale": [
             [
              0,
              "#0d0887"
             ],
             [
              0.1111111111111111,
              "#46039f"
             ],
             [
              0.2222222222222222,
              "#7201a8"
             ],
             [
              0.3333333333333333,
              "#9c179e"
             ],
             [
              0.4444444444444444,
              "#bd3786"
             ],
             [
              0.5555555555555556,
              "#d8576b"
             ],
             [
              0.6666666666666666,
              "#ed7953"
             ],
             [
              0.7777777777777778,
              "#fb9f3a"
             ],
             [
              0.8888888888888888,
              "#fdca26"
             ],
             [
              1,
              "#f0f921"
             ]
            ],
            "type": "contour"
           }
          ],
          "contourcarpet": [
           {
            "colorbar": {
             "outlinewidth": 0,
             "ticks": ""
            },
            "type": "contourcarpet"
           }
          ],
          "heatmap": [
           {
            "colorbar": {
             "outlinewidth": 0,
             "ticks": ""
            },
            "colorscale": [
             [
              0,
              "#0d0887"
             ],
             [
              0.1111111111111111,
              "#46039f"
             ],
             [
              0.2222222222222222,
              "#7201a8"
             ],
             [
              0.3333333333333333,
              "#9c179e"
             ],
             [
              0.4444444444444444,
              "#bd3786"
             ],
             [
              0.5555555555555556,
              "#d8576b"
             ],
             [
              0.6666666666666666,
              "#ed7953"
             ],
             [
              0.7777777777777778,
              "#fb9f3a"
             ],
             [
              0.8888888888888888,
              "#fdca26"
             ],
             [
              1,
              "#f0f921"
             ]
            ],
            "type": "heatmap"
           }
          ],
          "heatmapgl": [
           {
            "colorbar": {
             "outlinewidth": 0,
             "ticks": ""
            },
            "colorscale": [
             [
              0,
              "#0d0887"
             ],
             [
              0.1111111111111111,
              "#46039f"
             ],
             [
              0.2222222222222222,
              "#7201a8"
             ],
             [
              0.3333333333333333,
              "#9c179e"
             ],
             [
              0.4444444444444444,
              "#bd3786"
             ],
             [
              0.5555555555555556,
              "#d8576b"
             ],
             [
              0.6666666666666666,
              "#ed7953"
             ],
             [
              0.7777777777777778,
              "#fb9f3a"
             ],
             [
              0.8888888888888888,
              "#fdca26"
             ],
             [
              1,
              "#f0f921"
             ]
            ],
            "type": "heatmapgl"
           }
          ],
          "histogram": [
           {
            "marker": {
             "pattern": {
              "fillmode": "overlay",
              "size": 10,
              "solidity": 0.2
             }
            },
            "type": "histogram"
           }
          ],
          "histogram2d": [
           {
            "colorbar": {
             "outlinewidth": 0,
             "ticks": ""
            },
            "colorscale": [
             [
              0,
              "#0d0887"
             ],
             [
              0.1111111111111111,
              "#46039f"
             ],
             [
              0.2222222222222222,
              "#7201a8"
             ],
             [
              0.3333333333333333,
              "#9c179e"
             ],
             [
              0.4444444444444444,
              "#bd3786"
             ],
             [
              0.5555555555555556,
              "#d8576b"
             ],
             [
              0.6666666666666666,
              "#ed7953"
             ],
             [
              0.7777777777777778,
              "#fb9f3a"
             ],
             [
              0.8888888888888888,
              "#fdca26"
             ],
             [
              1,
              "#f0f921"
             ]
            ],
            "type": "histogram2d"
           }
          ],
          "histogram2dcontour": [
           {
            "colorbar": {
             "outlinewidth": 0,
             "ticks": ""
            },
            "colorscale": [
             [
              0,
              "#0d0887"
             ],
             [
              0.1111111111111111,
              "#46039f"
             ],
             [
              0.2222222222222222,
              "#7201a8"
             ],
             [
              0.3333333333333333,
              "#9c179e"
             ],
             [
              0.4444444444444444,
              "#bd3786"
             ],
             [
              0.5555555555555556,
              "#d8576b"
             ],
             [
              0.6666666666666666,
              "#ed7953"
             ],
             [
              0.7777777777777778,
              "#fb9f3a"
             ],
             [
              0.8888888888888888,
              "#fdca26"
             ],
             [
              1,
              "#f0f921"
             ]
            ],
            "type": "histogram2dcontour"
           }
          ],
          "mesh3d": [
           {
            "colorbar": {
             "outlinewidth": 0,
             "ticks": ""
            },
            "type": "mesh3d"
           }
          ],
          "parcoords": [
           {
            "line": {
             "colorbar": {
              "outlinewidth": 0,
              "ticks": ""
             }
            },
            "type": "parcoords"
           }
          ],
          "pie": [
           {
            "automargin": true,
            "type": "pie"
           }
          ],
          "scatter": [
           {
            "fillpattern": {
             "fillmode": "overlay",
             "size": 10,
             "solidity": 0.2
            },
            "type": "scatter"
           }
          ],
          "scatter3d": [
           {
            "line": {
             "colorbar": {
              "outlinewidth": 0,
              "ticks": ""
             }
            },
            "marker": {
             "colorbar": {
              "outlinewidth": 0,
              "ticks": ""
             }
            },
            "type": "scatter3d"
           }
          ],
          "scattercarpet": [
           {
            "marker": {
             "colorbar": {
              "outlinewidth": 0,
              "ticks": ""
             }
            },
            "type": "scattercarpet"
           }
          ],
          "scattergeo": [
           {
            "marker": {
             "colorbar": {
              "outlinewidth": 0,
              "ticks": ""
             }
            },
            "type": "scattergeo"
           }
          ],
          "scattergl": [
           {
            "marker": {
             "colorbar": {
              "outlinewidth": 0,
              "ticks": ""
             }
            },
            "type": "scattergl"
           }
          ],
          "scattermapbox": [
           {
            "marker": {
             "colorbar": {
              "outlinewidth": 0,
              "ticks": ""
             }
            },
            "type": "scattermapbox"
           }
          ],
          "scatterpolar": [
           {
            "marker": {
             "colorbar": {
              "outlinewidth": 0,
              "ticks": ""
             }
            },
            "type": "scatterpolar"
           }
          ],
          "scatterpolargl": [
           {
            "marker": {
             "colorbar": {
              "outlinewidth": 0,
              "ticks": ""
             }
            },
            "type": "scatterpolargl"
           }
          ],
          "scatterternary": [
           {
            "marker": {
             "colorbar": {
              "outlinewidth": 0,
              "ticks": ""
             }
            },
            "type": "scatterternary"
           }
          ],
          "surface": [
           {
            "colorbar": {
             "outlinewidth": 0,
             "ticks": ""
            },
            "colorscale": [
             [
              0,
              "#0d0887"
             ],
             [
              0.1111111111111111,
              "#46039f"
             ],
             [
              0.2222222222222222,
              "#7201a8"
             ],
             [
              0.3333333333333333,
              "#9c179e"
             ],
             [
              0.4444444444444444,
              "#bd3786"
             ],
             [
              0.5555555555555556,
              "#d8576b"
             ],
             [
              0.6666666666666666,
              "#ed7953"
             ],
             [
              0.7777777777777778,
              "#fb9f3a"
             ],
             [
              0.8888888888888888,
              "#fdca26"
             ],
             [
              1,
              "#f0f921"
             ]
            ],
            "type": "surface"
           }
          ],
          "table": [
           {
            "cells": {
             "fill": {
              "color": "#EBF0F8"
             },
             "line": {
              "color": "white"
             }
            },
            "header": {
             "fill": {
              "color": "#C8D4E3"
             },
             "line": {
              "color": "white"
             }
            },
            "type": "table"
           }
          ]
         },
         "layout": {
          "annotationdefaults": {
           "arrowcolor": "#2a3f5f",
           "arrowhead": 0,
           "arrowwidth": 1
          },
          "autotypenumbers": "strict",
          "coloraxis": {
           "colorbar": {
            "outlinewidth": 0,
            "ticks": ""
           }
          },
          "colorscale": {
           "diverging": [
            [
             0,
             "#8e0152"
            ],
            [
             0.1,
             "#c51b7d"
            ],
            [
             0.2,
             "#de77ae"
            ],
            [
             0.3,
             "#f1b6da"
            ],
            [
             0.4,
             "#fde0ef"
            ],
            [
             0.5,
             "#f7f7f7"
            ],
            [
             0.6,
             "#e6f5d0"
            ],
            [
             0.7,
             "#b8e186"
            ],
            [
             0.8,
             "#7fbc41"
            ],
            [
             0.9,
             "#4d9221"
            ],
            [
             1,
             "#276419"
            ]
           ],
           "sequential": [
            [
             0,
             "#0d0887"
            ],
            [
             0.1111111111111111,
             "#46039f"
            ],
            [
             0.2222222222222222,
             "#7201a8"
            ],
            [
             0.3333333333333333,
             "#9c179e"
            ],
            [
             0.4444444444444444,
             "#bd3786"
            ],
            [
             0.5555555555555556,
             "#d8576b"
            ],
            [
             0.6666666666666666,
             "#ed7953"
            ],
            [
             0.7777777777777778,
             "#fb9f3a"
            ],
            [
             0.8888888888888888,
             "#fdca26"
            ],
            [
             1,
             "#f0f921"
            ]
           ],
           "sequentialminus": [
            [
             0,
             "#0d0887"
            ],
            [
             0.1111111111111111,
             "#46039f"
            ],
            [
             0.2222222222222222,
             "#7201a8"
            ],
            [
             0.3333333333333333,
             "#9c179e"
            ],
            [
             0.4444444444444444,
             "#bd3786"
            ],
            [
             0.5555555555555556,
             "#d8576b"
            ],
            [
             0.6666666666666666,
             "#ed7953"
            ],
            [
             0.7777777777777778,
             "#fb9f3a"
            ],
            [
             0.8888888888888888,
             "#fdca26"
            ],
            [
             1,
             "#f0f921"
            ]
           ]
          },
          "colorway": [
           "#636efa",
           "#EF553B",
           "#00cc96",
           "#ab63fa",
           "#FFA15A",
           "#19d3f3",
           "#FF6692",
           "#B6E880",
           "#FF97FF",
           "#FECB52"
          ],
          "font": {
           "color": "#2a3f5f"
          },
          "geo": {
           "bgcolor": "white",
           "lakecolor": "white",
           "landcolor": "#E5ECF6",
           "showlakes": true,
           "showland": true,
           "subunitcolor": "white"
          },
          "hoverlabel": {
           "align": "left"
          },
          "hovermode": "closest",
          "mapbox": {
           "style": "light"
          },
          "paper_bgcolor": "white",
          "plot_bgcolor": "#E5ECF6",
          "polar": {
           "angularaxis": {
            "gridcolor": "white",
            "linecolor": "white",
            "ticks": ""
           },
           "bgcolor": "#E5ECF6",
           "radialaxis": {
            "gridcolor": "white",
            "linecolor": "white",
            "ticks": ""
           }
          },
          "scene": {
           "xaxis": {
            "backgroundcolor": "#E5ECF6",
            "gridcolor": "white",
            "gridwidth": 2,
            "linecolor": "white",
            "showbackground": true,
            "ticks": "",
            "zerolinecolor": "white"
           },
           "yaxis": {
            "backgroundcolor": "#E5ECF6",
            "gridcolor": "white",
            "gridwidth": 2,
            "linecolor": "white",
            "showbackground": true,
            "ticks": "",
            "zerolinecolor": "white"
           },
           "zaxis": {
            "backgroundcolor": "#E5ECF6",
            "gridcolor": "white",
            "gridwidth": 2,
            "linecolor": "white",
            "showbackground": true,
            "ticks": "",
            "zerolinecolor": "white"
           }
          },
          "shapedefaults": {
           "line": {
            "color": "#2a3f5f"
           }
          },
          "ternary": {
           "aaxis": {
            "gridcolor": "white",
            "linecolor": "white",
            "ticks": ""
           },
           "baxis": {
            "gridcolor": "white",
            "linecolor": "white",
            "ticks": ""
           },
           "bgcolor": "#E5ECF6",
           "caxis": {
            "gridcolor": "white",
            "linecolor": "white",
            "ticks": ""
           }
          },
          "title": {
           "x": 0.05
          },
          "xaxis": {
           "automargin": true,
           "gridcolor": "white",
           "linecolor": "white",
           "ticks": "",
           "title": {
            "standoff": 15
           },
           "zerolinecolor": "white",
           "zerolinewidth": 2
          },
          "yaxis": {
           "automargin": true,
           "gridcolor": "white",
           "linecolor": "white",
           "ticks": "",
           "title": {
            "standoff": 15
           },
           "zerolinecolor": "white",
           "zerolinewidth": 2
          }
         }
        },
        "width": 1600,
        "xaxis": {
         "anchor": "y",
         "domain": [
          0,
          0.176
         ],
         "range": [
          0.9,
          1
         ],
         "type": "linear"
        },
        "xaxis10": {
         "anchor": "y10",
         "domain": [
          0.824,
          1
         ],
         "range": [
          0,
          1100
         ],
         "type": "linear"
        },
        "xaxis2": {
         "anchor": "y2",
         "domain": [
          0.206,
          0.382
         ],
         "range": [
          0.9,
          1
         ],
         "type": "linear"
        },
        "xaxis3": {
         "anchor": "y3",
         "domain": [
          0.412,
          0.588
         ],
         "range": [
          0.9,
          1
         ],
         "title": {
          "text": "Normalized averaged rewards"
         },
         "type": "linear"
        },
        "xaxis4": {
         "anchor": "y4",
         "domain": [
          0.618,
          0.794
         ],
         "range": [
          0.9,
          1
         ],
         "type": "linear"
        },
        "xaxis5": {
         "anchor": "y5",
         "domain": [
          0.824,
          1
         ],
         "range": [
          0.9,
          1
         ],
         "type": "linear"
        },
        "xaxis6": {
         "anchor": "y6",
         "domain": [
          0,
          0.176
         ],
         "range": [
          0,
          1100
         ],
         "type": "linear"
        },
        "xaxis7": {
         "anchor": "y7",
         "domain": [
          0.206,
          0.382
         ],
         "range": [
          0,
          1100
         ],
         "type": "linear"
        },
        "xaxis8": {
         "anchor": "y8",
         "domain": [
          0.412,
          0.588
         ],
         "range": [
          0,
          1100
         ],
         "title": {
          "text": "Averaged sample size per arm"
         },
         "type": "linear"
        },
        "xaxis9": {
         "anchor": "y9",
         "domain": [
          0.618,
          0.794
         ],
         "range": [
          0,
          1100
         ],
         "type": "linear"
        },
        "yaxis": {
         "anchor": "x",
         "autorange": true,
         "domain": [
          0.575,
          1
         ],
         "range": [
          -0.07786124468738338,
          1.0294612446873834
         ],
         "type": "linear"
        },
        "yaxis10": {
         "anchor": "x10",
         "autorange": true,
         "domain": [
          0,
          0.425
         ],
         "matches": "y6",
         "range": [
          -0.07786124468738338,
          1.0294612446873834
         ],
         "showticklabels": false,
         "type": "linear"
        },
        "yaxis2": {
         "anchor": "x2",
         "autorange": true,
         "domain": [
          0.575,
          1
         ],
         "matches": "y",
         "range": [
          -0.07786124468738338,
          1.0294612446873834
         ],
         "showticklabels": false,
         "type": "linear"
        },
        "yaxis3": {
         "anchor": "x3",
         "autorange": true,
         "domain": [
          0.575,
          1
         ],
         "matches": "y",
         "range": [
          -0.07786124468738338,
          1.0294612446873834
         ],
         "showticklabels": false,
         "type": "linear"
        },
        "yaxis4": {
         "anchor": "x4",
         "autorange": true,
         "domain": [
          0.575,
          1
         ],
         "matches": "y",
         "range": [
          -0.07786124468738338,
          1.0294612446873834
         ],
         "showticklabels": false,
         "type": "linear"
        },
        "yaxis5": {
         "anchor": "x5",
         "autorange": true,
         "domain": [
          0.575,
          1
         ],
         "matches": "y",
         "range": [
          -0.07786124468738338,
          1.0294612446873834
         ],
         "showticklabels": false,
         "type": "linear"
        },
        "yaxis6": {
         "anchor": "x6",
         "autorange": true,
         "domain": [
          0,
          0.425
         ],
         "range": [
          -0.07786124468738338,
          1.0294612446873834
         ],
         "type": "linear"
        },
        "yaxis7": {
         "anchor": "x7",
         "autorange": true,
         "domain": [
          0,
          0.425
         ],
         "matches": "y6",
         "range": [
          -0.07786124468738338,
          1.0294612446873834
         ],
         "showticklabels": false,
         "type": "linear"
        },
        "yaxis8": {
         "anchor": "x8",
         "autorange": true,
         "domain": [
          0,
          0.425
         ],
         "matches": "y6",
         "range": [
          -0.07786124468738338,
          1.0294612446873834
         ],
         "showticklabels": false,
         "type": "linear"
        },
        "yaxis9": {
         "anchor": "x9",
         "autorange": true,
         "domain": [
          0,
          0.425
         ],
         "matches": "y6",
         "range": [
          -0.07786124468738338,
          1.0294612446873834
         ],
         "showticklabels": false,
         "type": "linear"
        }
       }
      },
      "image/png": "[encoded data removed]",
      "text/html": [
       "<div>                            <div id=\"fcf3eb56-5a61-4f47-8702-7dc52895bf1b\" class=\"plotly-graph-div\" style=\"height:800px; width:1600px;\"></div>            <script type=\"text/javascript\">                require([\"plotly\"], function(Plotly) {                    window.PLOTLYENV=window.PLOTLYENV || {};                                    if (document.getElementById(\"fcf3eb56-5a61-4f47-8702-7dc52895bf1b\")) {                    Plotly.newPlot(                        \"fcf3eb56-5a61-4f47-8702-7dc52895bf1b\",                        [{\"legendgroup\":\"ES\",\"marker\":{\"color\":[\"red\"],\"size\":8,\"symbol\":[\"square\"]},\"mode\":\"markers\",\"name\":\"ES\",\"orientation\":\"h\",\"showlegend\":true,\"x\":[0.9102404545454544],\"xaxis\":\"x\",\"y\":[0.2164],\"yaxis\":\"y\",\"type\":\"scatter\"},{\"legendgroup\":\"ES\",\"marker\":{\"color\":[\"red\"],\"size\":8,\"symbol\":[\"square\"]},\"mode\":\"markers\",\"name\":\"ES\",\"orientation\":\"h\",\"showlegend\":false,\"x\":[598.4],\"xaxis\":\"x6\",\"y\":[0.2164],\"yaxis\":\"y6\",\"type\":\"scatter\"},{\"legendgroup\":\"A/B\",\"marker\":{\"color\":[\"lime\"],\"size\":8,\"symbol\":[\"circle\"]},\"mode\":\"markers\",\"name\":\"A/B\",\"orientation\":\"h\",\"showlegend\":true,\"x\":[0.9090739663636364],\"xaxis\":\"x\",\"y\":[0.1132],\"yaxis\":\"y\",\"type\":\"scatter\"},{\"legendgroup\":\"A/B\",\"marker\":{\"color\":[\"lime\"],\"size\":8,\"symbol\":[\"circle\"]},\"mode\":\"markers\",\"name\":\"A/B\",\"orientation\":\"h\",\"showlegend\":false,\"x\":[1000.0],\"xaxis\":\"x6\",\"y\":[0.1132],\"yaxis\":\"y6\",\"type\":\"scatter\"},{\"legendgroup\":\"UES\",\"marker\":{\"color\":[\"yellowgreen\"],\"size\":8,\"symbol\":[\"star\"]},\"mode\":\"markers\",\"name\":\"UES\",\"orientation\":\"h\",\"showlegend\":true,\"x\":[0.9093447818181818],\"xaxis\":\"x\",\"y\":[0.1282],\"yaxis\":\"y\",\"type\":\"scatter\"},{\"legendgroup\":\"UES\",\"marker\":{\"color\":[\"yellowgreen\"],\"size\":8,\"symbol\":[\"star\"]},\"mode\":\"markers\",\"name\":\"UES\",\"orientation\":\"h\",\"showlegend\":false,\"x\":[647.6],\"xaxis\":\"x6\",\"y\":[0.1282],\"yaxis\":\"y6\",\"type\":\"scatter\"},{\"legendgroup\":\"TSS\",\"marker\":{\"color\":[\"blueviolet\"],\"size\":8,\"symbol\":[\"triangle-up\"]},\"mode\":\"markers\",\"name\":\"TSS\",\"orientation\":\"h\",\"showlegend\":true,\"x\":[0.9114477999999999],\"xaxis\":\"x\",\"y\":[0.0004],\"yaxis\":\"y\",\"type\":\"scatter\"},{\"legendgroup\":\"TSS\",\"marker\":{\"color\":[\"blueviolet\"],\"size\":8,\"symbol\":[\"triangle-up\"]},\"mode\":\"markers\",\"name\":\"TSS\",\"orientation\":\"h\",\"showlegend\":false,\"x\":[524.0],\"xaxis\":\"x6\",\"y\":[0.0004],\"yaxis\":\"y6\",\"type\":\"scatter\"},{\"legendgroup\":\"UCBS\",\"marker\":{\"color\":[\"maroon\"],\"size\":8,\"symbol\":[\"x\"]},\"mode\":\"markers\",\"name\":\"UCBS\",\"orientation\":\"h\",\"showlegend\":true,\"x\":[0.910293290909091],\"xaxis\":\"x\",\"y\":[0.1694],\"yaxis\":\"y\",\"type\":\"scatter\"},{\"legendgroup\":\"UCBS\",\"marker\":{\"color\":[\"maroon\"],\"size\":8,\"symbol\":[\"x\"]},\"mode\":\"markers\",\"name\":\"UCBS\",\"orientation\":\"h\",\"showlegend\":false,\"x\":[638.6],\"xaxis\":\"x6\",\"y\":[0.1694],\"yaxis\":\"y6\",\"type\":\"scatter\"},{\"legendgroup\":\"EGS\",\"marker\":{\"color\":[\"darkgray\"],\"size\":8,\"symbol\":[\"diamond\"]},\"mode\":\"markers\",\"name\":\"EGS\",\"orientation\":\"h\",\"showlegend\":true,\"x\":[0.9113588545454546],\"xaxis\":\"x\",\"y\":[0.0028],\"yaxis\":\"y\",\"type\":\"scatter\"},{\"legendgroup\":\"EGS\",\"marker\":{\"color\":[\"darkgray\"],\"size\":8,\"symbol\":[\"diamond\"]},\"mode\":\"markers\",\"name\":\"EGS\",\"orientation\":\"h\",\"showlegend\":false,\"x\":[808.0],\"xaxis\":\"x6\",\"y\":[0.0028],\"yaxis\":\"y6\",\"type\":\"scatter\"},{\"legendgroup\":\"ES\",\"marker\":{\"color\":[\"red\"],\"size\":8,\"symbol\":[\"square\"]},\"mode\":\"markers\",\"name\":\"ES\",\"orientation\":\"h\",\"showlegend\":false,\"x\":[0.9139077454545455],\"xaxis\":\"x2\",\"y\":[0.5452],\"yaxis\":\"y2\",\"type\":\"scatter\"},{\"legendgroup\":\"ES\",\"marker\":{\"color\":[\"red\"],\"size\":8,\"symbol\":[\"square\"]},\"mode\":\"markers\",\"name\":\"ES\",\"orientation\":\"h\",\"showlegend\":false,\"x\":[380.2],\"xaxis\":\"x7\",\"y\":[0.5452],\"yaxis\":\"y7\",\"type\":\"scatter\"},{\"legendgroup\":\"A/B\",\"marker\":{\"color\":[\"lime\"],\"size\":8,\"symbol\":[\"circle\"]},\"mode\":\"markers\",\"name\":\"A/B\",\"orientation\":\"h\",\"showlegend\":false,\"x\":[0.9090776972727272],\"xaxis\":\"x2\",\"y\":[0.3732],\"yaxis\":\"y2\",\"type\":\"scatter\"},{\"legendgroup\":\"A/B\",\"marker\":{\"color\":[\"lime\"],\"size\":8,\"symbol\":[\"circle\"]},\"mode\":\"markers\",\"name\":\"A/B\",\"orientation\":\"h\",\"showlegend\":false,\"x\":[1000.0],\"xaxis\":\"x7\",\"y\":[0.3732],\"yaxis\":\"y7\",\"type\":\"scatter\"},{\"legendgroup\":\"UES\",\"marker\":{\"color\":[\"yellowgreen\"],\"size\":8,\"symbol\":[\"star\"]},\"mode\":\"markers\",\"name\":\"UES\",\"orientation\":\"h\",\"showlegend\":false,\"x\":[0.9114882272727273],\"xaxis\":\"x2\",\"y\":[0.4208],\"yaxis\":\"y2\",\"type\":\"scatter\"},{\"legendgroup\":\"UES\",\"marker\":{\"color\":[\"yellowgreen\"],\"size\":8,\"symbol\":[\"star\"]},\"mode\":\"markers\",\"name\":\"UES\",\"orientation\":\"h\",\"showlegend\":false,\"x\":[424.2],\"xaxis\":\"x7\",\"y\":[0.4208],\"yaxis\":\"y7\",\"type\":\"scatter\"},{\"legendgroup\":\"TSS\",\"marker\":{\"color\":[\"blueviolet\"],\"size\":8,\"symbol\":[\"triangle-up\"]},\"mode\":\"markers\",\"name\":\"TSS\",\"orientation\":\"h\",\"showlegend\":false,\"x\":[0.9149528],\"xaxis\":\"x2\",\"y\":[0.0166],\"yaxis\":\"y2\",\"type\":\"scatter\"},{\"legendgroup\":\"TSS\",\"marker\":{\"color\":[\"blueviolet\"],\"size\":8,\"symbol\":[\"triangle-up\"]},\"mode\":\"markers\",\"name\":\"TSS\",\"orientation\":\"h\",\"showlegend\":false,\"x\":[686.4],\"xaxis\":\"x7\",\"y\":[0.0166],\"yaxis\":\"y7\",\"type\":\"scatter\"},{\"legendgroup\":\"UCBS\",\"marker\":{\"color\":[\"maroon\"],\"size\":8,\"symbol\":[\"x\"]},\"mode\":\"markers\",\"name\":\"UCBS\",\"orientation\":\"h\",\"showlegend\":false,\"x\":[0.9136733181818181],\"xaxis\":\"x2\",\"y\":[0.5026],\"yaxis\":\"y2\",\"type\":\"scatter\"},{\"legendgroup\":\"UCBS\",\"marker\":{\"color\":[\"maroon\"],\"size\":8,\"symbol\":[\"x\"]},\"mode\":\"markers\",\"name\":\"UCBS\",\"orientation\":\"h\",\"showlegend\":false,\"x\":[411.2],\"xaxis\":\"x7\",\"y\":[0.5026],\"yaxis\":\"y7\",\"type\":\"scatter\"},{\"legendgroup\":\"EGS\",\"marker\":{\"color\":[\"darkgray\"],\"size\":8,\"symbol\":[\"diamond\"]},\"mode\":\"markers\",\"name\":\"EGS\",\"orientation\":\"h\",\"showlegend\":false,\"x\":[0.9143902909090909],\"xaxis\":\"x2\",\"y\":[0.1198],\"yaxis\":\"y2\",\"type\":\"scatter\"},{\"legendgroup\":\"EGS\",\"marker\":{\"color\":[\"darkgray\"],\"size\":8,\"symbol\":[\"diamond\"]},\"mode\":\"markers\",\"name\":\"EGS\",\"orientation\":\"h\",\"showlegend\":false,\"x\":[673.4],\"xaxis\":\"x7\",\"y\":[0.1198],\"yaxis\":\"y7\",\"type\":\"scatter\"},{\"legendgroup\":\"ES\",\"marker\":{\"color\":[\"red\"],\"size\":8,\"symbol\":[\"square\"]},\"mode\":\"markers\",\"name\":\"ES\",\"orientation\":\"h\",\"showlegend\":false,\"x\":[0.9212567818181818],\"xaxis\":\"x3\",\"y\":[0.7728],\"yaxis\":\"y3\",\"type\":\"scatter\"},{\"legendgroup\":\"ES\",\"marker\":{\"color\":[\"red\"],\"size\":8,\"symbol\":[\"square\"]},\"mode\":\"markers\",\"name\":\"ES\",\"orientation\":\"h\",\"showlegend\":false,\"x\":[214.4],\"xaxis\":\"x8\",\"y\":[0.7728],\"yaxis\":\"y8\",\"type\":\"scatter\"},{\"legendgroup\":\"A/B\",\"marker\":{\"color\":[\"lime\"],\"size\":8,\"symbol\":[\"circle\"]},\"mode\":\"markers\",\"name\":\"A/B\",\"orientation\":\"h\",\"showlegend\":false,\"x\":[0.9090018036363637],\"xaxis\":\"x3\",\"y\":[0.633],\"yaxis\":\"y3\",\"type\":\"scatter\"},{\"legendgroup\":\"A/B\",\"marker\":{\"color\":[\"lime\"],\"size\":8,\"symbol\":[\"circle\"]},\"mode\":\"markers\",\"name\":\"A/B\",\"orientation\":\"h\",\"showlegend\":false,\"x\":[1000.0],\"xaxis\":\"x8\",\"y\":[0.633],\"yaxis\":\"y8\",\"type\":\"scatter\"},{\"legendgroup\":\"UES\",\"marker\":{\"color\":[\"yellowgreen\"],\"size\":8,\"symbol\":[\"star\"]},\"mode\":\"markers\",\"name\":\"UES\",\"orientation\":\"h\",\"showlegend\":false,\"x\":[0.9176386181818181],\"xaxis\":\"x3\",\"y\":[0.681],\"yaxis\":\"y3\",\"type\":\"scatter\"},{\"legendgroup\":\"UES\",\"marker\":{\"color\":[\"yellowgreen\"],\"size\":8,\"symbol\":[\"star\"]},\"mode\":\"markers\",\"name\":\"UES\",\"orientation\":\"h\",\"showlegend\":false,\"x\":[259.6],\"xaxis\":\"x8\",\"y\":[0.681],\"yaxis\":\"y8\",\"type\":\"scatter\"},{\"legendgroup\":\"TSS\",\"marker\":{\"color\":[\"blueviolet\"],\"size\":8,\"symbol\":[\"triangle-up\"]},\"mode\":\"markers\",\"name\":\"TSS\",\"orientation\":\"h\",\"showlegend\":false,\"x\":[0.9218061727272727],\"xaxis\":\"x3\",\"y\":[0.2452],\"yaxis\":\"y3\",\"type\":\"scatter\"},{\"legendgroup\":\"TSS\",\"marker\":{\"color\":[\"blueviolet\"],\"size\":8,\"symbol\":[\"triangle-up\"]},\"mode\":\"markers\",\"name\":\"TSS\",\"orientation\":\"h\",\"showlegend\":false,\"x\":[643.6],\"xaxis\":\"x8\",\"y\":[0.2452],\"yaxis\":\"y8\",\"type\":\"scatter\"},{\"legendgroup\":\"UCBS\",\"marker\":{\"color\":[\"maroon\"],\"size\":8,\"symbol\":[\"x\"]},\"mode\":\"markers\",\"name\":\"UCBS\",\"orientation\":\"h\",\"showlegend\":false,\"x\":[0.9208519],\"xaxis\":\"x3\",\"y\":[0.7412],\"yaxis\":\"y3\",\"type\":\"scatter\"},{\"legendgroup\":\"UCBS\",\"marker\":{\"color\":[\"maroon\"],\"size\":8,\"symbol\":[\"x\"]},\"mode\":\"markers\",\"name\":\"UCBS\",\"orientation\":\"h\",\"showlegend\":false,\"x\":[239.0],\"xaxis\":\"x8\",\"y\":[0.7412],\"yaxis\":\"y8\",\"type\":\"scatter\"},{\"legendgroup\":\"EGS\",\"marker\":{\"color\":[\"darkgray\"],\"size\":8,\"symbol\":[\"diamond\"]},\"mode\":\"markers\",\"name\":\"EGS\",\"orientation\":\"h\",\"showlegend\":false,\"x\":[0.9212390454545454],\"xaxis\":\"x3\",\"y\":[0.4652],\"yaxis\":\"y3\",\"type\":\"scatter\"},{\"legendgroup\":\"EGS\",\"marker\":{\"color\":[\"darkgray\"],\"size\":8,\"symbol\":[\"diamond\"]},\"mode\":\"markers\",\"name\":\"EGS\",\"orientation\":\"h\",\"showlegend\":false,\"x\":[451.4],\"xaxis\":\"x8\",\"y\":[0.4652],\"yaxis\":\"y8\",\"type\":\"scatter\"},{\"legendgroup\":\"ES\",\"marker\":{\"color\":[\"red\"],\"size\":8,\"symbol\":[\"square\"]},\"mode\":\"markers\",\"name\":\"ES\",\"orientation\":\"h\",\"showlegend\":false,\"x\":[0.9422866454545455],\"xaxis\":\"x4\",\"y\":[0.899],\"yaxis\":\"y4\",\"type\":\"scatter\"},{\"legendgroup\":\"ES\",\"marker\":{\"color\":[\"red\"],\"size\":8,\"symbol\":[\"square\"]},\"mode\":\"markers\",\"name\":\"ES\",\"orientation\":\"h\",\"showlegend\":false,\"x\":[86.4],\"xaxis\":\"x9\",\"y\":[0.899],\"yaxis\":\"y9\",\"type\":\"scatter\"},{\"legendgroup\":\"A/B\",\"marker\":{\"color\":[\"lime\"],\"size\":8,\"symbol\":[\"circle\"]},\"mode\":\"markers\",\"name\":\"A/B\",\"orientation\":\"h\",\"showlegend\":false,\"x\":[0.9089395018181818],\"xaxis\":\"x4\",\"y\":[0.8308],\"yaxis\":\"y4\",\"type\":\"scatter\"},{\"legendgroup\":\"A/B\",\"marker\":{\"color\":[\"lime\"],\"size\":8,\"symbol\":[\"circle\"]},\"mode\":\"markers\",\"name\":\"A/B\",\"orientation\":\"h\",\"showlegend\":false,\"x\":[1000.0],\"xaxis\":\"x9\",\"y\":[0.8308],\"yaxis\":\"y9\",\"type\":\"scatter\"},{\"legendgroup\":\"UES\",\"marker\":{\"color\":[\"yellowgreen\"],\"size\":8,\"symbol\":[\"star\"]},\"mode\":\"markers\",\"name\":\"UES\",\"orientation\":\"h\",\"showlegend\":false,\"x\":[0.9367281545454545],\"xaxis\":\"x4\",\"y\":[0.8454],\"yaxis\":\"y4\",\"type\":\"scatter\"},{\"legendgroup\":\"UES\",\"marker\":{\"color\":[\"yellowgreen\"],\"size\":8,\"symbol\":[\"star\"]},\"mode\":\"markers\",\"name\":\"UES\",\"orientation\":\"h\",\"showlegend\":false,\"x\":[117.6],\"xaxis\":\"x9\",\"y\":[0.8454],\"yaxis\":\"y9\",\"type\":\"scatter\"},{\"legendgroup\":\"TSS\",\"marker\":{\"color\":[\"blueviolet\"],\"size\":8,\"symbol\":[\"triangle-up\"]},\"mode\":\"markers\",\"name\":\"TSS\",\"orientation\":\"h\",\"showlegend\":false,\"x\":[0.9418889909090908],\"xaxis\":\"x4\",\"y\":[0.7214],\"yaxis\":\"y4\",\"type\":\"scatter\"},{\"legendgroup\":\"TSS\",\"marker\":{\"color\":[\"blueviolet\"],\"size\":8,\"symbol\":[\"triangle-up\"]},\"mode\":\"markers\",\"name\":\"TSS\",\"orientation\":\"h\",\"showlegend\":false,\"x\":[317.6],\"xaxis\":\"x9\",\"y\":[0.7214],\"yaxis\":\"y9\",\"type\":\"scatter\"},{\"legendgroup\":\"UCBS\",\"marker\":{\"color\":[\"maroon\"],\"size\":8,\"symbol\":[\"x\"]},\"mode\":\"markers\",\"name\":\"UCBS\",\"orientation\":\"h\",\"showlegend\":false,\"x\":[0.9411898999999999],\"xaxis\":\"x4\",\"y\":[0.891],\"yaxis\":\"y4\",\"type\":\"scatter\"},{\"legendgroup\":\"UCBS\",\"marker\":{\"color\":[\"maroon\"],\"size\":8,\"symbol\":[\"x\"]},\"mode\":\"markers\",\"name\":\"UCBS\",\"orientation\":\"h\",\"showlegend\":false,\"x\":[104.6],\"xaxis\":\"x9\",\"y\":[0.891],\"yaxis\":\"y9\",\"type\":\"scatter\"},{\"legendgroup\":\"EGS\",\"marker\":{\"color\":[\"darkgray\"],\"size\":8,\"symbol\":[\"diamond\"]},\"mode\":\"markers\",\"name\":\"EGS\",\"orientation\":\"h\",\"showlegend\":false,\"x\":[0.9414221090909091],\"xaxis\":\"x4\",\"y\":[0.7512],\"yaxis\":\"y4\",\"type\":\"scatter\"},{\"legendgroup\":\"EGS\",\"marker\":{\"color\":[\"darkgray\"],\"size\":8,\"symbol\":[\"diamond\"]},\"mode\":\"markers\",\"name\":\"EGS\",\"orientation\":\"h\",\"showlegend\":false,\"x\":[223.8],\"xaxis\":\"x9\",\"y\":[0.7512],\"yaxis\":\"y9\",\"type\":\"scatter\"},{\"legendgroup\":\"ES\",\"marker\":{\"color\":[\"red\"],\"size\":8,\"symbol\":[\"square\"]},\"mode\":\"markers\",\"name\":\"ES\",\"orientation\":\"h\",\"showlegend\":false,\"x\":[0.9761939454545455],\"xaxis\":\"x5\",\"y\":[0.9508],\"yaxis\":\"y5\",\"type\":\"scatter\"},{\"legendgroup\":\"ES\",\"marker\":{\"color\":[\"red\"],\"size\":8,\"symbol\":[\"square\"]},\"mode\":\"markers\",\"name\":\"ES\",\"orientation\":\"h\",\"showlegend\":false,\"x\":[46.8],\"xaxis\":\"x10\",\"y\":[0.9508],\"yaxis\":\"y10\",\"type\":\"scatter\"},{\"legendgroup\":\"A/B\",\"marker\":{\"color\":[\"lime\"],\"size\":8,\"symbol\":[\"circle\"]},\"mode\":\"markers\",\"name\":\"A/B\",\"orientation\":\"h\",\"showlegend\":false,\"x\":[0.9089154109090909],\"xaxis\":\"x5\",\"y\":[0.9148],\"yaxis\":\"y5\",\"type\":\"scatter\"},{\"legendgroup\":\"A/B\",\"marker\":{\"color\":[\"lime\"],\"size\":8,\"symbol\":[\"circle\"]},\"mode\":\"markers\",\"name\":\"A/B\",\"orientation\":\"h\",\"showlegend\":false,\"x\":[1000.0],\"xaxis\":\"x10\",\"y\":[0.9148],\"yaxis\":\"y10\",\"type\":\"scatter\"},{\"legendgroup\":\"UES\",\"marker\":{\"color\":[\"yellowgreen\"],\"size\":8,\"symbol\":[\"star\"]},\"mode\":\"markers\",\"name\":\"UES\",\"orientation\":\"h\",\"showlegend\":false,\"x\":[0.9709644818181818],\"xaxis\":\"x5\",\"y\":[0.93],\"yaxis\":\"y5\",\"type\":\"scatter\"},{\"legendgroup\":\"UES\",\"marker\":{\"color\":[\"yellowgreen\"],\"size\":8,\"symbol\":[\"star\"]},\"mode\":\"markers\",\"name\":\"UES\",\"orientation\":\"h\",\"showlegend\":false,\"x\":[66.4],\"xaxis\":\"x10\",\"y\":[0.93],\"yaxis\":\"y10\",\"type\":\"scatter\"},{\"legendgroup\":\"TSS\",\"marker\":{\"color\":[\"blueviolet\"],\"size\":8,\"symbol\":[\"triangle-up\"]},\"mode\":\"markers\",\"name\":\"TSS\",\"orientation\":\"h\",\"showlegend\":false,\"x\":[0.977013509090909],\"xaxis\":\"x5\",\"y\":[0.8702],\"yaxis\":\"y5\",\"type\":\"scatter\"},{\"legendgroup\":\"TSS\",\"marker\":{\"color\":[\"blueviolet\"],\"size\":8,\"symbol\":[\"triangle-up\"]},\"mode\":\"markers\",\"name\":\"TSS\",\"orientation\":\"h\",\"showlegend\":false,\"x\":[139.4],\"xaxis\":\"x10\",\"y\":[0.8702],\"yaxis\":\"y10\",\"type\":\"scatter\"},{\"legendgroup\":\"UCBS\",\"marker\":{\"color\":[\"maroon\"],\"size\":8,\"symbol\":[\"x\"]},\"mode\":\"markers\",\"name\":\"UCBS\",\"orientation\":\"h\",\"showlegend\":false,\"x\":[0.9757098454545455],\"xaxis\":\"x5\",\"y\":[0.9512],\"yaxis\":\"y5\",\"type\":\"scatter\"},{\"legendgroup\":\"UCBS\",\"marker\":{\"color\":[\"maroon\"],\"size\":8,\"symbol\":[\"x\"]},\"mode\":\"markers\",\"name\":\"UCBS\",\"orientation\":\"h\",\"showlegend\":false,\"x\":[51.4],\"xaxis\":\"x10\",\"y\":[0.9512],\"yaxis\":\"y10\",\"type\":\"scatter\"},{\"legendgroup\":\"EGS\",\"marker\":{\"color\":[\"darkgray\"],\"size\":8,\"symbol\":[\"diamond\"]},\"mode\":\"markers\",\"name\":\"EGS\",\"orientation\":\"h\",\"showlegend\":false,\"x\":[0.9751118272727273],\"xaxis\":\"x5\",\"y\":[0.8798],\"yaxis\":\"y5\",\"type\":\"scatter\"},{\"legendgroup\":\"EGS\",\"marker\":{\"color\":[\"darkgray\"],\"size\":8,\"symbol\":[\"diamond\"]},\"mode\":\"markers\",\"name\":\"EGS\",\"orientation\":\"h\",\"showlegend\":false,\"x\":[123.8],\"xaxis\":\"x10\",\"y\":[0.8798],\"yaxis\":\"y10\",\"type\":\"scatter\"}],                        {\"template\":{\"data\":{\"histogram2dcontour\":[{\"type\":\"histogram2dcontour\",\"colorbar\":{\"outlinewidth\":0,\"ticks\":\"\"},\"colorscale\":[[0.0,\"#0d0887\"],[0.1111111111111111,\"#46039f\"],[0.2222222222222222,\"#7201a8\"],[0.3333333333333333,\"#9c179e\"],[0.4444444444444444,\"#bd3786\"],[0.5555555555555556,\"#d8576b\"],[0.6666666666666666,\"#ed7953\"],[0.7777777777777778,\"#fb9f3a\"],[0.8888888888888888,\"#fdca26\"],[1.0,\"#f0f921\"]]}],\"choropleth\":[{\"type\":\"choropleth\",\"colorbar\":{\"outlinewidth\":0,\"ticks\":\"\"}}],\"histogram2d\":[{\"type\":\"histogram2d\",\"colorbar\":{\"outlinewidth\":0,\"ticks\":\"\"},\"colorscale\":[[0.0,\"#0d0887\"],[0.1111111111111111,\"#46039f\"],[0.2222222222222222,\"#7201a8\"],[0.3333333333333333,\"#9c179e\"],[0.4444444444444444,\"#bd3786\"],[0.5555555555555556,\"#d8576b\"],[0.6666666666666666,\"#ed7953\"],[0.7777777777777778,\"#fb9f3a\"],[0.8888888888888888,\"#fdca26\"],[1.0,\"#f0f921\"]]}],\"heatmap\":[{\"type\":\"heatmap\",\"colorbar\":{\"outlinewidth\":0,\"ticks\":\"\"},\"colorscale\":[[0.0,\"#0d0887\"],[0.1111111111111111,\"#46039f\"],[0.2222222222222222,\"#7201a8\"],[0.3333333333333333,\"#9c179e\"],[0.4444444444444444,\"#bd3786\"],[0.5555555555555556,\"#d8576b\"],[0.6666666666666666,\"#ed7953\"],[0.7777777777777778,\"#fb9f3a\"],[0.8888888888888888,\"#fdca26\"],[1.0,\"#f0f921\"]]}],\"heatmapgl\":[{\"type\":\"heatmapgl\",\"colorbar\":{\"outlinewidth\":0,\"ticks\":\"\"},\"colorscale\":[[0.0,\"#0d0887\"],[0.1111111111111111,\"#46039f\"],[0.2222222222222222,\"#7201a8\"],[0.3333333333333333,\"#9c179e\"],[0.4444444444444444,\"#bd3786\"],[0.5555555555555556,\"#d8576b\"],[0.6666666666666666,\"#ed7953\"],[0.7777777777777778,\"#fb9f3a\"],[0.8888888888888888,\"#fdca26\"],[1.0,\"#f0f921\"]]}],\"contourcarpet\":[{\"type\":\"contourcarpet\",\"colorbar\":{\"outlinewidth\":0,\"ticks\":\"\"}}],\"contour\":[{\"type\":\"contour\",\"colorbar\":{\"outlinewidth\":0,\"ticks\":\"\"},\"colorscale\":[[0.0,\"#0d0887\"],[0.1111111111111111,\"#46039f\"],[0.2222222222222222,\"#7201a8\"],[0.3333333333333333,\"#9c179e\"],[0.4444444444444444,\"#bd3786\"],[0.5555555555555556,\"#d8576b\"],[0.6666666666666666,\"#ed7953\"],[0.7777777777777778,\"#fb9f3a\"],[0.8888888888888888,\"#fdca26\"],[1.0,\"#f0f921\"]]}],\"surface\":[{\"type\":\"surface\",\"colorbar\":{\"outlinewidth\":0,\"ticks\":\"\"},\"colorscale\":[[0.0,\"#0d0887\"],[0.1111111111111111,\"#46039f\"],[0.2222222222222222,\"#7201a8\"],[0.3333333333333333,\"#9c179e\"],[0.4444444444444444,\"#bd3786\"],[0.5555555555555556,\"#d8576b\"],[0.6666666666666666,\"#ed7953\"],[0.7777777777777778,\"#fb9f3a\"],[0.8888888888888888,\"#fdca26\"],[1.0,\"#f0f921\"]]}],\"mesh3d\":[{\"type\":\"mesh3d\",\"colorbar\":{\"outlinewidth\":0,\"ticks\":\"\"}}],\"scatter\":[{\"fillpattern\":{\"fillmode\":\"overlay\",\"size\":10,\"solidity\":0.2},\"type\":\"scatter\"}],\"parcoords\":[{\"type\":\"parcoords\",\"line\":{\"colorbar\":{\"outlinewidth\":0,\"ticks\":\"\"}}}],\"scatterpolargl\":[{\"type\":\"scatterpolargl\",\"marker\":{\"colorbar\":{\"outlinewidth\":0,\"ticks\":\"\"}}}],\"bar\":[{\"error_x\":{\"color\":\"#2a3f5f\"},\"error_y\":{\"color\":\"#2a3f5f\"},\"marker\":{\"line\":{\"color\":\"#E5ECF6\",\"width\":0.5},\"pattern\":{\"fillmode\":\"overlay\",\"size\":10,\"solidity\":0.2}},\"type\":\"bar\"}],\"scattergeo\":[{\"type\":\"scattergeo\",\"marker\":{\"colorbar\":{\"outlinewidth\":0,\"ticks\":\"\"}}}],\"scatterpolar\":[{\"type\":\"scatterpolar\",\"marker\":{\"colorbar\":{\"outlinewidth\":0,\"ticks\":\"\"}}}],\"histogram\":[{\"marker\":{\"pattern\":{\"fillmode\":\"overlay\",\"size\":10,\"solidity\":0.2}},\"type\":\"histogram\"}],\"scattergl\":[{\"type\":\"scattergl\",\"marker\":{\"colorbar\":{\"outlinewidth\":0,\"ticks\":\"\"}}}],\"scatter3d\":[{\"type\":\"scatter3d\",\"line\":{\"colorbar\":{\"outlinewidth\":0,\"ticks\":\"\"}},\"marker\":{\"colorbar\":{\"outlinewidth\":0,\"ticks\":\"\"}}}],\"scattermapbox\":[{\"type\":\"scattermapbox\",\"marker\":{\"colorbar\":{\"outlinewidth\":0,\"ticks\":\"\"}}}],\"scatterternary\":[{\"type\":\"scatterternary\",\"marker\":{\"colorbar\":{\"outlinewidth\":0,\"ticks\":\"\"}}}],\"scattercarpet\":[{\"type\":\"scattercarpet\",\"marker\":{\"colorbar\":{\"outlinewidth\":0,\"ticks\":\"\"}}}],\"carpet\":[{\"aaxis\":{\"endlinecolor\":\"#2a3f5f\",\"gridcolor\":\"white\",\"linecolor\":\"white\",\"minorgridcolor\":\"white\",\"startlinecolor\":\"#2a3f5f\"},\"baxis\":{\"endlinecolor\":\"#2a3f5f\",\"gridcolor\":\"white\",\"linecolor\":\"white\",\"minorgridcolor\":\"white\",\"startlinecolor\":\"#2a3f5f\"},\"type\":\"carpet\"}],\"table\":[{\"cells\":{\"fill\":{\"color\":\"#EBF0F8\"},\"line\":{\"color\":\"white\"}},\"header\":{\"fill\":{\"color\":\"#C8D4E3\"},\"line\":{\"color\":\"white\"}},\"type\":\"table\"}],\"barpolar\":[{\"marker\":{\"line\":{\"color\":\"#E5ECF6\",\"width\":0.5},\"pattern\":{\"fillmode\":\"overlay\",\"size\":10,\"solidity\":0.2}},\"type\":\"barpolar\"}],\"pie\":[{\"automargin\":true,\"type\":\"pie\"}]},\"layout\":{\"autotypenumbers\":\"strict\",\"colorway\":[\"#636efa\",\"#EF553B\",\"#00cc96\",\"#ab63fa\",\"#FFA15A\",\"#19d3f3\",\"#FF6692\",\"#B6E880\",\"#FF97FF\",\"#FECB52\"],\"font\":{\"color\":\"#2a3f5f\"},\"hovermode\":\"closest\",\"hoverlabel\":{\"align\":\"left\"},\"paper_bgcolor\":\"white\",\"plot_bgcolor\":\"#E5ECF6\",\"polar\":{\"bgcolor\":\"#E5ECF6\",\"angularaxis\":{\"gridcolor\":\"white\",\"linecolor\":\"white\",\"ticks\":\"\"},\"radialaxis\":{\"gridcolor\":\"white\",\"linecolor\":\"white\",\"ticks\":\"\"}},\"ternary\":{\"bgcolor\":\"#E5ECF6\",\"aaxis\":{\"gridcolor\":\"white\",\"linecolor\":\"white\",\"ticks\":\"\"},\"baxis\":{\"gridcolor\":\"white\",\"linecolor\":\"white\",\"ticks\":\"\"},\"caxis\":{\"gridcolor\":\"white\",\"linecolor\":\"white\",\"ticks\":\"\"}},\"coloraxis\":{\"colorbar\":{\"outlinewidth\":0,\"ticks\":\"\"}},\"colorscale\":{\"sequential\":[[0.0,\"#0d0887\"],[0.1111111111111111,\"#46039f\"],[0.2222222222222222,\"#7201a8\"],[0.3333333333333333,\"#9c179e\"],[0.4444444444444444,\"#bd3786\"],[0.5555555555555556,\"#d8576b\"],[0.6666666666666666,\"#ed7953\"],[0.7777777777777778,\"#fb9f3a\"],[0.8888888888888888,\"#fdca26\"],[1.0,\"#f0f921\"]],\"sequentialminus\":[[0.0,\"#0d0887\"],[0.1111111111111111,\"#46039f\"],[0.2222222222222222,\"#7201a8\"],[0.3333333333333333,\"#9c179e\"],[0.4444444444444444,\"#bd3786\"],[0.5555555555555556,\"#d8576b\"],[0.6666666666666666,\"#ed7953\"],[0.7777777777777778,\"#fb9f3a\"],[0.8888888888888888,\"#fdca26\"],[1.0,\"#f0f921\"]],\"diverging\":[[0,\"#8e0152\"],[0.1,\"#c51b7d\"],[0.2,\"#de77ae\"],[0.3,\"#f1b6da\"],[0.4,\"#fde0ef\"],[0.5,\"#f7f7f7\"],[0.6,\"#e6f5d0\"],[0.7,\"#b8e186\"],[0.8,\"#7fbc41\"],[0.9,\"#4d9221\"],[1,\"#276419\"]]},\"xaxis\":{\"gridcolor\":\"white\",\"linecolor\":\"white\",\"ticks\":\"\",\"title\":{\"standoff\":15},\"zerolinecolor\":\"white\",\"automargin\":true,\"zerolinewidth\":2},\"yaxis\":{\"gridcolor\":\"white\",\"linecolor\":\"white\",\"ticks\":\"\",\"title\":{\"standoff\":15},\"zerolinecolor\":\"white\",\"automargin\":true,\"zerolinewidth\":2},\"scene\":{\"xaxis\":{\"backgroundcolor\":\"#E5ECF6\",\"gridcolor\":\"white\",\"linecolor\":\"white\",\"showbackground\":true,\"ticks\":\"\",\"zerolinecolor\":\"white\",\"gridwidth\":2},\"yaxis\":{\"backgroundcolor\":\"#E5ECF6\",\"gridcolor\":\"white\",\"linecolor\":\"white\",\"showbackground\":true,\"ticks\":\"\",\"zerolinecolor\":\"white\",\"gridwidth\":2},\"zaxis\":{\"backgroundcolor\":\"#E5ECF6\",\"gridcolor\":\"white\",\"linecolor\":\"white\",\"showbackground\":true,\"ticks\":\"\",\"zerolinecolor\":\"white\",\"gridwidth\":2}},\"shapedefaults\":{\"line\":{\"color\":\"#2a3f5f\"}},\"annotationdefaults\":{\"arrowcolor\":\"#2a3f5f\",\"arrowhead\":0,\"arrowwidth\":1},\"geo\":{\"bgcolor\":\"white\",\"landcolor\":\"#E5ECF6\",\"subunitcolor\":\"white\",\"showland\":true,\"showlakes\":true,\"lakecolor\":\"white\"},\"title\":{\"x\":0.05},\"mapbox\":{\"style\":\"light\"}}},\"xaxis\":{\"anchor\":\"y\",\"domain\":[0.0,0.176],\"range\":[0.9,1.0]},\"yaxis\":{\"anchor\":\"x\",\"domain\":[0.575,1.0]},\"xaxis2\":{\"anchor\":\"y2\",\"domain\":[0.206,0.382],\"range\":[0.9,1.0]},\"yaxis2\":{\"anchor\":\"x2\",\"domain\":[0.575,1.0],\"matches\":\"y\",\"showticklabels\":false},\"xaxis3\":{\"anchor\":\"y3\",\"domain\":[0.412,0.588],\"title\":{\"text\":\"Normalized averaged rewards\"},\"range\":[0.9,1.0]},\"yaxis3\":{\"anchor\":\"x3\",\"domain\":[0.575,1.0],\"matches\":\"y\",\"showticklabels\":false},\"xaxis4\":{\"anchor\":\"y4\",\"domain\":[0.618,0.794],\"range\":[0.9,1.0]},\"yaxis4\":{\"anchor\":\"x4\",\"domain\":[0.575,1.0],\"matches\":\"y\",\"showticklabels\":false},\"xaxis5\":{\"anchor\":\"y5\",\"domain\":[0.824,1.0],\"range\":[0.9,1.0]},\"yaxis5\":{\"anchor\":\"x5\",\"domain\":[0.575,1.0],\"matches\":\"y\",\"showticklabels\":false},\"xaxis6\":{\"anchor\":\"y6\",\"domain\":[0.0,0.176],\"range\":[0,1100]},\"yaxis6\":{\"anchor\":\"x6\",\"domain\":[0.0,0.425]},\"xaxis7\":{\"anchor\":\"y7\",\"domain\":[0.206,0.382],\"range\":[0,1100]},\"yaxis7\":{\"anchor\":\"x7\",\"domain\":[0.0,0.425],\"matches\":\"y6\",\"showticklabels\":false},\"xaxis8\":{\"anchor\":\"y8\",\"domain\":[0.412,0.588],\"title\":{\"text\":\"Averaged sample size per arm\"},\"range\":[0,1100]},\"yaxis8\":{\"anchor\":\"x8\",\"domain\":[0.0,0.425],\"matches\":\"y6\",\"showticklabels\":false},\"xaxis9\":{\"anchor\":\"y9\",\"domain\":[0.618,0.794],\"range\":[0,1100]},\"yaxis9\":{\"anchor\":\"x9\",\"domain\":[0.0,0.425],\"matches\":\"y6\",\"showticklabels\":false},\"xaxis10\":{\"anchor\":\"y10\",\"domain\":[0.824,1.0],\"range\":[0,1100]},\"yaxis10\":{\"anchor\":\"x10\",\"domain\":[0.0,0.425],\"matches\":\"y6\",\"showticklabels\":false},\"annotations\":[{\"font\":{\"size\":20},\"showarrow\":false,\"text\":\"$\\\\sigma_{\\\\Delta}^2 = 0.05$\",\"x\":0.088,\"xanchor\":\"center\",\"xref\":\"paper\",\"y\":1.0,\"yanchor\":\"bottom\",\"yref\":\"paper\"},{\"font\":{\"size\":20},\"showarrow\":false,\"text\":\"$\\\\sigma_{\\\\Delta}^2 = 0.1$\",\"x\":0.294,\"xanchor\":\"center\",\"xref\":\"paper\",\"y\":1.0,\"yanchor\":\"bottom\",\"yref\":\"paper\"},{\"font\":{\"size\":20},\"showarrow\":false,\"text\":\"$\\\\sigma_{\\\\Delta}^2 = 0.2$\",\"x\":0.5,\"xanchor\":\"center\",\"xref\":\"paper\",\"y\":1.0,\"yanchor\":\"bottom\",\"yref\":\"paper\"},{\"font\":{\"size\":20},\"showarrow\":false,\"text\":\"$\\\\sigma_{\\\\Delta}^2 = 0.5$\",\"x\":0.706,\"xanchor\":\"center\",\"xref\":\"paper\",\"y\":1.0,\"yanchor\":\"bottom\",\"yref\":\"paper\"},{\"font\":{\"size\":20},\"showarrow\":false,\"text\":\"$\\\\sigma_{\\\\Delta}^2 = 1$\",\"x\":0.9119999999999999,\"xanchor\":\"center\",\"xref\":\"paper\",\"y\":1.0,\"yanchor\":\"bottom\",\"yref\":\"paper\"},{\"font\":{\"size\":20},\"showarrow\":false,\"text\":\"Power\",\"textangle\":-90,\"x\":0,\"xanchor\":\"right\",\"xref\":\"paper\",\"xshift\":-40,\"y\":0.5,\"yanchor\":\"middle\",\"yref\":\"paper\"}],\"shapes\":[{\"type\":\"line\",\"x0\":0,\"x1\":1,\"xref\":\"x domain\",\"y0\":0.8,\"y1\":0.8,\"yref\":\"y\"},{\"type\":\"line\",\"x0\":0,\"x1\":1,\"xref\":\"x2 domain\",\"y0\":0.8,\"y1\":0.8,\"yref\":\"y2\"},{\"type\":\"line\",\"x0\":0,\"x1\":1,\"xref\":\"x3 domain\",\"y0\":0.8,\"y1\":0.8,\"yref\":\"y3\"},{\"type\":\"line\",\"x0\":0,\"x1\":1,\"xref\":\"x4 domain\",\"y0\":0.8,\"y1\":0.8,\"yref\":\"y4\"},{\"type\":\"line\",\"x0\":0,\"x1\":1,\"xref\":\"x5 domain\",\"y0\":0.8,\"y1\":0.8,\"yref\":\"y5\"},{\"type\":\"line\",\"x0\":0,\"x1\":1,\"xref\":\"x6 domain\",\"y0\":0.8,\"y1\":0.8,\"yref\":\"y6\"},{\"type\":\"line\",\"x0\":0,\"x1\":1,\"xref\":\"x7 domain\",\"y0\":0.8,\"y1\":0.8,\"yref\":\"y7\"},{\"type\":\"line\",\"x0\":0,\"x1\":1,\"xref\":\"x8 domain\",\"y0\":0.8,\"y1\":0.8,\"yref\":\"y8\"},{\"type\":\"line\",\"x0\":0,\"x1\":1,\"xref\":\"x9 domain\",\"y0\":0.8,\"y1\":0.8,\"yref\":\"y9\"},{\"type\":\"line\",\"x0\":0,\"x1\":1,\"xref\":\"x10 domain\",\"y0\":0.8,\"y1\":0.8,\"yref\":\"y10\"}],\"legend\":{\"orientation\":\"h\",\"x\":0.33,\"y\":-0.15},\"font\":{\"size\":16},\"height\":800,\"width\":1600,\"plot_bgcolor\":\"rgb(242,242,242)\"},                        {\"responsive\": true}                    ).then(function(){\n",
       "                            \n",
       "var gd = document.getElementById('fcf3eb56-5a61-4f47-8702-7dc52895bf1b');\n",
       "var x = new MutationObserver(function (mutations, observer) {{\n",
       "        var display = window.getComputedStyle(gd).display;\n",
       "        if (!display || display === 'none') {{\n",
       "            console.log([gd, 'removed!']);\n",
       "            Plotly.purge(gd);\n",
       "            observer.disconnect();\n",
       "        }}\n",
       "}});\n",
       "\n",
       "// Listen for the removal of the full notebook cells\n",
       "var notebookContainer = gd.closest('#notebook-container');\n",
       "if (notebookContainer) {{\n",
       "    x.observe(notebookContainer, {childList: true});\n",
       "}}\n",
       "\n",
       "// Listen for the clearing of the current output cell\n",
       "var outputEl = gd.closest('.output');\n",
       "if (outputEl) {{\n",
       "    x.observe(outputEl, {childList: true});\n",
       "}}\n",
       "\n",
       "                        })                };                });            </script>        </div>"
      ]
     },
     "metadata": {},
     "output_type": "display_data"
    }
   ],
   "source": [
    "df = pd.read_csv(\"res_sim_5arm_gauss_var_sigma.csv\")\n",
    "idx2key = {\n",
    "    \"0\": r\"$\\sigma_{\\Delta}^2 = 0.05$\",\n",
    "    \"1\": r\"$\\sigma_{\\Delta}^2 = 0.1$\",\n",
    "    \"2\": r\"$\\sigma_{\\Delta}^2 = 0.2$\",\n",
    "    \"3\": r\"$\\sigma_{\\Delta}^2 = 0.5$\",\n",
    "    \"4\": r\"$\\sigma_{\\Delta}^2 = 1$\",\n",
    "}\n",
    "algos = [\"ES\", \"A/B\", \"UES\", \"TSS\", \"UCBS\", \"EGS\"]\n",
    "key2data = get_key2data(df, idx2key)\n",
    "print(key2data)\n",
    "fig = sd_return_fig(algos, key2data, 11, True, [[0.90, 1.0], [0, 1100]], 8)\n",
    "# print(fig.layout)\n",
    "fig.show()\n",
    "plotly.io.write_image(fig, 'sim_5arm_gauss_var_sigma.pdf', format='pdf')"
   ]
  },
  {
   "cell_type": "markdown",
   "id": "ccaaa89f-3ff0-4d28-aa70-7fb58e5802cc",
   "metadata": {},
   "source": [
    "## Gaussian; numArm=5; base_mean = 10; sigma=0.5"
   ]
  },
  {
   "cell_type": "code",
   "execution_count": 26,
   "id": "36e6a1f0-595a-40b2-ab0f-4a2bfa57d6d6",
   "metadata": {},
   "outputs": [
    {
     "data": {
      "text/html": [
       "<div>\n",
       "<style scoped>\n",
       "    .dataframe tbody tr th:only-of-type {\n",
       "        vertical-align: middle;\n",
       "    }\n",
       "\n",
       "    .dataframe tbody tr th {\n",
       "        vertical-align: top;\n",
       "    }\n",
       "\n",
       "    .dataframe thead th {\n",
       "        text-align: right;\n",
       "    }\n",
       "</style>\n",
       "<table border=\"1\" class=\"dataframe\">\n",
       "  <thead>\n",
       "    <tr style=\"text-align: right;\">\n",
       "      <th></th>\n",
       "      <th>A/B_0</th>\n",
       "      <th>A/B_1</th>\n",
       "      <th>A/B_2</th>\n",
       "      <th>A/B_3</th>\n",
       "      <th>ES_0</th>\n",
       "      <th>ES_1</th>\n",
       "      <th>ES_2</th>\n",
       "      <th>ES_3</th>\n",
       "      <th>UES_0</th>\n",
       "      <th>UES_1</th>\n",
       "      <th>...</th>\n",
       "      <th>TSS_2</th>\n",
       "      <th>TSS_3</th>\n",
       "      <th>UCBS_0</th>\n",
       "      <th>UCBS_1</th>\n",
       "      <th>UCBS_2</th>\n",
       "      <th>UCBS_3</th>\n",
       "      <th>EGS_0</th>\n",
       "      <th>EGS_1</th>\n",
       "      <th>EGS_2</th>\n",
       "      <th>EGS_3</th>\n",
       "    </tr>\n",
       "  </thead>\n",
       "  <tbody>\n",
       "    <tr>\n",
       "      <th>0</th>\n",
       "      <td>0.8308</td>\n",
       "      <td>1000</td>\n",
       "      <td>5000</td>\n",
       "      <td>9.998335</td>\n",
       "      <td>0.8990</td>\n",
       "      <td>86.4</td>\n",
       "      <td>432</td>\n",
       "      <td>10.365153</td>\n",
       "      <td>0.8454</td>\n",
       "      <td>117.6</td>\n",
       "      <td>...</td>\n",
       "      <td>1588</td>\n",
       "      <td>10.360779</td>\n",
       "      <td>0.8910</td>\n",
       "      <td>104.6</td>\n",
       "      <td>523</td>\n",
       "      <td>10.353089</td>\n",
       "      <td>0.7512</td>\n",
       "      <td>223.8</td>\n",
       "      <td>1119</td>\n",
       "      <td>10.355643</td>\n",
       "    </tr>\n",
       "    <tr>\n",
       "      <th>1</th>\n",
       "      <td>0.7446</td>\n",
       "      <td>1000</td>\n",
       "      <td>5000</td>\n",
       "      <td>9.998885</td>\n",
       "      <td>0.8354</td>\n",
       "      <td>143.4</td>\n",
       "      <td>717</td>\n",
       "      <td>10.349391</td>\n",
       "      <td>0.7760</td>\n",
       "      <td>182.2</td>\n",
       "      <td>...</td>\n",
       "      <td>2414</td>\n",
       "      <td>10.355202</td>\n",
       "      <td>0.7762</td>\n",
       "      <td>255.4</td>\n",
       "      <td>1277</td>\n",
       "      <td>10.356596</td>\n",
       "      <td>0.6008</td>\n",
       "      <td>324.6</td>\n",
       "      <td>1623</td>\n",
       "      <td>10.342607</td>\n",
       "    </tr>\n",
       "    <tr>\n",
       "      <th>2</th>\n",
       "      <td>0.6738</td>\n",
       "      <td>1000</td>\n",
       "      <td>5000</td>\n",
       "      <td>10.000000</td>\n",
       "      <td>0.7990</td>\n",
       "      <td>183.8</td>\n",
       "      <td>919</td>\n",
       "      <td>10.339042</td>\n",
       "      <td>0.7156</td>\n",
       "      <td>241.8</td>\n",
       "      <td>...</td>\n",
       "      <td>2861</td>\n",
       "      <td>10.358118</td>\n",
       "      <td>0.1142</td>\n",
       "      <td>544.0</td>\n",
       "      <td>2720</td>\n",
       "      <td>10.347004</td>\n",
       "      <td>0.4904</td>\n",
       "      <td>404.4</td>\n",
       "      <td>2022</td>\n",
       "      <td>10.335914</td>\n",
       "    </tr>\n",
       "    <tr>\n",
       "      <th>3</th>\n",
       "      <td>0.6288</td>\n",
       "      <td>1000</td>\n",
       "      <td>5000</td>\n",
       "      <td>9.998646</td>\n",
       "      <td>0.7712</td>\n",
       "      <td>212.8</td>\n",
       "      <td>1064</td>\n",
       "      <td>10.334864</td>\n",
       "      <td>0.6740</td>\n",
       "      <td>268.8</td>\n",
       "      <td>...</td>\n",
       "      <td>3001</td>\n",
       "      <td>10.354240</td>\n",
       "      <td>0.0172</td>\n",
       "      <td>453.0</td>\n",
       "      <td>2265</td>\n",
       "      <td>10.341227</td>\n",
       "      <td>0.4204</td>\n",
       "      <td>468.2</td>\n",
       "      <td>2341</td>\n",
       "      <td>10.332404</td>\n",
       "    </tr>\n",
       "    <tr>\n",
       "      <th>4</th>\n",
       "      <td>0.5848</td>\n",
       "      <td>1000</td>\n",
       "      <td>5000</td>\n",
       "      <td>9.997929</td>\n",
       "      <td>0.7506</td>\n",
       "      <td>238.0</td>\n",
       "      <td>1190</td>\n",
       "      <td>10.326168</td>\n",
       "      <td>0.6464</td>\n",
       "      <td>295.2</td>\n",
       "      <td>...</td>\n",
       "      <td>3034</td>\n",
       "      <td>10.347264</td>\n",
       "      <td>0.0104</td>\n",
       "      <td>462.0</td>\n",
       "      <td>2310</td>\n",
       "      <td>10.342948</td>\n",
       "      <td>0.3302</td>\n",
       "      <td>521.6</td>\n",
       "      <td>2608</td>\n",
       "      <td>10.326284</td>\n",
       "    </tr>\n",
       "  </tbody>\n",
       "</table>\n",
       "<p>5 rows × 24 columns</p>\n",
       "</div>"
      ],
      "text/plain": [
       "    A/B_0  A/B_1  A/B_2      A/B_3    ES_0   ES_1  ES_2       ES_3   UES_0  \\\n",
       "0  0.8308   1000   5000   9.998335  0.8990   86.4   432  10.365153  0.8454   \n",
       "1  0.7446   1000   5000   9.998885  0.8354  143.4   717  10.349391  0.7760   \n",
       "2  0.6738   1000   5000  10.000000  0.7990  183.8   919  10.339042  0.7156   \n",
       "3  0.6288   1000   5000   9.998646  0.7712  212.8  1064  10.334864  0.6740   \n",
       "4  0.5848   1000   5000   9.997929  0.7506  238.0  1190  10.326168  0.6464   \n",
       "\n",
       "   UES_1  ...  TSS_2      TSS_3  UCBS_0  UCBS_1  UCBS_2     UCBS_3   EGS_0  \\\n",
       "0  117.6  ...   1588  10.360779  0.8910   104.6     523  10.353089  0.7512   \n",
       "1  182.2  ...   2414  10.355202  0.7762   255.4    1277  10.356596  0.6008   \n",
       "2  241.8  ...   2861  10.358118  0.1142   544.0    2720  10.347004  0.4904   \n",
       "3  268.8  ...   3001  10.354240  0.0172   453.0    2265  10.341227  0.4204   \n",
       "4  295.2  ...   3034  10.347264  0.0104   462.0    2310  10.342948  0.3302   \n",
       "\n",
       "   EGS_1  EGS_2      EGS_3  \n",
       "0  223.8   1119  10.355643  \n",
       "1  324.6   1623  10.342607  \n",
       "2  404.4   2022  10.335914  \n",
       "3  468.2   2341  10.332404  \n",
       "4  521.6   2608  10.326284  \n",
       "\n",
       "[5 rows x 24 columns]"
      ]
     },
     "execution_count": 26,
     "metadata": {},
     "output_type": "execute_result"
    }
   ],
   "source": [
    "df = pd.read_csv(\"res_sim_5arm_gauss_var_var.csv\")\n",
    "df"
   ]
  },
  {
   "cell_type": "code",
   "execution_count": 27,
   "id": "174372ec-3120-4082-8ddb-02aac28d60c9",
   "metadata": {
    "tags": []
   },
   "outputs": [
    {
     "name": "stdout",
     "output_type": "stream",
     "text": [
      "{'$C = 1$': {'ES': {'power': 0.899, 'samples': 86.4, 'rewards': 10.3651531}, 'A/B': {'power': 0.8308, 'samples': 1000.0, 'rewards': 9.99833452}, 'UES': {'power': 0.8454, 'samples': 117.6, 'rewards': 10.3040097}, 'TSS': {'power': 0.7214, 'samples': 317.6, 'rewards': 10.3607789}, 'UCBS': {'power': 0.891, 'samples': 104.6, 'rewards': 10.3530889}, 'EGS': {'power': 0.7512, 'samples': 223.8, 'rewards': 10.3556432}}, '$C = 5$': {'ES': {'power': 0.8354, 'samples': 143.4, 'rewards': 10.3493908}, 'A/B': {'power': 0.7446, 'samples': 1000.0, 'rewards': 9.99888501}, 'UES': {'power': 0.776, 'samples': 182.2, 'rewards': 10.2736523}, 'TSS': {'power': 0.496, 'samples': 482.8, 'rewards': 10.3552019}, 'UCBS': {'power': 0.7762, 'samples': 255.4, 'rewards': 10.356596}, 'EGS': {'power': 0.6008, 'samples': 324.6, 'rewards': 10.3426075}}, '$C = 10$': {'ES': {'power': 0.799, 'samples': 183.8, 'rewards': 10.3390421}, 'A/B': {'power': 0.6738, 'samples': 1000.0, 'rewards': 10.0}, 'UES': {'power': 0.7156, 'samples': 241.8, 'rewards': 10.2412327}, 'TSS': {'power': 0.297, 'samples': 572.2, 'rewards': 10.3581179}, 'UCBS': {'power': 0.1142, 'samples': 544.0, 'rewards': 10.3470036}, 'EGS': {'power': 0.4904, 'samples': 404.4, 'rewards': 10.3359144}}, '$C = 15$': {'ES': {'power': 0.7712, 'samples': 212.8, 'rewards': 10.3348642}, 'A/B': {'power': 0.6288, 'samples': 1000.0, 'rewards': 9.99864614}, 'UES': {'power': 0.674, 'samples': 268.8, 'rewards': 10.225879}, 'TSS': {'power': 0.1774, 'samples': 600.2, 'rewards': 10.3542402}, 'UCBS': {'power': 0.0172, 'samples': 453.0, 'rewards': 10.3412269}, 'EGS': {'power': 0.4204, 'samples': 468.2, 'rewards': 10.3324043}}, '$C = 20$': {'ES': {'power': 0.7506, 'samples': 238.0, 'rewards': 10.3261685}, 'A/B': {'power': 0.5848, 'samples': 1000.0, 'rewards': 9.99792876}, 'UES': {'power': 0.6464, 'samples': 295.2, 'rewards': 10.2132796}, 'TSS': {'power': 0.117, 'samples': 606.8, 'rewards': 10.3472643}, 'UCBS': {'power': 0.0104, 'samples': 462.0, 'rewards': 10.3429481}, 'EGS': {'power': 0.3302, 'samples': 521.6, 'rewards': 10.326284}}}\n"
     ]
    },
    {
     "data": {
      "application/vnd.plotly.v1+json": {
       "config": {
        "plotlyServerURL": "https://plot.ly"
       },
       "data": [
        {
         "legendgroup": "ES",
         "marker": {
          "color": [
           "red"
          ],
          "size": 8,
          "symbol": [
           "square"
          ]
         },
         "mode": "markers",
         "name": "ES",
         "orientation": "h",
         "showlegend": true,
         "type": "scatter",
         "x": [
          0.9422866454545455
         ],
         "xaxis": "x",
         "y": [
          0.899
         ],
         "yaxis": "y"
        },
        {
         "legendgroup": "ES",
         "marker": {
          "color": [
           "red"
          ],
          "size": 8,
          "symbol": [
           "square"
          ]
         },
         "mode": "markers",
         "name": "ES",
         "orientation": "h",
         "showlegend": false,
         "type": "scatter",
         "x": [
          86.4
         ],
         "xaxis": "x6",
         "y": [
          0.899
         ],
         "yaxis": "y6"
        },
        {
         "legendgroup": "A/B",
         "marker": {
          "color": [
           "lime"
          ],
          "size": 8,
          "symbol": [
           "circle"
          ]
         },
         "mode": "markers",
         "name": "A/B",
         "orientation": "h",
         "showlegend": true,
         "type": "scatter",
         "x": [
          0.9089395018181818
         ],
         "xaxis": "x",
         "y": [
          0.8308
         ],
         "yaxis": "y"
        },
        {
         "legendgroup": "A/B",
         "marker": {
          "color": [
           "lime"
          ],
          "size": 8,
          "symbol": [
           "circle"
          ]
         },
         "mode": "markers",
         "name": "A/B",
         "orientation": "h",
         "showlegend": false,
         "type": "scatter",
         "x": [
          1000
         ],
         "xaxis": "x6",
         "y": [
          0.8308
         ],
         "yaxis": "y6"
        },
        {
         "legendgroup": "UES",
         "marker": {
          "color": [
           "yellowgreen"
          ],
          "size": 8,
          "symbol": [
           "star"
          ]
         },
         "mode": "markers",
         "name": "UES",
         "orientation": "h",
         "showlegend": true,
         "type": "scatter",
         "x": [
          0.9367281545454545
         ],
         "xaxis": "x",
         "y": [
          0.8454
         ],
         "yaxis": "y"
        },
        {
         "legendgroup": "UES",
         "marker": {
          "color": [
           "yellowgreen"
          ],
          "size": 8,
          "symbol": [
           "star"
          ]
         },
         "mode": "markers",
         "name": "UES",
         "orientation": "h",
         "showlegend": false,
         "type": "scatter",
         "x": [
          117.6
         ],
         "xaxis": "x6",
         "y": [
          0.8454
         ],
         "yaxis": "y6"
        },
        {
         "legendgroup": "TSS",
         "marker": {
          "color": [
           "blueviolet"
          ],
          "size": 8,
          "symbol": [
           "triangle-up"
          ]
         },
         "mode": "markers",
         "name": "TSS",
         "orientation": "h",
         "showlegend": true,
         "type": "scatter",
         "x": [
          0.9418889909090908
         ],
         "xaxis": "x",
         "y": [
          0.7214
         ],
         "yaxis": "y"
        },
        {
         "legendgroup": "TSS",
         "marker": {
          "color": [
           "blueviolet"
          ],
          "size": 8,
          "symbol": [
           "triangle-up"
          ]
         },
         "mode": "markers",
         "name": "TSS",
         "orientation": "h",
         "showlegend": false,
         "type": "scatter",
         "x": [
          317.6
         ],
         "xaxis": "x6",
         "y": [
          0.7214
         ],
         "yaxis": "y6"
        },
        {
         "legendgroup": "UCBS",
         "marker": {
          "color": [
           "maroon"
          ],
          "size": 8,
          "symbol": [
           "x"
          ]
         },
         "mode": "markers",
         "name": "UCBS",
         "orientation": "h",
         "showlegend": true,
         "type": "scatter",
         "x": [
          0.9411898999999999
         ],
         "xaxis": "x",
         "y": [
          0.891
         ],
         "yaxis": "y"
        },
        {
         "legendgroup": "UCBS",
         "marker": {
          "color": [
           "maroon"
          ],
          "size": 8,
          "symbol": [
           "x"
          ]
         },
         "mode": "markers",
         "name": "UCBS",
         "orientation": "h",
         "showlegend": false,
         "type": "scatter",
         "x": [
          104.6
         ],
         "xaxis": "x6",
         "y": [
          0.891
         ],
         "yaxis": "y6"
        },
        {
         "legendgroup": "EGS",
         "marker": {
          "color": [
           "darkgray"
          ],
          "size": 8,
          "symbol": [
           "diamond"
          ]
         },
         "mode": "markers",
         "name": "EGS",
         "orientation": "h",
         "showlegend": true,
         "type": "scatter",
         "x": [
          0.9414221090909091
         ],
         "xaxis": "x",
         "y": [
          0.7512
         ],
         "yaxis": "y"
        },
        {
         "legendgroup": "EGS",
         "marker": {
          "color": [
           "darkgray"
          ],
          "size": 8,
          "symbol": [
           "diamond"
          ]
         },
         "mode": "markers",
         "name": "EGS",
         "orientation": "h",
         "showlegend": false,
         "type": "scatter",
         "x": [
          223.8
         ],
         "xaxis": "x6",
         "y": [
          0.7512
         ],
         "yaxis": "y6"
        },
        {
         "legendgroup": "ES",
         "marker": {
          "color": [
           "red"
          ],
          "size": 8,
          "symbol": [
           "square"
          ]
         },
         "mode": "markers",
         "name": "ES",
         "orientation": "h",
         "showlegend": false,
         "type": "scatter",
         "x": [
          0.9408537090909092
         ],
         "xaxis": "x2",
         "y": [
          0.8354
         ],
         "yaxis": "y2"
        },
        {
         "legendgroup": "ES",
         "marker": {
          "color": [
           "red"
          ],
          "size": 8,
          "symbol": [
           "square"
          ]
         },
         "mode": "markers",
         "name": "ES",
         "orientation": "h",
         "showlegend": false,
         "type": "scatter",
         "x": [
          143.4
         ],
         "xaxis": "x7",
         "y": [
          0.8354
         ],
         "yaxis": "y7"
        },
        {
         "legendgroup": "A/B",
         "marker": {
          "color": [
           "lime"
          ],
          "size": 8,
          "symbol": [
           "circle"
          ]
         },
         "mode": "markers",
         "name": "A/B",
         "orientation": "h",
         "showlegend": false,
         "type": "scatter",
         "x": [
          0.9089895463636364
         ],
         "xaxis": "x2",
         "y": [
          0.7446
         ],
         "yaxis": "y2"
        },
        {
         "legendgroup": "A/B",
         "marker": {
          "color": [
           "lime"
          ],
          "size": 8,
          "symbol": [
           "circle"
          ]
         },
         "mode": "markers",
         "name": "A/B",
         "orientation": "h",
         "showlegend": false,
         "type": "scatter",
         "x": [
          1000
         ],
         "xaxis": "x7",
         "y": [
          0.7446
         ],
         "yaxis": "y7"
        },
        {
         "legendgroup": "UES",
         "marker": {
          "color": [
           "yellowgreen"
          ],
          "size": 8,
          "symbol": [
           "star"
          ]
         },
         "mode": "markers",
         "name": "UES",
         "orientation": "h",
         "showlegend": false,
         "type": "scatter",
         "x": [
          0.9339683909090909
         ],
         "xaxis": "x2",
         "y": [
          0.776
         ],
         "yaxis": "y2"
        },
        {
         "legendgroup": "UES",
         "marker": {
          "color": [
           "yellowgreen"
          ],
          "size": 8,
          "symbol": [
           "star"
          ]
         },
         "mode": "markers",
         "name": "UES",
         "orientation": "h",
         "showlegend": false,
         "type": "scatter",
         "x": [
          182.2
         ],
         "xaxis": "x7",
         "y": [
          0.776
         ],
         "yaxis": "y7"
        },
        {
         "legendgroup": "TSS",
         "marker": {
          "color": [
           "blueviolet"
          ],
          "size": 8,
          "symbol": [
           "triangle-up"
          ]
         },
         "mode": "markers",
         "name": "TSS",
         "orientation": "h",
         "showlegend": false,
         "type": "scatter",
         "x": [
          0.941381990909091
         ],
         "xaxis": "x2",
         "y": [
          0.496
         ],
         "yaxis": "y2"
        },
        {
         "legendgroup": "TSS",
         "marker": {
          "color": [
           "blueviolet"
          ],
          "size": 8,
          "symbol": [
           "triangle-up"
          ]
         },
         "mode": "markers",
         "name": "TSS",
         "orientation": "h",
         "showlegend": false,
         "type": "scatter",
         "x": [
          482.8
         ],
         "xaxis": "x7",
         "y": [
          0.496
         ],
         "yaxis": "y7"
        },
        {
         "legendgroup": "UCBS",
         "marker": {
          "color": [
           "maroon"
          ],
          "size": 8,
          "symbol": [
           "x"
          ]
         },
         "mode": "markers",
         "name": "UCBS",
         "orientation": "h",
         "showlegend": false,
         "type": "scatter",
         "x": [
          0.9415087272727273
         ],
         "xaxis": "x2",
         "y": [
          0.7762
         ],
         "yaxis": "y2"
        },
        {
         "legendgroup": "UCBS",
         "marker": {
          "color": [
           "maroon"
          ],
          "size": 8,
          "symbol": [
           "x"
          ]
         },
         "mode": "markers",
         "name": "UCBS",
         "orientation": "h",
         "showlegend": false,
         "type": "scatter",
         "x": [
          255.4
         ],
         "xaxis": "x7",
         "y": [
          0.7762
         ],
         "yaxis": "y7"
        },
        {
         "legendgroup": "EGS",
         "marker": {
          "color": [
           "darkgray"
          ],
          "size": 8,
          "symbol": [
           "diamond"
          ]
         },
         "mode": "markers",
         "name": "EGS",
         "orientation": "h",
         "showlegend": false,
         "type": "scatter",
         "x": [
          0.9402370454545455
         ],
         "xaxis": "x2",
         "y": [
          0.6008
         ],
         "yaxis": "y2"
        },
        {
         "legendgroup": "EGS",
         "marker": {
          "color": [
           "darkgray"
          ],
          "size": 8,
          "symbol": [
           "diamond"
          ]
         },
         "mode": "markers",
         "name": "EGS",
         "orientation": "h",
         "showlegend": false,
         "type": "scatter",
         "x": [
          324.6
         ],
         "xaxis": "x7",
         "y": [
          0.6008
         ],
         "yaxis": "y7"
        },
        {
         "legendgroup": "ES",
         "marker": {
          "color": [
           "red"
          ],
          "size": 8,
          "symbol": [
           "square"
          ]
         },
         "mode": "markers",
         "name": "ES",
         "orientation": "h",
         "showlegend": false,
         "type": "scatter",
         "x": [
          0.9399129181818182
         ],
         "xaxis": "x3",
         "y": [
          0.799
         ],
         "yaxis": "y3"
        },
        {
         "legendgroup": "ES",
         "marker": {
          "color": [
           "red"
          ],
          "size": 8,
          "symbol": [
           "square"
          ]
         },
         "mode": "markers",
         "name": "ES",
         "orientation": "h",
         "showlegend": false,
         "type": "scatter",
         "x": [
          183.8
         ],
         "xaxis": "x8",
         "y": [
          0.799
         ],
         "yaxis": "y8"
        },
        {
         "legendgroup": "A/B",
         "marker": {
          "color": [
           "lime"
          ],
          "size": 8,
          "symbol": [
           "circle"
          ]
         },
         "mode": "markers",
         "name": "A/B",
         "orientation": "h",
         "showlegend": false,
         "type": "scatter",
         "x": [
          0.9090909090909091
         ],
         "xaxis": "x3",
         "y": [
          0.6738
         ],
         "yaxis": "y3"
        },
        {
         "legendgroup": "A/B",
         "marker": {
          "color": [
           "lime"
          ],
          "size": 8,
          "symbol": [
           "circle"
          ]
         },
         "mode": "markers",
         "name": "A/B",
         "orientation": "h",
         "showlegend": false,
         "type": "scatter",
         "x": [
          1000
         ],
         "xaxis": "x8",
         "y": [
          0.6738
         ],
         "yaxis": "y8"
        },
        {
         "legendgroup": "UES",
         "marker": {
          "color": [
           "yellowgreen"
          ],
          "size": 8,
          "symbol": [
           "star"
          ]
         },
         "mode": "markers",
         "name": "UES",
         "orientation": "h",
         "showlegend": false,
         "type": "scatter",
         "x": [
          0.9310211545454545
         ],
         "xaxis": "x3",
         "y": [
          0.7156
         ],
         "yaxis": "y3"
        },
        {
         "legendgroup": "UES",
         "marker": {
          "color": [
           "yellowgreen"
          ],
          "size": 8,
          "symbol": [
           "star"
          ]
         },
         "mode": "markers",
         "name": "UES",
         "orientation": "h",
         "showlegend": false,
         "type": "scatter",
         "x": [
          241.8
         ],
         "xaxis": "x8",
         "y": [
          0.7156
         ],
         "yaxis": "y8"
        },
        {
         "legendgroup": "TSS",
         "marker": {
          "color": [
           "blueviolet"
          ],
          "size": 8,
          "symbol": [
           "triangle-up"
          ]
         },
         "mode": "markers",
         "name": "TSS",
         "orientation": "h",
         "showlegend": false,
         "type": "scatter",
         "x": [
          0.9416470818181818
         ],
         "xaxis": "x3",
         "y": [
          0.297
         ],
         "yaxis": "y3"
        },
        {
         "legendgroup": "TSS",
         "marker": {
          "color": [
           "blueviolet"
          ],
          "size": 8,
          "symbol": [
           "triangle-up"
          ]
         },
         "mode": "markers",
         "name": "TSS",
         "orientation": "h",
         "showlegend": false,
         "type": "scatter",
         "x": [
          572.2
         ],
         "xaxis": "x8",
         "y": [
          0.297
         ],
         "yaxis": "y8"
        },
        {
         "legendgroup": "UCBS",
         "marker": {
          "color": [
           "maroon"
          ],
          "size": 8,
          "symbol": [
           "x"
          ]
         },
         "mode": "markers",
         "name": "UCBS",
         "orientation": "h",
         "showlegend": false,
         "type": "scatter",
         "x": [
          0.940636690909091
         ],
         "xaxis": "x3",
         "y": [
          0.1142
         ],
         "yaxis": "y3"
        },
        {
         "legendgroup": "UCBS",
         "marker": {
          "color": [
           "maroon"
          ],
          "size": 8,
          "symbol": [
           "x"
          ]
         },
         "mode": "markers",
         "name": "UCBS",
         "orientation": "h",
         "showlegend": false,
         "type": "scatter",
         "x": [
          544
         ],
         "xaxis": "x8",
         "y": [
          0.1142
         ],
         "yaxis": "y8"
        },
        {
         "legendgroup": "EGS",
         "marker": {
          "color": [
           "darkgray"
          ],
          "size": 8,
          "symbol": [
           "diamond"
          ]
         },
         "mode": "markers",
         "name": "EGS",
         "orientation": "h",
         "showlegend": false,
         "type": "scatter",
         "x": [
          0.9396285818181819
         ],
         "xaxis": "x3",
         "y": [
          0.4904
         ],
         "yaxis": "y3"
        },
        {
         "legendgroup": "EGS",
         "marker": {
          "color": [
           "darkgray"
          ],
          "size": 8,
          "symbol": [
           "diamond"
          ]
         },
         "mode": "markers",
         "name": "EGS",
         "orientation": "h",
         "showlegend": false,
         "type": "scatter",
         "x": [
          404.4
         ],
         "xaxis": "x8",
         "y": [
          0.4904
         ],
         "yaxis": "y8"
        },
        {
         "legendgroup": "ES",
         "marker": {
          "color": [
           "red"
          ],
          "size": 8,
          "symbol": [
           "square"
          ]
         },
         "mode": "markers",
         "name": "ES",
         "orientation": "h",
         "showlegend": false,
         "type": "scatter",
         "x": [
          0.9395331090909091
         ],
         "xaxis": "x4",
         "y": [
          0.7712
         ],
         "yaxis": "y4"
        },
        {
         "legendgroup": "ES",
         "marker": {
          "color": [
           "red"
          ],
          "size": 8,
          "symbol": [
           "square"
          ]
         },
         "mode": "markers",
         "name": "ES",
         "orientation": "h",
         "showlegend": false,
         "type": "scatter",
         "x": [
          212.8
         ],
         "xaxis": "x9",
         "y": [
          0.7712
         ],
         "yaxis": "y9"
        },
        {
         "legendgroup": "A/B",
         "marker": {
          "color": [
           "lime"
          ],
          "size": 8,
          "symbol": [
           "circle"
          ]
         },
         "mode": "markers",
         "name": "A/B",
         "orientation": "h",
         "showlegend": false,
         "type": "scatter",
         "x": [
          0.908967830909091
         ],
         "xaxis": "x4",
         "y": [
          0.6288
         ],
         "yaxis": "y4"
        },
        {
         "legendgroup": "A/B",
         "marker": {
          "color": [
           "lime"
          ],
          "size": 8,
          "symbol": [
           "circle"
          ]
         },
         "mode": "markers",
         "name": "A/B",
         "orientation": "h",
         "showlegend": false,
         "type": "scatter",
         "x": [
          1000
         ],
         "xaxis": "x9",
         "y": [
          0.6288
         ],
         "yaxis": "y9"
        },
        {
         "legendgroup": "UES",
         "marker": {
          "color": [
           "yellowgreen"
          ],
          "size": 8,
          "symbol": [
           "star"
          ]
         },
         "mode": "markers",
         "name": "UES",
         "orientation": "h",
         "showlegend": false,
         "type": "scatter",
         "x": [
          0.9296253636363637
         ],
         "xaxis": "x4",
         "y": [
          0.674
         ],
         "yaxis": "y4"
        },
        {
         "legendgroup": "UES",
         "marker": {
          "color": [
           "yellowgreen"
          ],
          "size": 8,
          "symbol": [
           "star"
          ]
         },
         "mode": "markers",
         "name": "UES",
         "orientation": "h",
         "showlegend": false,
         "type": "scatter",
         "x": [
          268.8
         ],
         "xaxis": "x9",
         "y": [
          0.674
         ],
         "yaxis": "y9"
        },
        {
         "legendgroup": "TSS",
         "marker": {
          "color": [
           "blueviolet"
          ],
          "size": 8,
          "symbol": [
           "triangle-up"
          ]
         },
         "mode": "markers",
         "name": "TSS",
         "orientation": "h",
         "showlegend": false,
         "type": "scatter",
         "x": [
          0.9412945636363635
         ],
         "xaxis": "x4",
         "y": [
          0.1774
         ],
         "yaxis": "y4"
        },
        {
         "legendgroup": "TSS",
         "marker": {
          "color": [
           "blueviolet"
          ],
          "size": 8,
          "symbol": [
           "triangle-up"
          ]
         },
         "mode": "markers",
         "name": "TSS",
         "orientation": "h",
         "showlegend": false,
         "type": "scatter",
         "x": [
          600.2
         ],
         "xaxis": "x9",
         "y": [
          0.1774
         ],
         "yaxis": "y9"
        },
        {
         "legendgroup": "UCBS",
         "marker": {
          "color": [
           "maroon"
          ],
          "size": 8,
          "symbol": [
           "x"
          ]
         },
         "mode": "markers",
         "name": "UCBS",
         "orientation": "h",
         "showlegend": false,
         "type": "scatter",
         "x": [
          0.9401115363636364
         ],
         "xaxis": "x4",
         "y": [
          0.0172
         ],
         "yaxis": "y4"
        },
        {
         "legendgroup": "UCBS",
         "marker": {
          "color": [
           "maroon"
          ],
          "size": 8,
          "symbol": [
           "x"
          ]
         },
         "mode": "markers",
         "name": "UCBS",
         "orientation": "h",
         "showlegend": false,
         "type": "scatter",
         "x": [
          453
         ],
         "xaxis": "x9",
         "y": [
          0.0172
         ],
         "yaxis": "y9"
        },
        {
         "legendgroup": "EGS",
         "marker": {
          "color": [
           "darkgray"
          ],
          "size": 8,
          "symbol": [
           "diamond"
          ]
         },
         "mode": "markers",
         "name": "EGS",
         "orientation": "h",
         "showlegend": false,
         "type": "scatter",
         "x": [
          0.9393094818181819
         ],
         "xaxis": "x4",
         "y": [
          0.4204
         ],
         "yaxis": "y4"
        },
        {
         "legendgroup": "EGS",
         "marker": {
          "color": [
           "darkgray"
          ],
          "size": 8,
          "symbol": [
           "diamond"
          ]
         },
         "mode": "markers",
         "name": "EGS",
         "orientation": "h",
         "showlegend": false,
         "type": "scatter",
         "x": [
          468.2
         ],
         "xaxis": "x9",
         "y": [
          0.4204
         ],
         "yaxis": "y9"
        },
        {
         "legendgroup": "ES",
         "marker": {
          "color": [
           "red"
          ],
          "size": 8,
          "symbol": [
           "square"
          ]
         },
         "mode": "markers",
         "name": "ES",
         "orientation": "h",
         "showlegend": false,
         "type": "scatter",
         "x": [
          0.9387425909090908
         ],
         "xaxis": "x5",
         "y": [
          0.7506
         ],
         "yaxis": "y5"
        },
        {
         "legendgroup": "ES",
         "marker": {
          "color": [
           "red"
          ],
          "size": 8,
          "symbol": [
           "square"
          ]
         },
         "mode": "markers",
         "name": "ES",
         "orientation": "h",
         "showlegend": false,
         "type": "scatter",
         "x": [
          238
         ],
         "xaxis": "x10",
         "y": [
          0.7506
         ],
         "yaxis": "y10"
        },
        {
         "legendgroup": "A/B",
         "marker": {
          "color": [
           "lime"
          ],
          "size": 8,
          "symbol": [
           "circle"
          ]
         },
         "mode": "markers",
         "name": "A/B",
         "orientation": "h",
         "showlegend": false,
         "type": "scatter",
         "x": [
          0.9089026145454546
         ],
         "xaxis": "x5",
         "y": [
          0.5848
         ],
         "yaxis": "y5"
        },
        {
         "legendgroup": "A/B",
         "marker": {
          "color": [
           "lime"
          ],
          "size": 8,
          "symbol": [
           "circle"
          ]
         },
         "mode": "markers",
         "name": "A/B",
         "orientation": "h",
         "showlegend": false,
         "type": "scatter",
         "x": [
          1000
         ],
         "xaxis": "x10",
         "y": [
          0.5848
         ],
         "yaxis": "y10"
        },
        {
         "legendgroup": "UES",
         "marker": {
          "color": [
           "yellowgreen"
          ],
          "size": 8,
          "symbol": [
           "star"
          ]
         },
         "mode": "markers",
         "name": "UES",
         "orientation": "h",
         "showlegend": false,
         "type": "scatter",
         "x": [
          0.9284799636363636
         ],
         "xaxis": "x5",
         "y": [
          0.6464
         ],
         "yaxis": "y5"
        },
        {
         "legendgroup": "UES",
         "marker": {
          "color": [
           "yellowgreen"
          ],
          "size": 8,
          "symbol": [
           "star"
          ]
         },
         "mode": "markers",
         "name": "UES",
         "orientation": "h",
         "showlegend": false,
         "type": "scatter",
         "x": [
          295.2
         ],
         "xaxis": "x10",
         "y": [
          0.6464
         ],
         "yaxis": "y10"
        },
        {
         "legendgroup": "TSS",
         "marker": {
          "color": [
           "blueviolet"
          ],
          "size": 8,
          "symbol": [
           "triangle-up"
          ]
         },
         "mode": "markers",
         "name": "TSS",
         "orientation": "h",
         "showlegend": false,
         "type": "scatter",
         "x": [
          0.940660390909091
         ],
         "xaxis": "x5",
         "y": [
          0.117
         ],
         "yaxis": "y5"
        },
        {
         "legendgroup": "TSS",
         "marker": {
          "color": [
           "blueviolet"
          ],
          "size": 8,
          "symbol": [
           "triangle-up"
          ]
         },
         "mode": "markers",
         "name": "TSS",
         "orientation": "h",
         "showlegend": false,
         "type": "scatter",
         "x": [
          606.8
         ],
         "xaxis": "x10",
         "y": [
          0.117
         ],
         "yaxis": "y10"
        },
        {
         "legendgroup": "UCBS",
         "marker": {
          "color": [
           "maroon"
          ],
          "size": 8,
          "symbol": [
           "x"
          ]
         },
         "mode": "markers",
         "name": "UCBS",
         "orientation": "h",
         "showlegend": false,
         "type": "scatter",
         "x": [
          0.940268009090909
         ],
         "xaxis": "x5",
         "y": [
          0.0104
         ],
         "yaxis": "y5"
        },
        {
         "legendgroup": "UCBS",
         "marker": {
          "color": [
           "maroon"
          ],
          "size": 8,
          "symbol": [
           "x"
          ]
         },
         "mode": "markers",
         "name": "UCBS",
         "orientation": "h",
         "showlegend": false,
         "type": "scatter",
         "x": [
          462
         ],
         "xaxis": "x10",
         "y": [
          0.0104
         ],
         "yaxis": "y10"
        },
        {
         "legendgroup": "EGS",
         "marker": {
          "color": [
           "darkgray"
          ],
          "size": 8,
          "symbol": [
           "diamond"
          ]
         },
         "mode": "markers",
         "name": "EGS",
         "orientation": "h",
         "showlegend": false,
         "type": "scatter",
         "x": [
          0.9387530909090909
         ],
         "xaxis": "x5",
         "y": [
          0.3302
         ],
         "yaxis": "y5"
        },
        {
         "legendgroup": "EGS",
         "marker": {
          "color": [
           "darkgray"
          ],
          "size": 8,
          "symbol": [
           "diamond"
          ]
         },
         "mode": "markers",
         "name": "EGS",
         "orientation": "h",
         "showlegend": false,
         "type": "scatter",
         "x": [
          521.6
         ],
         "xaxis": "x10",
         "y": [
          0.3302
         ],
         "yaxis": "y10"
        }
       ],
       "layout": {
        "annotations": [
         {
          "font": {
           "size": 20
          },
          "showarrow": false,
          "text": "$C = 1$",
          "x": 0.088,
          "xanchor": "center",
          "xref": "paper",
          "y": 1,
          "yanchor": "bottom",
          "yref": "paper"
         },
         {
          "font": {
           "size": 20
          },
          "showarrow": false,
          "text": "$C = 5$",
          "x": 0.294,
          "xanchor": "center",
          "xref": "paper",
          "y": 1,
          "yanchor": "bottom",
          "yref": "paper"
         },
         {
          "font": {
           "size": 20
          },
          "showarrow": false,
          "text": "$C = 10$",
          "x": 0.5,
          "xanchor": "center",
          "xref": "paper",
          "y": 1,
          "yanchor": "bottom",
          "yref": "paper"
         },
         {
          "font": {
           "size": 20
          },
          "showarrow": false,
          "text": "$C = 15$",
          "x": 0.706,
          "xanchor": "center",
          "xref": "paper",
          "y": 1,
          "yanchor": "bottom",
          "yref": "paper"
         },
         {
          "font": {
           "size": 20
          },
          "showarrow": false,
          "text": "$C = 20$",
          "x": 0.9119999999999999,
          "xanchor": "center",
          "xref": "paper",
          "y": 1,
          "yanchor": "bottom",
          "yref": "paper"
         },
         {
          "font": {
           "size": 20
          },
          "showarrow": false,
          "text": "Power",
          "textangle": -90,
          "x": 0,
          "xanchor": "right",
          "xref": "paper",
          "xshift": -40,
          "y": 0.5,
          "yanchor": "middle",
          "yref": "paper"
         }
        ],
        "font": {
         "size": 16
        },
        "height": 800,
        "legend": {
         "orientation": "h",
         "x": 0.33,
         "y": -0.15
        },
        "plot_bgcolor": "rgb(242,242,242)",
        "shapes": [
         {
          "type": "line",
          "x0": 0,
          "x1": 1,
          "xref": "x domain",
          "y0": 0.8,
          "y1": 0.8,
          "yref": "y"
         },
         {
          "type": "line",
          "x0": 0,
          "x1": 1,
          "xref": "x2 domain",
          "y0": 0.8,
          "y1": 0.8,
          "yref": "y2"
         },
         {
          "type": "line",
          "x0": 0,
          "x1": 1,
          "xref": "x3 domain",
          "y0": 0.8,
          "y1": 0.8,
          "yref": "y3"
         },
         {
          "type": "line",
          "x0": 0,
          "x1": 1,
          "xref": "x4 domain",
          "y0": 0.8,
          "y1": 0.8,
          "yref": "y4"
         },
         {
          "type": "line",
          "x0": 0,
          "x1": 1,
          "xref": "x5 domain",
          "y0": 0.8,
          "y1": 0.8,
          "yref": "y5"
         },
         {
          "type": "line",
          "x0": 0,
          "x1": 1,
          "xref": "x6 domain",
          "y0": 0.8,
          "y1": 0.8,
          "yref": "y6"
         },
         {
          "type": "line",
          "x0": 0,
          "x1": 1,
          "xref": "x7 domain",
          "y0": 0.8,
          "y1": 0.8,
          "yref": "y7"
         },
         {
          "type": "line",
          "x0": 0,
          "x1": 1,
          "xref": "x8 domain",
          "y0": 0.8,
          "y1": 0.8,
          "yref": "y8"
         },
         {
          "type": "line",
          "x0": 0,
          "x1": 1,
          "xref": "x9 domain",
          "y0": 0.8,
          "y1": 0.8,
          "yref": "y9"
         },
         {
          "type": "line",
          "x0": 0,
          "x1": 1,
          "xref": "x10 domain",
          "y0": 0.8,
          "y1": 0.8,
          "yref": "y10"
         }
        ],
        "template": {
         "data": {
          "bar": [
           {
            "error_x": {
             "color": "#2a3f5f"
            },
            "error_y": {
             "color": "#2a3f5f"
            },
            "marker": {
             "line": {
              "color": "#E5ECF6",
              "width": 0.5
             },
             "pattern": {
              "fillmode": "overlay",
              "size": 10,
              "solidity": 0.2
             }
            },
            "type": "bar"
           }
          ],
          "barpolar": [
           {
            "marker": {
             "line": {
              "color": "#E5ECF6",
              "width": 0.5
             },
             "pattern": {
              "fillmode": "overlay",
              "size": 10,
              "solidity": 0.2
             }
            },
            "type": "barpolar"
           }
          ],
          "carpet": [
           {
            "aaxis": {
             "endlinecolor": "#2a3f5f",
             "gridcolor": "white",
             "linecolor": "white",
             "minorgridcolor": "white",
             "startlinecolor": "#2a3f5f"
            },
            "baxis": {
             "endlinecolor": "#2a3f5f",
             "gridcolor": "white",
             "linecolor": "white",
             "minorgridcolor": "white",
             "startlinecolor": "#2a3f5f"
            },
            "type": "carpet"
           }
          ],
          "choropleth": [
           {
            "colorbar": {
             "outlinewidth": 0,
             "ticks": ""
            },
            "type": "choropleth"
           }
          ],
          "contour": [
           {
            "colorbar": {
             "outlinewidth": 0,
             "ticks": ""
            },
            "colorscale": [
             [
              0,
              "#0d0887"
             ],
             [
              0.1111111111111111,
              "#46039f"
             ],
             [
              0.2222222222222222,
              "#7201a8"
             ],
             [
              0.3333333333333333,
              "#9c179e"
             ],
             [
              0.4444444444444444,
              "#bd3786"
             ],
             [
              0.5555555555555556,
              "#d8576b"
             ],
             [
              0.6666666666666666,
              "#ed7953"
             ],
             [
              0.7777777777777778,
              "#fb9f3a"
             ],
             [
              0.8888888888888888,
              "#fdca26"
             ],
             [
              1,
              "#f0f921"
             ]
            ],
            "type": "contour"
           }
          ],
          "contourcarpet": [
           {
            "colorbar": {
             "outlinewidth": 0,
             "ticks": ""
            },
            "type": "contourcarpet"
           }
          ],
          "heatmap": [
           {
            "colorbar": {
             "outlinewidth": 0,
             "ticks": ""
            },
            "colorscale": [
             [
              0,
              "#0d0887"
             ],
             [
              0.1111111111111111,
              "#46039f"
             ],
             [
              0.2222222222222222,
              "#7201a8"
             ],
             [
              0.3333333333333333,
              "#9c179e"
             ],
             [
              0.4444444444444444,
              "#bd3786"
             ],
             [
              0.5555555555555556,
              "#d8576b"
             ],
             [
              0.6666666666666666,
              "#ed7953"
             ],
             [
              0.7777777777777778,
              "#fb9f3a"
             ],
             [
              0.8888888888888888,
              "#fdca26"
             ],
             [
              1,
              "#f0f921"
             ]
            ],
            "type": "heatmap"
           }
          ],
          "heatmapgl": [
           {
            "colorbar": {
             "outlinewidth": 0,
             "ticks": ""
            },
            "colorscale": [
             [
              0,
              "#0d0887"
             ],
             [
              0.1111111111111111,
              "#46039f"
             ],
             [
              0.2222222222222222,
              "#7201a8"
             ],
             [
              0.3333333333333333,
              "#9c179e"
             ],
             [
              0.4444444444444444,
              "#bd3786"
             ],
             [
              0.5555555555555556,
              "#d8576b"
             ],
             [
              0.6666666666666666,
              "#ed7953"
             ],
             [
              0.7777777777777778,
              "#fb9f3a"
             ],
             [
              0.8888888888888888,
              "#fdca26"
             ],
             [
              1,
              "#f0f921"
             ]
            ],
            "type": "heatmapgl"
           }
          ],
          "histogram": [
           {
            "marker": {
             "pattern": {
              "fillmode": "overlay",
              "size": 10,
              "solidity": 0.2
             }
            },
            "type": "histogram"
           }
          ],
          "histogram2d": [
           {
            "colorbar": {
             "outlinewidth": 0,
             "ticks": ""
            },
            "colorscale": [
             [
              0,
              "#0d0887"
             ],
             [
              0.1111111111111111,
              "#46039f"
             ],
             [
              0.2222222222222222,
              "#7201a8"
             ],
             [
              0.3333333333333333,
              "#9c179e"
             ],
             [
              0.4444444444444444,
              "#bd3786"
             ],
             [
              0.5555555555555556,
              "#d8576b"
             ],
             [
              0.6666666666666666,
              "#ed7953"
             ],
             [
              0.7777777777777778,
              "#fb9f3a"
             ],
             [
              0.8888888888888888,
              "#fdca26"
             ],
             [
              1,
              "#f0f921"
             ]
            ],
            "type": "histogram2d"
           }
          ],
          "histogram2dcontour": [
           {
            "colorbar": {
             "outlinewidth": 0,
             "ticks": ""
            },
            "colorscale": [
             [
              0,
              "#0d0887"
             ],
             [
              0.1111111111111111,
              "#46039f"
             ],
             [
              0.2222222222222222,
              "#7201a8"
             ],
             [
              0.3333333333333333,
              "#9c179e"
             ],
             [
              0.4444444444444444,
              "#bd3786"
             ],
             [
              0.5555555555555556,
              "#d8576b"
             ],
             [
              0.6666666666666666,
              "#ed7953"
             ],
             [
              0.7777777777777778,
              "#fb9f3a"
             ],
             [
              0.8888888888888888,
              "#fdca26"
             ],
             [
              1,
              "#f0f921"
             ]
            ],
            "type": "histogram2dcontour"
           }
          ],
          "mesh3d": [
           {
            "colorbar": {
             "outlinewidth": 0,
             "ticks": ""
            },
            "type": "mesh3d"
           }
          ],
          "parcoords": [
           {
            "line": {
             "colorbar": {
              "outlinewidth": 0,
              "ticks": ""
             }
            },
            "type": "parcoords"
           }
          ],
          "pie": [
           {
            "automargin": true,
            "type": "pie"
           }
          ],
          "scatter": [
           {
            "fillpattern": {
             "fillmode": "overlay",
             "size": 10,
             "solidity": 0.2
            },
            "type": "scatter"
           }
          ],
          "scatter3d": [
           {
            "line": {
             "colorbar": {
              "outlinewidth": 0,
              "ticks": ""
             }
            },
            "marker": {
             "colorbar": {
              "outlinewidth": 0,
              "ticks": ""
             }
            },
            "type": "scatter3d"
           }
          ],
          "scattercarpet": [
           {
            "marker": {
             "colorbar": {
              "outlinewidth": 0,
              "ticks": ""
             }
            },
            "type": "scattercarpet"
           }
          ],
          "scattergeo": [
           {
            "marker": {
             "colorbar": {
              "outlinewidth": 0,
              "ticks": ""
             }
            },
            "type": "scattergeo"
           }
          ],
          "scattergl": [
           {
            "marker": {
             "colorbar": {
              "outlinewidth": 0,
              "ticks": ""
             }
            },
            "type": "scattergl"
           }
          ],
          "scattermapbox": [
           {
            "marker": {
             "colorbar": {
              "outlinewidth": 0,
              "ticks": ""
             }
            },
            "type": "scattermapbox"
           }
          ],
          "scatterpolar": [
           {
            "marker": {
             "colorbar": {
              "outlinewidth": 0,
              "ticks": ""
             }
            },
            "type": "scatterpolar"
           }
          ],
          "scatterpolargl": [
           {
            "marker": {
             "colorbar": {
              "outlinewidth": 0,
              "ticks": ""
             }
            },
            "type": "scatterpolargl"
           }
          ],
          "scatterternary": [
           {
            "marker": {
             "colorbar": {
              "outlinewidth": 0,
              "ticks": ""
             }
            },
            "type": "scatterternary"
           }
          ],
          "surface": [
           {
            "colorbar": {
             "outlinewidth": 0,
             "ticks": ""
            },
            "colorscale": [
             [
              0,
              "#0d0887"
             ],
             [
              0.1111111111111111,
              "#46039f"
             ],
             [
              0.2222222222222222,
              "#7201a8"
             ],
             [
              0.3333333333333333,
              "#9c179e"
             ],
             [
              0.4444444444444444,
              "#bd3786"
             ],
             [
              0.5555555555555556,
              "#d8576b"
             ],
             [
              0.6666666666666666,
              "#ed7953"
             ],
             [
              0.7777777777777778,
              "#fb9f3a"
             ],
             [
              0.8888888888888888,
              "#fdca26"
             ],
             [
              1,
              "#f0f921"
             ]
            ],
            "type": "surface"
           }
          ],
          "table": [
           {
            "cells": {
             "fill": {
              "color": "#EBF0F8"
             },
             "line": {
              "color": "white"
             }
            },
            "header": {
             "fill": {
              "color": "#C8D4E3"
             },
             "line": {
              "color": "white"
             }
            },
            "type": "table"
           }
          ]
         },
         "layout": {
          "annotationdefaults": {
           "arrowcolor": "#2a3f5f",
           "arrowhead": 0,
           "arrowwidth": 1
          },
          "autotypenumbers": "strict",
          "coloraxis": {
           "colorbar": {
            "outlinewidth": 0,
            "ticks": ""
           }
          },
          "colorscale": {
           "diverging": [
            [
             0,
             "#8e0152"
            ],
            [
             0.1,
             "#c51b7d"
            ],
            [
             0.2,
             "#de77ae"
            ],
            [
             0.3,
             "#f1b6da"
            ],
            [
             0.4,
             "#fde0ef"
            ],
            [
             0.5,
             "#f7f7f7"
            ],
            [
             0.6,
             "#e6f5d0"
            ],
            [
             0.7,
             "#b8e186"
            ],
            [
             0.8,
             "#7fbc41"
            ],
            [
             0.9,
             "#4d9221"
            ],
            [
             1,
             "#276419"
            ]
           ],
           "sequential": [
            [
             0,
             "#0d0887"
            ],
            [
             0.1111111111111111,
             "#46039f"
            ],
            [
             0.2222222222222222,
             "#7201a8"
            ],
            [
             0.3333333333333333,
             "#9c179e"
            ],
            [
             0.4444444444444444,
             "#bd3786"
            ],
            [
             0.5555555555555556,
             "#d8576b"
            ],
            [
             0.6666666666666666,
             "#ed7953"
            ],
            [
             0.7777777777777778,
             "#fb9f3a"
            ],
            [
             0.8888888888888888,
             "#fdca26"
            ],
            [
             1,
             "#f0f921"
            ]
           ],
           "sequentialminus": [
            [
             0,
             "#0d0887"
            ],
            [
             0.1111111111111111,
             "#46039f"
            ],
            [
             0.2222222222222222,
             "#7201a8"
            ],
            [
             0.3333333333333333,
             "#9c179e"
            ],
            [
             0.4444444444444444,
             "#bd3786"
            ],
            [
             0.5555555555555556,
             "#d8576b"
            ],
            [
             0.6666666666666666,
             "#ed7953"
            ],
            [
             0.7777777777777778,
             "#fb9f3a"
            ],
            [
             0.8888888888888888,
             "#fdca26"
            ],
            [
             1,
             "#f0f921"
            ]
           ]
          },
          "colorway": [
           "#636efa",
           "#EF553B",
           "#00cc96",
           "#ab63fa",
           "#FFA15A",
           "#19d3f3",
           "#FF6692",
           "#B6E880",
           "#FF97FF",
           "#FECB52"
          ],
          "font": {
           "color": "#2a3f5f"
          },
          "geo": {
           "bgcolor": "white",
           "lakecolor": "white",
           "landcolor": "#E5ECF6",
           "showlakes": true,
           "showland": true,
           "subunitcolor": "white"
          },
          "hoverlabel": {
           "align": "left"
          },
          "hovermode": "closest",
          "mapbox": {
           "style": "light"
          },
          "paper_bgcolor": "white",
          "plot_bgcolor": "#E5ECF6",
          "polar": {
           "angularaxis": {
            "gridcolor": "white",
            "linecolor": "white",
            "ticks": ""
           },
           "bgcolor": "#E5ECF6",
           "radialaxis": {
            "gridcolor": "white",
            "linecolor": "white",
            "ticks": ""
           }
          },
          "scene": {
           "xaxis": {
            "backgroundcolor": "#E5ECF6",
            "gridcolor": "white",
            "gridwidth": 2,
            "linecolor": "white",
            "showbackground": true,
            "ticks": "",
            "zerolinecolor": "white"
           },
           "yaxis": {
            "backgroundcolor": "#E5ECF6",
            "gridcolor": "white",
            "gridwidth": 2,
            "linecolor": "white",
            "showbackground": true,
            "ticks": "",
            "zerolinecolor": "white"
           },
           "zaxis": {
            "backgroundcolor": "#E5ECF6",
            "gridcolor": "white",
            "gridwidth": 2,
            "linecolor": "white",
            "showbackground": true,
            "ticks": "",
            "zerolinecolor": "white"
           }
          },
          "shapedefaults": {
           "line": {
            "color": "#2a3f5f"
           }
          },
          "ternary": {
           "aaxis": {
            "gridcolor": "white",
            "linecolor": "white",
            "ticks": ""
           },
           "baxis": {
            "gridcolor": "white",
            "linecolor": "white",
            "ticks": ""
           },
           "bgcolor": "#E5ECF6",
           "caxis": {
            "gridcolor": "white",
            "linecolor": "white",
            "ticks": ""
           }
          },
          "title": {
           "x": 0.05
          },
          "xaxis": {
           "automargin": true,
           "gridcolor": "white",
           "linecolor": "white",
           "ticks": "",
           "title": {
            "standoff": 15
           },
           "zerolinecolor": "white",
           "zerolinewidth": 2
          },
          "yaxis": {
           "automargin": true,
           "gridcolor": "white",
           "linecolor": "white",
           "ticks": "",
           "title": {
            "standoff": 15
           },
           "zerolinecolor": "white",
           "zerolinewidth": 2
          }
         }
        },
        "width": 1600,
        "xaxis": {
         "anchor": "y",
         "domain": [
          0,
          0.176
         ],
         "range": [
          0.9,
          0.95
         ],
         "type": "linear"
        },
        "xaxis10": {
         "anchor": "y10",
         "domain": [
          0.824,
          1
         ],
         "range": [
          0,
          1100
         ],
         "type": "linear"
        },
        "xaxis2": {
         "anchor": "y2",
         "domain": [
          0.206,
          0.382
         ],
         "range": [
          0.9,
          0.95
         ],
         "type": "linear"
        },
        "xaxis3": {
         "anchor": "y3",
         "domain": [
          0.412,
          0.588
         ],
         "range": [
          0.9,
          0.95
         ],
         "title": {
          "text": "Normalized averaged rewards"
         },
         "type": "linear"
        },
        "xaxis4": {
         "anchor": "y4",
         "domain": [
          0.618,
          0.794
         ],
         "range": [
          0.9,
          0.95
         ],
         "type": "linear"
        },
        "xaxis5": {
         "anchor": "y5",
         "domain": [
          0.824,
          1
         ],
         "range": [
          0.9,
          0.95
         ],
         "type": "linear"
        },
        "xaxis6": {
         "anchor": "y6",
         "domain": [
          0,
          0.176
         ],
         "range": [
          0,
          1100
         ],
         "type": "linear"
        },
        "xaxis7": {
         "anchor": "y7",
         "domain": [
          0.206,
          0.382
         ],
         "range": [
          0,
          1100
         ],
         "type": "linear"
        },
        "xaxis8": {
         "anchor": "y8",
         "domain": [
          0.412,
          0.588
         ],
         "range": [
          0,
          1100
         ],
         "title": {
          "text": "Averaged sample size per arm"
         },
         "type": "linear"
        },
        "xaxis9": {
         "anchor": "y9",
         "domain": [
          0.618,
          0.794
         ],
         "range": [
          0,
          1100
         ],
         "type": "linear"
        },
        "yaxis": {
         "anchor": "x",
         "autorange": true,
         "domain": [
          0.575,
          1
         ],
         "range": [
          -0.0627415040273547,
          0.9721415040273548
         ],
         "type": "linear"
        },
        "yaxis10": {
         "anchor": "x10",
         "autorange": true,
         "domain": [
          0,
          0.425
         ],
         "matches": "y6",
         "range": [
          -0.06274150402735473,
          0.9721415040273548
         ],
         "showticklabels": false,
         "type": "linear"
        },
        "yaxis2": {
         "anchor": "x2",
         "autorange": true,
         "domain": [
          0.575,
          1
         ],
         "matches": "y",
         "range": [
          -0.0627415040273547,
          0.9721415040273548
         ],
         "showticklabels": false,
         "type": "linear"
        },
        "yaxis3": {
         "anchor": "x3",
         "autorange": true,
         "domain": [
          0.575,
          1
         ],
         "matches": "y",
         "range": [
          -0.0627415040273547,
          0.9721415040273548
         ],
         "showticklabels": false,
         "type": "linear"
        },
        "yaxis4": {
         "anchor": "x4",
         "autorange": true,
         "domain": [
          0.575,
          1
         ],
         "matches": "y",
         "range": [
          -0.0627415040273547,
          0.9721415040273548
         ],
         "showticklabels": false,
         "type": "linear"
        },
        "yaxis5": {
         "anchor": "x5",
         "autorange": true,
         "domain": [
          0.575,
          1
         ],
         "matches": "y",
         "range": [
          -0.0627415040273547,
          0.9721415040273548
         ],
         "showticklabels": false,
         "type": "linear"
        },
        "yaxis6": {
         "anchor": "x6",
         "autorange": true,
         "domain": [
          0,
          0.425
         ],
         "range": [
          -0.06274150402735473,
          0.9721415040273548
         ],
         "type": "linear"
        },
        "yaxis7": {
         "anchor": "x7",
         "autorange": true,
         "domain": [
          0,
          0.425
         ],
         "matches": "y6",
         "range": [
          -0.06274150402735473,
          0.9721415040273548
         ],
         "showticklabels": false,
         "type": "linear"
        },
        "yaxis8": {
         "anchor": "x8",
         "autorange": true,
         "domain": [
          0,
          0.425
         ],
         "matches": "y6",
         "range": [
          -0.06274150402735473,
          0.9721415040273548
         ],
         "showticklabels": false,
         "type": "linear"
        },
        "yaxis9": {
         "anchor": "x9",
         "autorange": true,
         "domain": [
          0,
          0.425
         ],
         "matches": "y6",
         "range": [
          -0.06274150402735473,
          0.9721415040273548
         ],
         "showticklabels": false,
         "type": "linear"
        }
       }
      },
      "image/png": "[encoded data removed]",
      "text/html": [
       "<div>                            <div id=\"c8787641-0101-4c5b-94bf-a94709de8c3e\" class=\"plotly-graph-div\" style=\"height:800px; width:1600px;\"></div>            <script type=\"text/javascript\">                require([\"plotly\"], function(Plotly) {                    window.PLOTLYENV=window.PLOTLYENV || {};                                    if (document.getElementById(\"c8787641-0101-4c5b-94bf-a94709de8c3e\")) {                    Plotly.newPlot(                        \"c8787641-0101-4c5b-94bf-a94709de8c3e\",                        [{\"legendgroup\":\"ES\",\"marker\":{\"color\":[\"red\"],\"size\":8,\"symbol\":[\"square\"]},\"mode\":\"markers\",\"name\":\"ES\",\"orientation\":\"h\",\"showlegend\":true,\"x\":[0.9422866454545455],\"xaxis\":\"x\",\"y\":[0.899],\"yaxis\":\"y\",\"type\":\"scatter\"},{\"legendgroup\":\"ES\",\"marker\":{\"color\":[\"red\"],\"size\":8,\"symbol\":[\"square\"]},\"mode\":\"markers\",\"name\":\"ES\",\"orientation\":\"h\",\"showlegend\":false,\"x\":[86.4],\"xaxis\":\"x6\",\"y\":[0.899],\"yaxis\":\"y6\",\"type\":\"scatter\"},{\"legendgroup\":\"A/B\",\"marker\":{\"color\":[\"lime\"],\"size\":8,\"symbol\":[\"circle\"]},\"mode\":\"markers\",\"name\":\"A/B\",\"orientation\":\"h\",\"showlegend\":true,\"x\":[0.9089395018181818],\"xaxis\":\"x\",\"y\":[0.8308],\"yaxis\":\"y\",\"type\":\"scatter\"},{\"legendgroup\":\"A/B\",\"marker\":{\"color\":[\"lime\"],\"size\":8,\"symbol\":[\"circle\"]},\"mode\":\"markers\",\"name\":\"A/B\",\"orientation\":\"h\",\"showlegend\":false,\"x\":[1000.0],\"xaxis\":\"x6\",\"y\":[0.8308],\"yaxis\":\"y6\",\"type\":\"scatter\"},{\"legendgroup\":\"UES\",\"marker\":{\"color\":[\"yellowgreen\"],\"size\":8,\"symbol\":[\"star\"]},\"mode\":\"markers\",\"name\":\"UES\",\"orientation\":\"h\",\"showlegend\":true,\"x\":[0.9367281545454545],\"xaxis\":\"x\",\"y\":[0.8454],\"yaxis\":\"y\",\"type\":\"scatter\"},{\"legendgroup\":\"UES\",\"marker\":{\"color\":[\"yellowgreen\"],\"size\":8,\"symbol\":[\"star\"]},\"mode\":\"markers\",\"name\":\"UES\",\"orientation\":\"h\",\"showlegend\":false,\"x\":[117.6],\"xaxis\":\"x6\",\"y\":[0.8454],\"yaxis\":\"y6\",\"type\":\"scatter\"},{\"legendgroup\":\"TSS\",\"marker\":{\"color\":[\"blueviolet\"],\"size\":8,\"symbol\":[\"triangle-up\"]},\"mode\":\"markers\",\"name\":\"TSS\",\"orientation\":\"h\",\"showlegend\":true,\"x\":[0.9418889909090908],\"xaxis\":\"x\",\"y\":[0.7214],\"yaxis\":\"y\",\"type\":\"scatter\"},{\"legendgroup\":\"TSS\",\"marker\":{\"color\":[\"blueviolet\"],\"size\":8,\"symbol\":[\"triangle-up\"]},\"mode\":\"markers\",\"name\":\"TSS\",\"orientation\":\"h\",\"showlegend\":false,\"x\":[317.6],\"xaxis\":\"x6\",\"y\":[0.7214],\"yaxis\":\"y6\",\"type\":\"scatter\"},{\"legendgroup\":\"UCBS\",\"marker\":{\"color\":[\"maroon\"],\"size\":8,\"symbol\":[\"x\"]},\"mode\":\"markers\",\"name\":\"UCBS\",\"orientation\":\"h\",\"showlegend\":true,\"x\":[0.9411898999999999],\"xaxis\":\"x\",\"y\":[0.891],\"yaxis\":\"y\",\"type\":\"scatter\"},{\"legendgroup\":\"UCBS\",\"marker\":{\"color\":[\"maroon\"],\"size\":8,\"symbol\":[\"x\"]},\"mode\":\"markers\",\"name\":\"UCBS\",\"orientation\":\"h\",\"showlegend\":false,\"x\":[104.6],\"xaxis\":\"x6\",\"y\":[0.891],\"yaxis\":\"y6\",\"type\":\"scatter\"},{\"legendgroup\":\"EGS\",\"marker\":{\"color\":[\"darkgray\"],\"size\":8,\"symbol\":[\"diamond\"]},\"mode\":\"markers\",\"name\":\"EGS\",\"orientation\":\"h\",\"showlegend\":true,\"x\":[0.9414221090909091],\"xaxis\":\"x\",\"y\":[0.7512],\"yaxis\":\"y\",\"type\":\"scatter\"},{\"legendgroup\":\"EGS\",\"marker\":{\"color\":[\"darkgray\"],\"size\":8,\"symbol\":[\"diamond\"]},\"mode\":\"markers\",\"name\":\"EGS\",\"orientation\":\"h\",\"showlegend\":false,\"x\":[223.8],\"xaxis\":\"x6\",\"y\":[0.7512],\"yaxis\":\"y6\",\"type\":\"scatter\"},{\"legendgroup\":\"ES\",\"marker\":{\"color\":[\"red\"],\"size\":8,\"symbol\":[\"square\"]},\"mode\":\"markers\",\"name\":\"ES\",\"orientation\":\"h\",\"showlegend\":false,\"x\":[0.9408537090909092],\"xaxis\":\"x2\",\"y\":[0.8354],\"yaxis\":\"y2\",\"type\":\"scatter\"},{\"legendgroup\":\"ES\",\"marker\":{\"color\":[\"red\"],\"size\":8,\"symbol\":[\"square\"]},\"mode\":\"markers\",\"name\":\"ES\",\"orientation\":\"h\",\"showlegend\":false,\"x\":[143.4],\"xaxis\":\"x7\",\"y\":[0.8354],\"yaxis\":\"y7\",\"type\":\"scatter\"},{\"legendgroup\":\"A/B\",\"marker\":{\"color\":[\"lime\"],\"size\":8,\"symbol\":[\"circle\"]},\"mode\":\"markers\",\"name\":\"A/B\",\"orientation\":\"h\",\"showlegend\":false,\"x\":[0.9089895463636364],\"xaxis\":\"x2\",\"y\":[0.7446],\"yaxis\":\"y2\",\"type\":\"scatter\"},{\"legendgroup\":\"A/B\",\"marker\":{\"color\":[\"lime\"],\"size\":8,\"symbol\":[\"circle\"]},\"mode\":\"markers\",\"name\":\"A/B\",\"orientation\":\"h\",\"showlegend\":false,\"x\":[1000.0],\"xaxis\":\"x7\",\"y\":[0.7446],\"yaxis\":\"y7\",\"type\":\"scatter\"},{\"legendgroup\":\"UES\",\"marker\":{\"color\":[\"yellowgreen\"],\"size\":8,\"symbol\":[\"star\"]},\"mode\":\"markers\",\"name\":\"UES\",\"orientation\":\"h\",\"showlegend\":false,\"x\":[0.9339683909090909],\"xaxis\":\"x2\",\"y\":[0.776],\"yaxis\":\"y2\",\"type\":\"scatter\"},{\"legendgroup\":\"UES\",\"marker\":{\"color\":[\"yellowgreen\"],\"size\":8,\"symbol\":[\"star\"]},\"mode\":\"markers\",\"name\":\"UES\",\"orientation\":\"h\",\"showlegend\":false,\"x\":[182.2],\"xaxis\":\"x7\",\"y\":[0.776],\"yaxis\":\"y7\",\"type\":\"scatter\"},{\"legendgroup\":\"TSS\",\"marker\":{\"color\":[\"blueviolet\"],\"size\":8,\"symbol\":[\"triangle-up\"]},\"mode\":\"markers\",\"name\":\"TSS\",\"orientation\":\"h\",\"showlegend\":false,\"x\":[0.941381990909091],\"xaxis\":\"x2\",\"y\":[0.496],\"yaxis\":\"y2\",\"type\":\"scatter\"},{\"legendgroup\":\"TSS\",\"marker\":{\"color\":[\"blueviolet\"],\"size\":8,\"symbol\":[\"triangle-up\"]},\"mode\":\"markers\",\"name\":\"TSS\",\"orientation\":\"h\",\"showlegend\":false,\"x\":[482.8],\"xaxis\":\"x7\",\"y\":[0.496],\"yaxis\":\"y7\",\"type\":\"scatter\"},{\"legendgroup\":\"UCBS\",\"marker\":{\"color\":[\"maroon\"],\"size\":8,\"symbol\":[\"x\"]},\"mode\":\"markers\",\"name\":\"UCBS\",\"orientation\":\"h\",\"showlegend\":false,\"x\":[0.9415087272727273],\"xaxis\":\"x2\",\"y\":[0.7762],\"yaxis\":\"y2\",\"type\":\"scatter\"},{\"legendgroup\":\"UCBS\",\"marker\":{\"color\":[\"maroon\"],\"size\":8,\"symbol\":[\"x\"]},\"mode\":\"markers\",\"name\":\"UCBS\",\"orientation\":\"h\",\"showlegend\":false,\"x\":[255.4],\"xaxis\":\"x7\",\"y\":[0.7762],\"yaxis\":\"y7\",\"type\":\"scatter\"},{\"legendgroup\":\"EGS\",\"marker\":{\"color\":[\"darkgray\"],\"size\":8,\"symbol\":[\"diamond\"]},\"mode\":\"markers\",\"name\":\"EGS\",\"orientation\":\"h\",\"showlegend\":false,\"x\":[0.9402370454545455],\"xaxis\":\"x2\",\"y\":[0.6008],\"yaxis\":\"y2\",\"type\":\"scatter\"},{\"legendgroup\":\"EGS\",\"marker\":{\"color\":[\"darkgray\"],\"size\":8,\"symbol\":[\"diamond\"]},\"mode\":\"markers\",\"name\":\"EGS\",\"orientation\":\"h\",\"showlegend\":false,\"x\":[324.6],\"xaxis\":\"x7\",\"y\":[0.6008],\"yaxis\":\"y7\",\"type\":\"scatter\"},{\"legendgroup\":\"ES\",\"marker\":{\"color\":[\"red\"],\"size\":8,\"symbol\":[\"square\"]},\"mode\":\"markers\",\"name\":\"ES\",\"orientation\":\"h\",\"showlegend\":false,\"x\":[0.9399129181818182],\"xaxis\":\"x3\",\"y\":[0.799],\"yaxis\":\"y3\",\"type\":\"scatter\"},{\"legendgroup\":\"ES\",\"marker\":{\"color\":[\"red\"],\"size\":8,\"symbol\":[\"square\"]},\"mode\":\"markers\",\"name\":\"ES\",\"orientation\":\"h\",\"showlegend\":false,\"x\":[183.8],\"xaxis\":\"x8\",\"y\":[0.799],\"yaxis\":\"y8\",\"type\":\"scatter\"},{\"legendgroup\":\"A/B\",\"marker\":{\"color\":[\"lime\"],\"size\":8,\"symbol\":[\"circle\"]},\"mode\":\"markers\",\"name\":\"A/B\",\"orientation\":\"h\",\"showlegend\":false,\"x\":[0.9090909090909091],\"xaxis\":\"x3\",\"y\":[0.6738],\"yaxis\":\"y3\",\"type\":\"scatter\"},{\"legendgroup\":\"A/B\",\"marker\":{\"color\":[\"lime\"],\"size\":8,\"symbol\":[\"circle\"]},\"mode\":\"markers\",\"name\":\"A/B\",\"orientation\":\"h\",\"showlegend\":false,\"x\":[1000.0],\"xaxis\":\"x8\",\"y\":[0.6738],\"yaxis\":\"y8\",\"type\":\"scatter\"},{\"legendgroup\":\"UES\",\"marker\":{\"color\":[\"yellowgreen\"],\"size\":8,\"symbol\":[\"star\"]},\"mode\":\"markers\",\"name\":\"UES\",\"orientation\":\"h\",\"showlegend\":false,\"x\":[0.9310211545454545],\"xaxis\":\"x3\",\"y\":[0.7156],\"yaxis\":\"y3\",\"type\":\"scatter\"},{\"legendgroup\":\"UES\",\"marker\":{\"color\":[\"yellowgreen\"],\"size\":8,\"symbol\":[\"star\"]},\"mode\":\"markers\",\"name\":\"UES\",\"orientation\":\"h\",\"showlegend\":false,\"x\":[241.8],\"xaxis\":\"x8\",\"y\":[0.7156],\"yaxis\":\"y8\",\"type\":\"scatter\"},{\"legendgroup\":\"TSS\",\"marker\":{\"color\":[\"blueviolet\"],\"size\":8,\"symbol\":[\"triangle-up\"]},\"mode\":\"markers\",\"name\":\"TSS\",\"orientation\":\"h\",\"showlegend\":false,\"x\":[0.9416470818181818],\"xaxis\":\"x3\",\"y\":[0.297],\"yaxis\":\"y3\",\"type\":\"scatter\"},{\"legendgroup\":\"TSS\",\"marker\":{\"color\":[\"blueviolet\"],\"size\":8,\"symbol\":[\"triangle-up\"]},\"mode\":\"markers\",\"name\":\"TSS\",\"orientation\":\"h\",\"showlegend\":false,\"x\":[572.2],\"xaxis\":\"x8\",\"y\":[0.297],\"yaxis\":\"y8\",\"type\":\"scatter\"},{\"legendgroup\":\"UCBS\",\"marker\":{\"color\":[\"maroon\"],\"size\":8,\"symbol\":[\"x\"]},\"mode\":\"markers\",\"name\":\"UCBS\",\"orientation\":\"h\",\"showlegend\":false,\"x\":[0.940636690909091],\"xaxis\":\"x3\",\"y\":[0.1142],\"yaxis\":\"y3\",\"type\":\"scatter\"},{\"legendgroup\":\"UCBS\",\"marker\":{\"color\":[\"maroon\"],\"size\":8,\"symbol\":[\"x\"]},\"mode\":\"markers\",\"name\":\"UCBS\",\"orientation\":\"h\",\"showlegend\":false,\"x\":[544.0],\"xaxis\":\"x8\",\"y\":[0.1142],\"yaxis\":\"y8\",\"type\":\"scatter\"},{\"legendgroup\":\"EGS\",\"marker\":{\"color\":[\"darkgray\"],\"size\":8,\"symbol\":[\"diamond\"]},\"mode\":\"markers\",\"name\":\"EGS\",\"orientation\":\"h\",\"showlegend\":false,\"x\":[0.9396285818181819],\"xaxis\":\"x3\",\"y\":[0.4904],\"yaxis\":\"y3\",\"type\":\"scatter\"},{\"legendgroup\":\"EGS\",\"marker\":{\"color\":[\"darkgray\"],\"size\":8,\"symbol\":[\"diamond\"]},\"mode\":\"markers\",\"name\":\"EGS\",\"orientation\":\"h\",\"showlegend\":false,\"x\":[404.4],\"xaxis\":\"x8\",\"y\":[0.4904],\"yaxis\":\"y8\",\"type\":\"scatter\"},{\"legendgroup\":\"ES\",\"marker\":{\"color\":[\"red\"],\"size\":8,\"symbol\":[\"square\"]},\"mode\":\"markers\",\"name\":\"ES\",\"orientation\":\"h\",\"showlegend\":false,\"x\":[0.9395331090909091],\"xaxis\":\"x4\",\"y\":[0.7712],\"yaxis\":\"y4\",\"type\":\"scatter\"},{\"legendgroup\":\"ES\",\"marker\":{\"color\":[\"red\"],\"size\":8,\"symbol\":[\"square\"]},\"mode\":\"markers\",\"name\":\"ES\",\"orientation\":\"h\",\"showlegend\":false,\"x\":[212.8],\"xaxis\":\"x9\",\"y\":[0.7712],\"yaxis\":\"y9\",\"type\":\"scatter\"},{\"legendgroup\":\"A/B\",\"marker\":{\"color\":[\"lime\"],\"size\":8,\"symbol\":[\"circle\"]},\"mode\":\"markers\",\"name\":\"A/B\",\"orientation\":\"h\",\"showlegend\":false,\"x\":[0.908967830909091],\"xaxis\":\"x4\",\"y\":[0.6288],\"yaxis\":\"y4\",\"type\":\"scatter\"},{\"legendgroup\":\"A/B\",\"marker\":{\"color\":[\"lime\"],\"size\":8,\"symbol\":[\"circle\"]},\"mode\":\"markers\",\"name\":\"A/B\",\"orientation\":\"h\",\"showlegend\":false,\"x\":[1000.0],\"xaxis\":\"x9\",\"y\":[0.6288],\"yaxis\":\"y9\",\"type\":\"scatter\"},{\"legendgroup\":\"UES\",\"marker\":{\"color\":[\"yellowgreen\"],\"size\":8,\"symbol\":[\"star\"]},\"mode\":\"markers\",\"name\":\"UES\",\"orientation\":\"h\",\"showlegend\":false,\"x\":[0.9296253636363637],\"xaxis\":\"x4\",\"y\":[0.674],\"yaxis\":\"y4\",\"type\":\"scatter\"},{\"legendgroup\":\"UES\",\"marker\":{\"color\":[\"yellowgreen\"],\"size\":8,\"symbol\":[\"star\"]},\"mode\":\"markers\",\"name\":\"UES\",\"orientation\":\"h\",\"showlegend\":false,\"x\":[268.8],\"xaxis\":\"x9\",\"y\":[0.674],\"yaxis\":\"y9\",\"type\":\"scatter\"},{\"legendgroup\":\"TSS\",\"marker\":{\"color\":[\"blueviolet\"],\"size\":8,\"symbol\":[\"triangle-up\"]},\"mode\":\"markers\",\"name\":\"TSS\",\"orientation\":\"h\",\"showlegend\":false,\"x\":[0.9412945636363635],\"xaxis\":\"x4\",\"y\":[0.1774],\"yaxis\":\"y4\",\"type\":\"scatter\"},{\"legendgroup\":\"TSS\",\"marker\":{\"color\":[\"blueviolet\"],\"size\":8,\"symbol\":[\"triangle-up\"]},\"mode\":\"markers\",\"name\":\"TSS\",\"orientation\":\"h\",\"showlegend\":false,\"x\":[600.2],\"xaxis\":\"x9\",\"y\":[0.1774],\"yaxis\":\"y9\",\"type\":\"scatter\"},{\"legendgroup\":\"UCBS\",\"marker\":{\"color\":[\"maroon\"],\"size\":8,\"symbol\":[\"x\"]},\"mode\":\"markers\",\"name\":\"UCBS\",\"orientation\":\"h\",\"showlegend\":false,\"x\":[0.9401115363636364],\"xaxis\":\"x4\",\"y\":[0.0172],\"yaxis\":\"y4\",\"type\":\"scatter\"},{\"legendgroup\":\"UCBS\",\"marker\":{\"color\":[\"maroon\"],\"size\":8,\"symbol\":[\"x\"]},\"mode\":\"markers\",\"name\":\"UCBS\",\"orientation\":\"h\",\"showlegend\":false,\"x\":[453.0],\"xaxis\":\"x9\",\"y\":[0.0172],\"yaxis\":\"y9\",\"type\":\"scatter\"},{\"legendgroup\":\"EGS\",\"marker\":{\"color\":[\"darkgray\"],\"size\":8,\"symbol\":[\"diamond\"]},\"mode\":\"markers\",\"name\":\"EGS\",\"orientation\":\"h\",\"showlegend\":false,\"x\":[0.9393094818181819],\"xaxis\":\"x4\",\"y\":[0.4204],\"yaxis\":\"y4\",\"type\":\"scatter\"},{\"legendgroup\":\"EGS\",\"marker\":{\"color\":[\"darkgray\"],\"size\":8,\"symbol\":[\"diamond\"]},\"mode\":\"markers\",\"name\":\"EGS\",\"orientation\":\"h\",\"showlegend\":false,\"x\":[468.2],\"xaxis\":\"x9\",\"y\":[0.4204],\"yaxis\":\"y9\",\"type\":\"scatter\"},{\"legendgroup\":\"ES\",\"marker\":{\"color\":[\"red\"],\"size\":8,\"symbol\":[\"square\"]},\"mode\":\"markers\",\"name\":\"ES\",\"orientation\":\"h\",\"showlegend\":false,\"x\":[0.9387425909090908],\"xaxis\":\"x5\",\"y\":[0.7506],\"yaxis\":\"y5\",\"type\":\"scatter\"},{\"legendgroup\":\"ES\",\"marker\":{\"color\":[\"red\"],\"size\":8,\"symbol\":[\"square\"]},\"mode\":\"markers\",\"name\":\"ES\",\"orientation\":\"h\",\"showlegend\":false,\"x\":[238.0],\"xaxis\":\"x10\",\"y\":[0.7506],\"yaxis\":\"y10\",\"type\":\"scatter\"},{\"legendgroup\":\"A/B\",\"marker\":{\"color\":[\"lime\"],\"size\":8,\"symbol\":[\"circle\"]},\"mode\":\"markers\",\"name\":\"A/B\",\"orientation\":\"h\",\"showlegend\":false,\"x\":[0.9089026145454546],\"xaxis\":\"x5\",\"y\":[0.5848],\"yaxis\":\"y5\",\"type\":\"scatter\"},{\"legendgroup\":\"A/B\",\"marker\":{\"color\":[\"lime\"],\"size\":8,\"symbol\":[\"circle\"]},\"mode\":\"markers\",\"name\":\"A/B\",\"orientation\":\"h\",\"showlegend\":false,\"x\":[1000.0],\"xaxis\":\"x10\",\"y\":[0.5848],\"yaxis\":\"y10\",\"type\":\"scatter\"},{\"legendgroup\":\"UES\",\"marker\":{\"color\":[\"yellowgreen\"],\"size\":8,\"symbol\":[\"star\"]},\"mode\":\"markers\",\"name\":\"UES\",\"orientation\":\"h\",\"showlegend\":false,\"x\":[0.9284799636363636],\"xaxis\":\"x5\",\"y\":[0.6464],\"yaxis\":\"y5\",\"type\":\"scatter\"},{\"legendgroup\":\"UES\",\"marker\":{\"color\":[\"yellowgreen\"],\"size\":8,\"symbol\":[\"star\"]},\"mode\":\"markers\",\"name\":\"UES\",\"orientation\":\"h\",\"showlegend\":false,\"x\":[295.2],\"xaxis\":\"x10\",\"y\":[0.6464],\"yaxis\":\"y10\",\"type\":\"scatter\"},{\"legendgroup\":\"TSS\",\"marker\":{\"color\":[\"blueviolet\"],\"size\":8,\"symbol\":[\"triangle-up\"]},\"mode\":\"markers\",\"name\":\"TSS\",\"orientation\":\"h\",\"showlegend\":false,\"x\":[0.940660390909091],\"xaxis\":\"x5\",\"y\":[0.117],\"yaxis\":\"y5\",\"type\":\"scatter\"},{\"legendgroup\":\"TSS\",\"marker\":{\"color\":[\"blueviolet\"],\"size\":8,\"symbol\":[\"triangle-up\"]},\"mode\":\"markers\",\"name\":\"TSS\",\"orientation\":\"h\",\"showlegend\":false,\"x\":[606.8],\"xaxis\":\"x10\",\"y\":[0.117],\"yaxis\":\"y10\",\"type\":\"scatter\"},{\"legendgroup\":\"UCBS\",\"marker\":{\"color\":[\"maroon\"],\"size\":8,\"symbol\":[\"x\"]},\"mode\":\"markers\",\"name\":\"UCBS\",\"orientation\":\"h\",\"showlegend\":false,\"x\":[0.940268009090909],\"xaxis\":\"x5\",\"y\":[0.0104],\"yaxis\":\"y5\",\"type\":\"scatter\"},{\"legendgroup\":\"UCBS\",\"marker\":{\"color\":[\"maroon\"],\"size\":8,\"symbol\":[\"x\"]},\"mode\":\"markers\",\"name\":\"UCBS\",\"orientation\":\"h\",\"showlegend\":false,\"x\":[462.0],\"xaxis\":\"x10\",\"y\":[0.0104],\"yaxis\":\"y10\",\"type\":\"scatter\"},{\"legendgroup\":\"EGS\",\"marker\":{\"color\":[\"darkgray\"],\"size\":8,\"symbol\":[\"diamond\"]},\"mode\":\"markers\",\"name\":\"EGS\",\"orientation\":\"h\",\"showlegend\":false,\"x\":[0.9387530909090909],\"xaxis\":\"x5\",\"y\":[0.3302],\"yaxis\":\"y5\",\"type\":\"scatter\"},{\"legendgroup\":\"EGS\",\"marker\":{\"color\":[\"darkgray\"],\"size\":8,\"symbol\":[\"diamond\"]},\"mode\":\"markers\",\"name\":\"EGS\",\"orientation\":\"h\",\"showlegend\":false,\"x\":[521.6],\"xaxis\":\"x10\",\"y\":[0.3302],\"yaxis\":\"y10\",\"type\":\"scatter\"}],                        {\"template\":{\"data\":{\"histogram2dcontour\":[{\"type\":\"histogram2dcontour\",\"colorbar\":{\"outlinewidth\":0,\"ticks\":\"\"},\"colorscale\":[[0.0,\"#0d0887\"],[0.1111111111111111,\"#46039f\"],[0.2222222222222222,\"#7201a8\"],[0.3333333333333333,\"#9c179e\"],[0.4444444444444444,\"#bd3786\"],[0.5555555555555556,\"#d8576b\"],[0.6666666666666666,\"#ed7953\"],[0.7777777777777778,\"#fb9f3a\"],[0.8888888888888888,\"#fdca26\"],[1.0,\"#f0f921\"]]}],\"choropleth\":[{\"type\":\"choropleth\",\"colorbar\":{\"outlinewidth\":0,\"ticks\":\"\"}}],\"histogram2d\":[{\"type\":\"histogram2d\",\"colorbar\":{\"outlinewidth\":0,\"ticks\":\"\"},\"colorscale\":[[0.0,\"#0d0887\"],[0.1111111111111111,\"#46039f\"],[0.2222222222222222,\"#7201a8\"],[0.3333333333333333,\"#9c179e\"],[0.4444444444444444,\"#bd3786\"],[0.5555555555555556,\"#d8576b\"],[0.6666666666666666,\"#ed7953\"],[0.7777777777777778,\"#fb9f3a\"],[0.8888888888888888,\"#fdca26\"],[1.0,\"#f0f921\"]]}],\"heatmap\":[{\"type\":\"heatmap\",\"colorbar\":{\"outlinewidth\":0,\"ticks\":\"\"},\"colorscale\":[[0.0,\"#0d0887\"],[0.1111111111111111,\"#46039f\"],[0.2222222222222222,\"#7201a8\"],[0.3333333333333333,\"#9c179e\"],[0.4444444444444444,\"#bd3786\"],[0.5555555555555556,\"#d8576b\"],[0.6666666666666666,\"#ed7953\"],[0.7777777777777778,\"#fb9f3a\"],[0.8888888888888888,\"#fdca26\"],[1.0,\"#f0f921\"]]}],\"heatmapgl\":[{\"type\":\"heatmapgl\",\"colorbar\":{\"outlinewidth\":0,\"ticks\":\"\"},\"colorscale\":[[0.0,\"#0d0887\"],[0.1111111111111111,\"#46039f\"],[0.2222222222222222,\"#7201a8\"],[0.3333333333333333,\"#9c179e\"],[0.4444444444444444,\"#bd3786\"],[0.5555555555555556,\"#d8576b\"],[0.6666666666666666,\"#ed7953\"],[0.7777777777777778,\"#fb9f3a\"],[0.8888888888888888,\"#fdca26\"],[1.0,\"#f0f921\"]]}],\"contourcarpet\":[{\"type\":\"contourcarpet\",\"colorbar\":{\"outlinewidth\":0,\"ticks\":\"\"}}],\"contour\":[{\"type\":\"contour\",\"colorbar\":{\"outlinewidth\":0,\"ticks\":\"\"},\"colorscale\":[[0.0,\"#0d0887\"],[0.1111111111111111,\"#46039f\"],[0.2222222222222222,\"#7201a8\"],[0.3333333333333333,\"#9c179e\"],[0.4444444444444444,\"#bd3786\"],[0.5555555555555556,\"#d8576b\"],[0.6666666666666666,\"#ed7953\"],[0.7777777777777778,\"#fb9f3a\"],[0.8888888888888888,\"#fdca26\"],[1.0,\"#f0f921\"]]}],\"surface\":[{\"type\":\"surface\",\"colorbar\":{\"outlinewidth\":0,\"ticks\":\"\"},\"colorscale\":[[0.0,\"#0d0887\"],[0.1111111111111111,\"#46039f\"],[0.2222222222222222,\"#7201a8\"],[0.3333333333333333,\"#9c179e\"],[0.4444444444444444,\"#bd3786\"],[0.5555555555555556,\"#d8576b\"],[0.6666666666666666,\"#ed7953\"],[0.7777777777777778,\"#fb9f3a\"],[0.8888888888888888,\"#fdca26\"],[1.0,\"#f0f921\"]]}],\"mesh3d\":[{\"type\":\"mesh3d\",\"colorbar\":{\"outlinewidth\":0,\"ticks\":\"\"}}],\"scatter\":[{\"fillpattern\":{\"fillmode\":\"overlay\",\"size\":10,\"solidity\":0.2},\"type\":\"scatter\"}],\"parcoords\":[{\"type\":\"parcoords\",\"line\":{\"colorbar\":{\"outlinewidth\":0,\"ticks\":\"\"}}}],\"scatterpolargl\":[{\"type\":\"scatterpolargl\",\"marker\":{\"colorbar\":{\"outlinewidth\":0,\"ticks\":\"\"}}}],\"bar\":[{\"error_x\":{\"color\":\"#2a3f5f\"},\"error_y\":{\"color\":\"#2a3f5f\"},\"marker\":{\"line\":{\"color\":\"#E5ECF6\",\"width\":0.5},\"pattern\":{\"fillmode\":\"overlay\",\"size\":10,\"solidity\":0.2}},\"type\":\"bar\"}],\"scattergeo\":[{\"type\":\"scattergeo\",\"marker\":{\"colorbar\":{\"outlinewidth\":0,\"ticks\":\"\"}}}],\"scatterpolar\":[{\"type\":\"scatterpolar\",\"marker\":{\"colorbar\":{\"outlinewidth\":0,\"ticks\":\"\"}}}],\"histogram\":[{\"marker\":{\"pattern\":{\"fillmode\":\"overlay\",\"size\":10,\"solidity\":0.2}},\"type\":\"histogram\"}],\"scattergl\":[{\"type\":\"scattergl\",\"marker\":{\"colorbar\":{\"outlinewidth\":0,\"ticks\":\"\"}}}],\"scatter3d\":[{\"type\":\"scatter3d\",\"line\":{\"colorbar\":{\"outlinewidth\":0,\"ticks\":\"\"}},\"marker\":{\"colorbar\":{\"outlinewidth\":0,\"ticks\":\"\"}}}],\"scattermapbox\":[{\"type\":\"scattermapbox\",\"marker\":{\"colorbar\":{\"outlinewidth\":0,\"ticks\":\"\"}}}],\"scatterternary\":[{\"type\":\"scatterternary\",\"marker\":{\"colorbar\":{\"outlinewidth\":0,\"ticks\":\"\"}}}],\"scattercarpet\":[{\"type\":\"scattercarpet\",\"marker\":{\"colorbar\":{\"outlinewidth\":0,\"ticks\":\"\"}}}],\"carpet\":[{\"aaxis\":{\"endlinecolor\":\"#2a3f5f\",\"gridcolor\":\"white\",\"linecolor\":\"white\",\"minorgridcolor\":\"white\",\"startlinecolor\":\"#2a3f5f\"},\"baxis\":{\"endlinecolor\":\"#2a3f5f\",\"gridcolor\":\"white\",\"linecolor\":\"white\",\"minorgridcolor\":\"white\",\"startlinecolor\":\"#2a3f5f\"},\"type\":\"carpet\"}],\"table\":[{\"cells\":{\"fill\":{\"color\":\"#EBF0F8\"},\"line\":{\"color\":\"white\"}},\"header\":{\"fill\":{\"color\":\"#C8D4E3\"},\"line\":{\"color\":\"white\"}},\"type\":\"table\"}],\"barpolar\":[{\"marker\":{\"line\":{\"color\":\"#E5ECF6\",\"width\":0.5},\"pattern\":{\"fillmode\":\"overlay\",\"size\":10,\"solidity\":0.2}},\"type\":\"barpolar\"}],\"pie\":[{\"automargin\":true,\"type\":\"pie\"}]},\"layout\":{\"autotypenumbers\":\"strict\",\"colorway\":[\"#636efa\",\"#EF553B\",\"#00cc96\",\"#ab63fa\",\"#FFA15A\",\"#19d3f3\",\"#FF6692\",\"#B6E880\",\"#FF97FF\",\"#FECB52\"],\"font\":{\"color\":\"#2a3f5f\"},\"hovermode\":\"closest\",\"hoverlabel\":{\"align\":\"left\"},\"paper_bgcolor\":\"white\",\"plot_bgcolor\":\"#E5ECF6\",\"polar\":{\"bgcolor\":\"#E5ECF6\",\"angularaxis\":{\"gridcolor\":\"white\",\"linecolor\":\"white\",\"ticks\":\"\"},\"radialaxis\":{\"gridcolor\":\"white\",\"linecolor\":\"white\",\"ticks\":\"\"}},\"ternary\":{\"bgcolor\":\"#E5ECF6\",\"aaxis\":{\"gridcolor\":\"white\",\"linecolor\":\"white\",\"ticks\":\"\"},\"baxis\":{\"gridcolor\":\"white\",\"linecolor\":\"white\",\"ticks\":\"\"},\"caxis\":{\"gridcolor\":\"white\",\"linecolor\":\"white\",\"ticks\":\"\"}},\"coloraxis\":{\"colorbar\":{\"outlinewidth\":0,\"ticks\":\"\"}},\"colorscale\":{\"sequential\":[[0.0,\"#0d0887\"],[0.1111111111111111,\"#46039f\"],[0.2222222222222222,\"#7201a8\"],[0.3333333333333333,\"#9c179e\"],[0.4444444444444444,\"#bd3786\"],[0.5555555555555556,\"#d8576b\"],[0.6666666666666666,\"#ed7953\"],[0.7777777777777778,\"#fb9f3a\"],[0.8888888888888888,\"#fdca26\"],[1.0,\"#f0f921\"]],\"sequentialminus\":[[0.0,\"#0d0887\"],[0.1111111111111111,\"#46039f\"],[0.2222222222222222,\"#7201a8\"],[0.3333333333333333,\"#9c179e\"],[0.4444444444444444,\"#bd3786\"],[0.5555555555555556,\"#d8576b\"],[0.6666666666666666,\"#ed7953\"],[0.7777777777777778,\"#fb9f3a\"],[0.8888888888888888,\"#fdca26\"],[1.0,\"#f0f921\"]],\"diverging\":[[0,\"#8e0152\"],[0.1,\"#c51b7d\"],[0.2,\"#de77ae\"],[0.3,\"#f1b6da\"],[0.4,\"#fde0ef\"],[0.5,\"#f7f7f7\"],[0.6,\"#e6f5d0\"],[0.7,\"#b8e186\"],[0.8,\"#7fbc41\"],[0.9,\"#4d9221\"],[1,\"#276419\"]]},\"xaxis\":{\"gridcolor\":\"white\",\"linecolor\":\"white\",\"ticks\":\"\",\"title\":{\"standoff\":15},\"zerolinecolor\":\"white\",\"automargin\":true,\"zerolinewidth\":2},\"yaxis\":{\"gridcolor\":\"white\",\"linecolor\":\"white\",\"ticks\":\"\",\"title\":{\"standoff\":15},\"zerolinecolor\":\"white\",\"automargin\":true,\"zerolinewidth\":2},\"scene\":{\"xaxis\":{\"backgroundcolor\":\"#E5ECF6\",\"gridcolor\":\"white\",\"linecolor\":\"white\",\"showbackground\":true,\"ticks\":\"\",\"zerolinecolor\":\"white\",\"gridwidth\":2},\"yaxis\":{\"backgroundcolor\":\"#E5ECF6\",\"gridcolor\":\"white\",\"linecolor\":\"white\",\"showbackground\":true,\"ticks\":\"\",\"zerolinecolor\":\"white\",\"gridwidth\":2},\"zaxis\":{\"backgroundcolor\":\"#E5ECF6\",\"gridcolor\":\"white\",\"linecolor\":\"white\",\"showbackground\":true,\"ticks\":\"\",\"zerolinecolor\":\"white\",\"gridwidth\":2}},\"shapedefaults\":{\"line\":{\"color\":\"#2a3f5f\"}},\"annotationdefaults\":{\"arrowcolor\":\"#2a3f5f\",\"arrowhead\":0,\"arrowwidth\":1},\"geo\":{\"bgcolor\":\"white\",\"landcolor\":\"#E5ECF6\",\"subunitcolor\":\"white\",\"showland\":true,\"showlakes\":true,\"lakecolor\":\"white\"},\"title\":{\"x\":0.05},\"mapbox\":{\"style\":\"light\"}}},\"xaxis\":{\"anchor\":\"y\",\"domain\":[0.0,0.176],\"range\":[0.9,0.95]},\"yaxis\":{\"anchor\":\"x\",\"domain\":[0.575,1.0]},\"xaxis2\":{\"anchor\":\"y2\",\"domain\":[0.206,0.382],\"range\":[0.9,0.95]},\"yaxis2\":{\"anchor\":\"x2\",\"domain\":[0.575,1.0],\"matches\":\"y\",\"showticklabels\":false},\"xaxis3\":{\"anchor\":\"y3\",\"domain\":[0.412,0.588],\"title\":{\"text\":\"Normalized averaged rewards\"},\"range\":[0.9,0.95]},\"yaxis3\":{\"anchor\":\"x3\",\"domain\":[0.575,1.0],\"matches\":\"y\",\"showticklabels\":false},\"xaxis4\":{\"anchor\":\"y4\",\"domain\":[0.618,0.794],\"range\":[0.9,0.95]},\"yaxis4\":{\"anchor\":\"x4\",\"domain\":[0.575,1.0],\"matches\":\"y\",\"showticklabels\":false},\"xaxis5\":{\"anchor\":\"y5\",\"domain\":[0.824,1.0],\"range\":[0.9,0.95]},\"yaxis5\":{\"anchor\":\"x5\",\"domain\":[0.575,1.0],\"matches\":\"y\",\"showticklabels\":false},\"xaxis6\":{\"anchor\":\"y6\",\"domain\":[0.0,0.176],\"range\":[0,1100]},\"yaxis6\":{\"anchor\":\"x6\",\"domain\":[0.0,0.425]},\"xaxis7\":{\"anchor\":\"y7\",\"domain\":[0.206,0.382],\"range\":[0,1100]},\"yaxis7\":{\"anchor\":\"x7\",\"domain\":[0.0,0.425],\"matches\":\"y6\",\"showticklabels\":false},\"xaxis8\":{\"anchor\":\"y8\",\"domain\":[0.412,0.588],\"title\":{\"text\":\"Averaged sample size per arm\"},\"range\":[0,1100]},\"yaxis8\":{\"anchor\":\"x8\",\"domain\":[0.0,0.425],\"matches\":\"y6\",\"showticklabels\":false},\"xaxis9\":{\"anchor\":\"y9\",\"domain\":[0.618,0.794],\"range\":[0,1100]},\"yaxis9\":{\"anchor\":\"x9\",\"domain\":[0.0,0.425],\"matches\":\"y6\",\"showticklabels\":false},\"xaxis10\":{\"anchor\":\"y10\",\"domain\":[0.824,1.0],\"range\":[0,1100]},\"yaxis10\":{\"anchor\":\"x10\",\"domain\":[0.0,0.425],\"matches\":\"y6\",\"showticklabels\":false},\"annotations\":[{\"font\":{\"size\":20},\"showarrow\":false,\"text\":\"$C = 1$\",\"x\":0.088,\"xanchor\":\"center\",\"xref\":\"paper\",\"y\":1.0,\"yanchor\":\"bottom\",\"yref\":\"paper\"},{\"font\":{\"size\":20},\"showarrow\":false,\"text\":\"$C = 5$\",\"x\":0.294,\"xanchor\":\"center\",\"xref\":\"paper\",\"y\":1.0,\"yanchor\":\"bottom\",\"yref\":\"paper\"},{\"font\":{\"size\":20},\"showarrow\":false,\"text\":\"$C = 10$\",\"x\":0.5,\"xanchor\":\"center\",\"xref\":\"paper\",\"y\":1.0,\"yanchor\":\"bottom\",\"yref\":\"paper\"},{\"font\":{\"size\":20},\"showarrow\":false,\"text\":\"$C = 15$\",\"x\":0.706,\"xanchor\":\"center\",\"xref\":\"paper\",\"y\":1.0,\"yanchor\":\"bottom\",\"yref\":\"paper\"},{\"font\":{\"size\":20},\"showarrow\":false,\"text\":\"$C = 20$\",\"x\":0.9119999999999999,\"xanchor\":\"center\",\"xref\":\"paper\",\"y\":1.0,\"yanchor\":\"bottom\",\"yref\":\"paper\"},{\"font\":{\"size\":20},\"showarrow\":false,\"text\":\"Power\",\"textangle\":-90,\"x\":0,\"xanchor\":\"right\",\"xref\":\"paper\",\"xshift\":-40,\"y\":0.5,\"yanchor\":\"middle\",\"yref\":\"paper\"}],\"shapes\":[{\"type\":\"line\",\"x0\":0,\"x1\":1,\"xref\":\"x domain\",\"y0\":0.8,\"y1\":0.8,\"yref\":\"y\"},{\"type\":\"line\",\"x0\":0,\"x1\":1,\"xref\":\"x2 domain\",\"y0\":0.8,\"y1\":0.8,\"yref\":\"y2\"},{\"type\":\"line\",\"x0\":0,\"x1\":1,\"xref\":\"x3 domain\",\"y0\":0.8,\"y1\":0.8,\"yref\":\"y3\"},{\"type\":\"line\",\"x0\":0,\"x1\":1,\"xref\":\"x4 domain\",\"y0\":0.8,\"y1\":0.8,\"yref\":\"y4\"},{\"type\":\"line\",\"x0\":0,\"x1\":1,\"xref\":\"x5 domain\",\"y0\":0.8,\"y1\":0.8,\"yref\":\"y5\"},{\"type\":\"line\",\"x0\":0,\"x1\":1,\"xref\":\"x6 domain\",\"y0\":0.8,\"y1\":0.8,\"yref\":\"y6\"},{\"type\":\"line\",\"x0\":0,\"x1\":1,\"xref\":\"x7 domain\",\"y0\":0.8,\"y1\":0.8,\"yref\":\"y7\"},{\"type\":\"line\",\"x0\":0,\"x1\":1,\"xref\":\"x8 domain\",\"y0\":0.8,\"y1\":0.8,\"yref\":\"y8\"},{\"type\":\"line\",\"x0\":0,\"x1\":1,\"xref\":\"x9 domain\",\"y0\":0.8,\"y1\":0.8,\"yref\":\"y9\"},{\"type\":\"line\",\"x0\":0,\"x1\":1,\"xref\":\"x10 domain\",\"y0\":0.8,\"y1\":0.8,\"yref\":\"y10\"}],\"legend\":{\"orientation\":\"h\",\"x\":0.33,\"y\":-0.15},\"font\":{\"size\":16},\"height\":800,\"width\":1600,\"plot_bgcolor\":\"rgb(242,242,242)\"},                        {\"responsive\": true}                    ).then(function(){\n",
       "                            \n",
       "var gd = document.getElementById('c8787641-0101-4c5b-94bf-a94709de8c3e');\n",
       "var x = new MutationObserver(function (mutations, observer) {{\n",
       "        var display = window.getComputedStyle(gd).display;\n",
       "        if (!display || display === 'none') {{\n",
       "            console.log([gd, 'removed!']);\n",
       "            Plotly.purge(gd);\n",
       "            observer.disconnect();\n",
       "        }}\n",
       "}});\n",
       "\n",
       "// Listen for the removal of the full notebook cells\n",
       "var notebookContainer = gd.closest('#notebook-container');\n",
       "if (notebookContainer) {{\n",
       "    x.observe(notebookContainer, {childList: true});\n",
       "}}\n",
       "\n",
       "// Listen for the clearing of the current output cell\n",
       "var outputEl = gd.closest('.output');\n",
       "if (outputEl) {{\n",
       "    x.observe(outputEl, {childList: true});\n",
       "}}\n",
       "\n",
       "                        })                };                });            </script>        </div>"
      ]
     },
     "metadata": {},
     "output_type": "display_data"
    }
   ],
   "source": [
    "df = pd.read_csv(\"res_sim_5arm_gauss_var_var.csv\")\n",
    "idx2key = {\n",
    "    \"0\": r\"$C = 1$\",\n",
    "    \"1\": r\"$C = 5$\",\n",
    "    \"2\": r\"$C = 10$\",\n",
    "    \"3\": r\"$C = 15$\",\n",
    "    \"4\": r\"$C = 20$\",\n",
    "}\n",
    "algos = [\"ES\", \"A/B\", \"UES\", \"TSS\", \"UCBS\", \"EGS\"]\n",
    "key2data = get_key2data(df, idx2key)\n",
    "print(key2data)\n",
    "fig = sd_return_fig(algos, key2data, 11, True, [[0.90, 0.95], [0, 1100]], 8)\n",
    "# print(fig.layout)\n",
    "fig.show()\n",
    "plotly.io.write_image(fig, 'sim_5arm_gauss_var_var.pdf', format='pdf')"
   ]
  },
  {
   "cell_type": "markdown",
   "id": "00f2a61b-bc2e-4d43-a964-561b78111f67",
   "metadata": {},
   "source": [
    "## Gaussian; base_mean = 10; sigma=0.5"
   ]
  },
  {
   "cell_type": "code",
   "execution_count": 28,
   "id": "a54aaf26-9c7e-444d-a745-64a2c83eed71",
   "metadata": {},
   "outputs": [
    {
     "data": {
      "text/html": [
       "<div>\n",
       "<style scoped>\n",
       "    .dataframe tbody tr th:only-of-type {\n",
       "        vertical-align: middle;\n",
       "    }\n",
       "\n",
       "    .dataframe tbody tr th {\n",
       "        vertical-align: top;\n",
       "    }\n",
       "\n",
       "    .dataframe thead th {\n",
       "        text-align: right;\n",
       "    }\n",
       "</style>\n",
       "<table border=\"1\" class=\"dataframe\">\n",
       "  <thead>\n",
       "    <tr style=\"text-align: right;\">\n",
       "      <th></th>\n",
       "      <th>A/B_0</th>\n",
       "      <th>A/B_1</th>\n",
       "      <th>A/B_2</th>\n",
       "      <th>A/B_3</th>\n",
       "      <th>ES_0</th>\n",
       "      <th>ES_1</th>\n",
       "      <th>ES_2</th>\n",
       "      <th>ES_3</th>\n",
       "      <th>UES_0</th>\n",
       "      <th>UES_1</th>\n",
       "      <th>...</th>\n",
       "      <th>TSS_2</th>\n",
       "      <th>TSS_3</th>\n",
       "      <th>UCBS_0</th>\n",
       "      <th>UCBS_1</th>\n",
       "      <th>UCBS_2</th>\n",
       "      <th>UCBS_3</th>\n",
       "      <th>EGS_0</th>\n",
       "      <th>EGS_1</th>\n",
       "      <th>EGS_2</th>\n",
       "      <th>EGS_3</th>\n",
       "    </tr>\n",
       "  </thead>\n",
       "  <tbody>\n",
       "    <tr>\n",
       "      <th>0</th>\n",
       "      <td>0.8308</td>\n",
       "      <td>1000</td>\n",
       "      <td>5000</td>\n",
       "      <td>9.998335</td>\n",
       "      <td>0.899</td>\n",
       "      <td>86.400000</td>\n",
       "      <td>432</td>\n",
       "      <td>10.365153</td>\n",
       "      <td>0.8454</td>\n",
       "      <td>117.600000</td>\n",
       "      <td>...</td>\n",
       "      <td>1588</td>\n",
       "      <td>10.360779</td>\n",
       "      <td>0.8910</td>\n",
       "      <td>104.6</td>\n",
       "      <td>523</td>\n",
       "      <td>10.353089</td>\n",
       "      <td>0.7512</td>\n",
       "      <td>223.8</td>\n",
       "      <td>1119</td>\n",
       "      <td>10.355643</td>\n",
       "    </tr>\n",
       "    <tr>\n",
       "      <th>1</th>\n",
       "      <td>0.7748</td>\n",
       "      <td>1000</td>\n",
       "      <td>10000</td>\n",
       "      <td>9.998454</td>\n",
       "      <td>0.887</td>\n",
       "      <td>102.400000</td>\n",
       "      <td>1024</td>\n",
       "      <td>10.515026</td>\n",
       "      <td>0.7942</td>\n",
       "      <td>170.200000</td>\n",
       "      <td>...</td>\n",
       "      <td>6023</td>\n",
       "      <td>10.521683</td>\n",
       "      <td>0.8818</td>\n",
       "      <td>123.9</td>\n",
       "      <td>1239</td>\n",
       "      <td>10.508729</td>\n",
       "      <td>0.6444</td>\n",
       "      <td>285.8</td>\n",
       "      <td>2858</td>\n",
       "      <td>10.491457</td>\n",
       "    </tr>\n",
       "    <tr>\n",
       "      <th>2</th>\n",
       "      <td>0.7380</td>\n",
       "      <td>1000</td>\n",
       "      <td>15000</td>\n",
       "      <td>9.999195</td>\n",
       "      <td>0.886</td>\n",
       "      <td>102.533333</td>\n",
       "      <td>1538</td>\n",
       "      <td>10.589922</td>\n",
       "      <td>0.7410</td>\n",
       "      <td>199.666667</td>\n",
       "      <td>...</td>\n",
       "      <td>3699</td>\n",
       "      <td>10.600031</td>\n",
       "      <td>0.8832</td>\n",
       "      <td>129.0</td>\n",
       "      <td>1935</td>\n",
       "      <td>10.585797</td>\n",
       "      <td>0.5906</td>\n",
       "      <td>328.4</td>\n",
       "      <td>4926</td>\n",
       "      <td>10.567171</td>\n",
       "    </tr>\n",
       "    <tr>\n",
       "      <th>3</th>\n",
       "      <td>0.6924</td>\n",
       "      <td>1000</td>\n",
       "      <td>20000</td>\n",
       "      <td>9.996206</td>\n",
       "      <td>0.887</td>\n",
       "      <td>96.850000</td>\n",
       "      <td>1937</td>\n",
       "      <td>10.642554</td>\n",
       "      <td>0.7216</td>\n",
       "      <td>220.250000</td>\n",
       "      <td>...</td>\n",
       "      <td>4092</td>\n",
       "      <td>10.646401</td>\n",
       "      <td>0.8828</td>\n",
       "      <td>130.1</td>\n",
       "      <td>2602</td>\n",
       "      <td>10.629050</td>\n",
       "      <td>0.5478</td>\n",
       "      <td>355.4</td>\n",
       "      <td>7108</td>\n",
       "      <td>10.606351</td>\n",
       "    </tr>\n",
       "  </tbody>\n",
       "</table>\n",
       "<p>4 rows × 24 columns</p>\n",
       "</div>"
      ],
      "text/plain": [
       "    A/B_0  A/B_1  A/B_2     A/B_3   ES_0        ES_1  ES_2       ES_3   UES_0  \\\n",
       "0  0.8308   1000   5000  9.998335  0.899   86.400000   432  10.365153  0.8454   \n",
       "1  0.7748   1000  10000  9.998454  0.887  102.400000  1024  10.515026  0.7942   \n",
       "2  0.7380   1000  15000  9.999195  0.886  102.533333  1538  10.589922  0.7410   \n",
       "3  0.6924   1000  20000  9.996206  0.887   96.850000  1937  10.642554  0.7216   \n",
       "\n",
       "        UES_1  ...  TSS_2      TSS_3  UCBS_0  UCBS_1  UCBS_2     UCBS_3  \\\n",
       "0  117.600000  ...   1588  10.360779  0.8910   104.6     523  10.353089   \n",
       "1  170.200000  ...   6023  10.521683  0.8818   123.9    1239  10.508729   \n",
       "2  199.666667  ...   3699  10.600031  0.8832   129.0    1935  10.585797   \n",
       "3  220.250000  ...   4092  10.646401  0.8828   130.1    2602  10.629050   \n",
       "\n",
       "    EGS_0  EGS_1  EGS_2      EGS_3  \n",
       "0  0.7512  223.8   1119  10.355643  \n",
       "1  0.6444  285.8   2858  10.491457  \n",
       "2  0.5906  328.4   4926  10.567171  \n",
       "3  0.5478  355.4   7108  10.606351  \n",
       "\n",
       "[4 rows x 24 columns]"
      ]
     },
     "execution_count": 28,
     "metadata": {},
     "output_type": "execute_result"
    }
   ],
   "source": [
    "df = pd.read_csv(\"res_sim_gauss_var_numarm.csv\")\n",
    "df"
   ]
  },
  {
   "cell_type": "code",
   "execution_count": 29,
   "id": "1d5ad651-7b3e-44e4-a01f-f2faf916d2d3",
   "metadata": {},
   "outputs": [
    {
     "name": "stdout",
     "output_type": "stream",
     "text": [
      "{'$K = 5$': {'ES': {'power': 0.899, 'samples': 86.4, 'rewards': 10.3651531}, 'A/B': {'power': 0.8308, 'samples': 1000.0, 'rewards': 9.99833452}, 'UES': {'power': 0.8454, 'samples': 117.6, 'rewards': 10.3040097}, 'TSS': {'power': 0.7214, 'samples': 317.6, 'rewards': 10.3607789}, 'UCBS': {'power': 0.891, 'samples': 104.6, 'rewards': 10.3530889}, 'EGS': {'power': 0.7512, 'samples': 223.8, 'rewards': 10.3556432}}, '$K = 10$': {'ES': {'power': 0.887, 'samples': 102.4, 'rewards': 10.5150256}, 'A/B': {'power': 0.7748, 'samples': 1000.0, 'rewards': 9.9984541}, 'UES': {'power': 0.7942, 'samples': 170.2, 'rewards': 10.3810134}, 'TSS': {'power': 0.3484, 'samples': 602.3, 'rewards': 10.5216828}, 'UCBS': {'power': 0.8818, 'samples': 123.9, 'rewards': 10.5087293}, 'EGS': {'power': 0.6444, 'samples': 285.8, 'rewards': 10.4914574}}, '$K = 15$': {'ES': {'power': 0.886, 'samples': 102.533333, 'rewards': 10.5899218}, 'A/B': {'power': 0.738, 'samples': 1000.0, 'rewards': 9.9991947}, 'UES': {'power': 0.741, 'samples': 199.666667, 'rewards': 10.3943901}, 'TSS': {'power': 0.0752, 'samples': 739.917553, 'rewards': 10.6000307}, 'UCBS': {'power': 0.8832, 'samples': 129.0, 'rewards': 10.5857973}, 'EGS': {'power': 0.5906, 'samples': 328.4, 'rewards': 10.5671708}}, '$K = 20$': {'ES': {'power': 0.887, 'samples': 96.85, 'rewards': 10.6425541}, 'A/B': {'power': 0.6924, 'samples': 1000.0, 'rewards': 9.99620646}, 'UES': {'power': 0.7216, 'samples': 220.25, 'rewards': 10.4022654}, 'TSS': {'power': 0.0132, 'samples': 818.560606, 'rewards': 10.646401}, 'UCBS': {'power': 0.8828, 'samples': 130.1, 'rewards': 10.6290497}, 'EGS': {'power': 0.5478, 'samples': 355.4, 'rewards': 10.6063506}}}\n"
     ]
    },
    {
     "data": {
      "application/vnd.plotly.v1+json": {
       "config": {
        "plotlyServerURL": "https://plot.ly"
       },
       "data": [
        {
         "legendgroup": "ES",
         "marker": {
          "color": [
           "red"
          ],
          "size": 8,
          "symbol": [
           "square"
          ]
         },
         "mode": "markers",
         "name": "ES",
         "orientation": "h",
         "showlegend": true,
         "type": "scatter",
         "x": [
          0.9422866454545455
         ],
         "xaxis": "x",
         "y": [
          0.899
         ],
         "yaxis": "y"
        },
        {
         "legendgroup": "ES",
         "marker": {
          "color": [
           "red"
          ],
          "size": 8,
          "symbol": [
           "square"
          ]
         },
         "mode": "markers",
         "name": "ES",
         "orientation": "h",
         "showlegend": false,
         "type": "scatter",
         "x": [
          86.4
         ],
         "xaxis": "x5",
         "y": [
          0.899
         ],
         "yaxis": "y5"
        },
        {
         "legendgroup": "A/B",
         "marker": {
          "color": [
           "lime"
          ],
          "size": 8,
          "symbol": [
           "circle"
          ]
         },
         "mode": "markers",
         "name": "A/B",
         "orientation": "h",
         "showlegend": true,
         "type": "scatter",
         "x": [
          0.9089395018181818
         ],
         "xaxis": "x",
         "y": [
          0.8308
         ],
         "yaxis": "y"
        },
        {
         "legendgroup": "A/B",
         "marker": {
          "color": [
           "lime"
          ],
          "size": 8,
          "symbol": [
           "circle"
          ]
         },
         "mode": "markers",
         "name": "A/B",
         "orientation": "h",
         "showlegend": false,
         "type": "scatter",
         "x": [
          1000
         ],
         "xaxis": "x5",
         "y": [
          0.8308
         ],
         "yaxis": "y5"
        },
        {
         "legendgroup": "UES",
         "marker": {
          "color": [
           "yellowgreen"
          ],
          "size": 8,
          "symbol": [
           "star"
          ]
         },
         "mode": "markers",
         "name": "UES",
         "orientation": "h",
         "showlegend": true,
         "type": "scatter",
         "x": [
          0.9367281545454545
         ],
         "xaxis": "x",
         "y": [
          0.8454
         ],
         "yaxis": "y"
        },
        {
         "legendgroup": "UES",
         "marker": {
          "color": [
           "yellowgreen"
          ],
          "size": 8,
          "symbol": [
           "star"
          ]
         },
         "mode": "markers",
         "name": "UES",
         "orientation": "h",
         "showlegend": false,
         "type": "scatter",
         "x": [
          117.6
         ],
         "xaxis": "x5",
         "y": [
          0.8454
         ],
         "yaxis": "y5"
        },
        {
         "legendgroup": "TSS",
         "marker": {
          "color": [
           "blueviolet"
          ],
          "size": 8,
          "symbol": [
           "triangle-up"
          ]
         },
         "mode": "markers",
         "name": "TSS",
         "orientation": "h",
         "showlegend": true,
         "type": "scatter",
         "x": [
          0.9418889909090908
         ],
         "xaxis": "x",
         "y": [
          0.7214
         ],
         "yaxis": "y"
        },
        {
         "legendgroup": "TSS",
         "marker": {
          "color": [
           "blueviolet"
          ],
          "size": 8,
          "symbol": [
           "triangle-up"
          ]
         },
         "mode": "markers",
         "name": "TSS",
         "orientation": "h",
         "showlegend": false,
         "type": "scatter",
         "x": [
          317.6
         ],
         "xaxis": "x5",
         "y": [
          0.7214
         ],
         "yaxis": "y5"
        },
        {
         "legendgroup": "UCBS",
         "marker": {
          "color": [
           "maroon"
          ],
          "size": 8,
          "symbol": [
           "x"
          ]
         },
         "mode": "markers",
         "name": "UCBS",
         "orientation": "h",
         "showlegend": true,
         "type": "scatter",
         "x": [
          0.9411898999999999
         ],
         "xaxis": "x",
         "y": [
          0.891
         ],
         "yaxis": "y"
        },
        {
         "legendgroup": "UCBS",
         "marker": {
          "color": [
           "maroon"
          ],
          "size": 8,
          "symbol": [
           "x"
          ]
         },
         "mode": "markers",
         "name": "UCBS",
         "orientation": "h",
         "showlegend": false,
         "type": "scatter",
         "x": [
          104.6
         ],
         "xaxis": "x5",
         "y": [
          0.891
         ],
         "yaxis": "y5"
        },
        {
         "legendgroup": "EGS",
         "marker": {
          "color": [
           "darkgray"
          ],
          "size": 8,
          "symbol": [
           "diamond"
          ]
         },
         "mode": "markers",
         "name": "EGS",
         "orientation": "h",
         "showlegend": true,
         "type": "scatter",
         "x": [
          0.9414221090909091
         ],
         "xaxis": "x",
         "y": [
          0.7512
         ],
         "yaxis": "y"
        },
        {
         "legendgroup": "EGS",
         "marker": {
          "color": [
           "darkgray"
          ],
          "size": 8,
          "symbol": [
           "diamond"
          ]
         },
         "mode": "markers",
         "name": "EGS",
         "orientation": "h",
         "showlegend": false,
         "type": "scatter",
         "x": [
          223.8
         ],
         "xaxis": "x5",
         "y": [
          0.7512
         ],
         "yaxis": "y5"
        },
        {
         "legendgroup": "ES",
         "marker": {
          "color": [
           "red"
          ],
          "size": 8,
          "symbol": [
           "square"
          ]
         },
         "mode": "markers",
         "name": "ES",
         "orientation": "h",
         "showlegend": false,
         "type": "scatter",
         "x": [
          0.9559114181818181
         ],
         "xaxis": "x2",
         "y": [
          0.887
         ],
         "yaxis": "y2"
        },
        {
         "legendgroup": "ES",
         "marker": {
          "color": [
           "red"
          ],
          "size": 8,
          "symbol": [
           "square"
          ]
         },
         "mode": "markers",
         "name": "ES",
         "orientation": "h",
         "showlegend": false,
         "type": "scatter",
         "x": [
          102.4
         ],
         "xaxis": "x6",
         "y": [
          0.887
         ],
         "yaxis": "y6"
        },
        {
         "legendgroup": "A/B",
         "marker": {
          "color": [
           "lime"
          ],
          "size": 8,
          "symbol": [
           "circle"
          ]
         },
         "mode": "markers",
         "name": "A/B",
         "orientation": "h",
         "showlegend": false,
         "type": "scatter",
         "x": [
          0.9089503727272727
         ],
         "xaxis": "x2",
         "y": [
          0.7748
         ],
         "yaxis": "y2"
        },
        {
         "legendgroup": "A/B",
         "marker": {
          "color": [
           "lime"
          ],
          "size": 8,
          "symbol": [
           "circle"
          ]
         },
         "mode": "markers",
         "name": "A/B",
         "orientation": "h",
         "showlegend": false,
         "type": "scatter",
         "x": [
          1000
         ],
         "xaxis": "x6",
         "y": [
          0.7748
         ],
         "yaxis": "y6"
        },
        {
         "legendgroup": "UES",
         "marker": {
          "color": [
           "yellowgreen"
          ],
          "size": 8,
          "symbol": [
           "star"
          ]
         },
         "mode": "markers",
         "name": "UES",
         "orientation": "h",
         "showlegend": false,
         "type": "scatter",
         "x": [
          0.943728490909091
         ],
         "xaxis": "x2",
         "y": [
          0.7942
         ],
         "yaxis": "y2"
        },
        {
         "legendgroup": "UES",
         "marker": {
          "color": [
           "yellowgreen"
          ],
          "size": 8,
          "symbol": [
           "star"
          ]
         },
         "mode": "markers",
         "name": "UES",
         "orientation": "h",
         "showlegend": false,
         "type": "scatter",
         "x": [
          170.2
         ],
         "xaxis": "x6",
         "y": [
          0.7942
         ],
         "yaxis": "y6"
        },
        {
         "legendgroup": "TSS",
         "marker": {
          "color": [
           "blueviolet"
          ],
          "size": 8,
          "symbol": [
           "triangle-up"
          ]
         },
         "mode": "markers",
         "name": "TSS",
         "orientation": "h",
         "showlegend": false,
         "type": "scatter",
         "x": [
          0.9565166181818182
         ],
         "xaxis": "x2",
         "y": [
          0.3484
         ],
         "yaxis": "y2"
        },
        {
         "legendgroup": "TSS",
         "marker": {
          "color": [
           "blueviolet"
          ],
          "size": 8,
          "symbol": [
           "triangle-up"
          ]
         },
         "mode": "markers",
         "name": "TSS",
         "orientation": "h",
         "showlegend": false,
         "type": "scatter",
         "x": [
          602.3
         ],
         "xaxis": "x6",
         "y": [
          0.3484
         ],
         "yaxis": "y6"
        },
        {
         "legendgroup": "UCBS",
         "marker": {
          "color": [
           "maroon"
          ],
          "size": 8,
          "symbol": [
           "x"
          ]
         },
         "mode": "markers",
         "name": "UCBS",
         "orientation": "h",
         "showlegend": false,
         "type": "scatter",
         "x": [
          0.9553390272727273
         ],
         "xaxis": "x2",
         "y": [
          0.8818
         ],
         "yaxis": "y2"
        },
        {
         "legendgroup": "UCBS",
         "marker": {
          "color": [
           "maroon"
          ],
          "size": 8,
          "symbol": [
           "x"
          ]
         },
         "mode": "markers",
         "name": "UCBS",
         "orientation": "h",
         "showlegend": false,
         "type": "scatter",
         "x": [
          123.9
         ],
         "xaxis": "x6",
         "y": [
          0.8818
         ],
         "yaxis": "y6"
        },
        {
         "legendgroup": "EGS",
         "marker": {
          "color": [
           "darkgray"
          ],
          "size": 8,
          "symbol": [
           "diamond"
          ]
         },
         "mode": "markers",
         "name": "EGS",
         "orientation": "h",
         "showlegend": false,
         "type": "scatter",
         "x": [
          0.9537688545454546
         ],
         "xaxis": "x2",
         "y": [
          0.6444
         ],
         "yaxis": "y2"
        },
        {
         "legendgroup": "EGS",
         "marker": {
          "color": [
           "darkgray"
          ],
          "size": 8,
          "symbol": [
           "diamond"
          ]
         },
         "mode": "markers",
         "name": "EGS",
         "orientation": "h",
         "showlegend": false,
         "type": "scatter",
         "x": [
          285.8
         ],
         "xaxis": "x6",
         "y": [
          0.6444
         ],
         "yaxis": "y6"
        },
        {
         "legendgroup": "ES",
         "marker": {
          "color": [
           "red"
          ],
          "size": 8,
          "symbol": [
           "square"
          ]
         },
         "mode": "markers",
         "name": "ES",
         "orientation": "h",
         "showlegend": false,
         "type": "scatter",
         "x": [
          0.9627201636363637
         ],
         "xaxis": "x3",
         "y": [
          0.886
         ],
         "yaxis": "y3"
        },
        {
         "legendgroup": "ES",
         "marker": {
          "color": [
           "red"
          ],
          "size": 8,
          "symbol": [
           "square"
          ]
         },
         "mode": "markers",
         "name": "ES",
         "orientation": "h",
         "showlegend": false,
         "type": "scatter",
         "x": [
          102.533333
         ],
         "xaxis": "x7",
         "y": [
          0.886
         ],
         "yaxis": "y7"
        },
        {
         "legendgroup": "A/B",
         "marker": {
          "color": [
           "lime"
          ],
          "size": 8,
          "symbol": [
           "circle"
          ]
         },
         "mode": "markers",
         "name": "A/B",
         "orientation": "h",
         "showlegend": false,
         "type": "scatter",
         "x": [
          0.9090177
         ],
         "xaxis": "x3",
         "y": [
          0.738
         ],
         "yaxis": "y3"
        },
        {
         "legendgroup": "A/B",
         "marker": {
          "color": [
           "lime"
          ],
          "size": 8,
          "symbol": [
           "circle"
          ]
         },
         "mode": "markers",
         "name": "A/B",
         "orientation": "h",
         "showlegend": false,
         "type": "scatter",
         "x": [
          1000
         ],
         "xaxis": "x7",
         "y": [
          0.738
         ],
         "yaxis": "y7"
        },
        {
         "legendgroup": "UES",
         "marker": {
          "color": [
           "yellowgreen"
          ],
          "size": 8,
          "symbol": [
           "star"
          ]
         },
         "mode": "markers",
         "name": "UES",
         "orientation": "h",
         "showlegend": false,
         "type": "scatter",
         "x": [
          0.9449445545454546
         ],
         "xaxis": "x3",
         "y": [
          0.741
         ],
         "yaxis": "y3"
        },
        {
         "legendgroup": "UES",
         "marker": {
          "color": [
           "yellowgreen"
          ],
          "size": 8,
          "symbol": [
           "star"
          ]
         },
         "mode": "markers",
         "name": "UES",
         "orientation": "h",
         "showlegend": false,
         "type": "scatter",
         "x": [
          199.666667
         ],
         "xaxis": "x7",
         "y": [
          0.741
         ],
         "yaxis": "y7"
        },
        {
         "legendgroup": "TSS",
         "marker": {
          "color": [
           "blueviolet"
          ],
          "size": 8,
          "symbol": [
           "triangle-up"
          ]
         },
         "mode": "markers",
         "name": "TSS",
         "orientation": "h",
         "showlegend": false,
         "type": "scatter",
         "x": [
          0.9636391545454545
         ],
         "xaxis": "x3",
         "y": [
          0.0752
         ],
         "yaxis": "y3"
        },
        {
         "legendgroup": "TSS",
         "marker": {
          "color": [
           "blueviolet"
          ],
          "size": 8,
          "symbol": [
           "triangle-up"
          ]
         },
         "mode": "markers",
         "name": "TSS",
         "orientation": "h",
         "showlegend": false,
         "type": "scatter",
         "x": [
          739.917553
         ],
         "xaxis": "x7",
         "y": [
          0.0752
         ],
         "yaxis": "y7"
        },
        {
         "legendgroup": "UCBS",
         "marker": {
          "color": [
           "maroon"
          ],
          "size": 8,
          "symbol": [
           "x"
          ]
         },
         "mode": "markers",
         "name": "UCBS",
         "orientation": "h",
         "showlegend": false,
         "type": "scatter",
         "x": [
          0.962345209090909
         ],
         "xaxis": "x3",
         "y": [
          0.8832
         ],
         "yaxis": "y3"
        },
        {
         "legendgroup": "UCBS",
         "marker": {
          "color": [
           "maroon"
          ],
          "size": 8,
          "symbol": [
           "x"
          ]
         },
         "mode": "markers",
         "name": "UCBS",
         "orientation": "h",
         "showlegend": false,
         "type": "scatter",
         "x": [
          129
         ],
         "xaxis": "x7",
         "y": [
          0.8832
         ],
         "yaxis": "y7"
        },
        {
         "legendgroup": "EGS",
         "marker": {
          "color": [
           "darkgray"
          ],
          "size": 8,
          "symbol": [
           "diamond"
          ]
         },
         "mode": "markers",
         "name": "EGS",
         "orientation": "h",
         "showlegend": false,
         "type": "scatter",
         "x": [
          0.9606518909090909
         ],
         "xaxis": "x3",
         "y": [
          0.5906
         ],
         "yaxis": "y3"
        },
        {
         "legendgroup": "EGS",
         "marker": {
          "color": [
           "darkgray"
          ],
          "size": 8,
          "symbol": [
           "diamond"
          ]
         },
         "mode": "markers",
         "name": "EGS",
         "orientation": "h",
         "showlegend": false,
         "type": "scatter",
         "x": [
          328.4
         ],
         "xaxis": "x7",
         "y": [
          0.5906
         ],
         "yaxis": "y7"
        },
        {
         "legendgroup": "ES",
         "marker": {
          "color": [
           "red"
          ],
          "size": 8,
          "symbol": [
           "square"
          ]
         },
         "mode": "markers",
         "name": "ES",
         "orientation": "h",
         "showlegend": false,
         "type": "scatter",
         "x": [
          0.9675049181818182
         ],
         "xaxis": "x4",
         "y": [
          0.887
         ],
         "yaxis": "y4"
        },
        {
         "legendgroup": "ES",
         "marker": {
          "color": [
           "red"
          ],
          "size": 8,
          "symbol": [
           "square"
          ]
         },
         "mode": "markers",
         "name": "ES",
         "orientation": "h",
         "showlegend": false,
         "type": "scatter",
         "x": [
          96.85
         ],
         "xaxis": "x8",
         "y": [
          0.887
         ],
         "yaxis": "y8"
        },
        {
         "legendgroup": "A/B",
         "marker": {
          "color": [
           "lime"
          ],
          "size": 8,
          "symbol": [
           "circle"
          ]
         },
         "mode": "markers",
         "name": "A/B",
         "orientation": "h",
         "showlegend": false,
         "type": "scatter",
         "x": [
          0.9087460418181817
         ],
         "xaxis": "x4",
         "y": [
          0.6924
         ],
         "yaxis": "y4"
        },
        {
         "legendgroup": "A/B",
         "marker": {
          "color": [
           "lime"
          ],
          "size": 8,
          "symbol": [
           "circle"
          ]
         },
         "mode": "markers",
         "name": "A/B",
         "orientation": "h",
         "showlegend": false,
         "type": "scatter",
         "x": [
          1000
         ],
         "xaxis": "x8",
         "y": [
          0.6924
         ],
         "yaxis": "y8"
        },
        {
         "legendgroup": "UES",
         "marker": {
          "color": [
           "yellowgreen"
          ],
          "size": 8,
          "symbol": [
           "star"
          ]
         },
         "mode": "markers",
         "name": "UES",
         "orientation": "h",
         "showlegend": false,
         "type": "scatter",
         "x": [
          0.9456604909090909
         ],
         "xaxis": "x4",
         "y": [
          0.7216
         ],
         "yaxis": "y4"
        },
        {
         "legendgroup": "UES",
         "marker": {
          "color": [
           "yellowgreen"
          ],
          "size": 8,
          "symbol": [
           "star"
          ]
         },
         "mode": "markers",
         "name": "UES",
         "orientation": "h",
         "showlegend": false,
         "type": "scatter",
         "x": [
          220.25
         ],
         "xaxis": "x8",
         "y": [
          0.7216
         ],
         "yaxis": "y8"
        },
        {
         "legendgroup": "TSS",
         "marker": {
          "color": [
           "blueviolet"
          ],
          "size": 8,
          "symbol": [
           "triangle-up"
          ]
         },
         "mode": "markers",
         "name": "TSS",
         "orientation": "h",
         "showlegend": false,
         "type": "scatter",
         "x": [
          0.9678546363636363
         ],
         "xaxis": "x4",
         "y": [
          0.0132
         ],
         "yaxis": "y4"
        },
        {
         "legendgroup": "TSS",
         "marker": {
          "color": [
           "blueviolet"
          ],
          "size": 8,
          "symbol": [
           "triangle-up"
          ]
         },
         "mode": "markers",
         "name": "TSS",
         "orientation": "h",
         "showlegend": false,
         "type": "scatter",
         "x": [
          818.560606
         ],
         "xaxis": "x8",
         "y": [
          0.0132
         ],
         "yaxis": "y8"
        },
        {
         "legendgroup": "UCBS",
         "marker": {
          "color": [
           "maroon"
          ],
          "size": 8,
          "symbol": [
           "x"
          ]
         },
         "mode": "markers",
         "name": "UCBS",
         "orientation": "h",
         "showlegend": false,
         "type": "scatter",
         "x": [
          0.9662772454545454
         ],
         "xaxis": "x4",
         "y": [
          0.8828
         ],
         "yaxis": "y4"
        },
        {
         "legendgroup": "UCBS",
         "marker": {
          "color": [
           "maroon"
          ],
          "size": 8,
          "symbol": [
           "x"
          ]
         },
         "mode": "markers",
         "name": "UCBS",
         "orientation": "h",
         "showlegend": false,
         "type": "scatter",
         "x": [
          130.1
         ],
         "xaxis": "x8",
         "y": [
          0.8828
         ],
         "yaxis": "y8"
        },
        {
         "legendgroup": "EGS",
         "marker": {
          "color": [
           "darkgray"
          ],
          "size": 8,
          "symbol": [
           "diamond"
          ]
         },
         "mode": "markers",
         "name": "EGS",
         "orientation": "h",
         "showlegend": false,
         "type": "scatter",
         "x": [
          0.9642136909090909
         ],
         "xaxis": "x4",
         "y": [
          0.5478
         ],
         "yaxis": "y4"
        },
        {
         "legendgroup": "EGS",
         "marker": {
          "color": [
           "darkgray"
          ],
          "size": 8,
          "symbol": [
           "diamond"
          ]
         },
         "mode": "markers",
         "name": "EGS",
         "orientation": "h",
         "showlegend": false,
         "type": "scatter",
         "x": [
          355.4
         ],
         "xaxis": "x8",
         "y": [
          0.5478
         ],
         "yaxis": "y8"
        }
       ],
       "layout": {
        "annotations": [
         {
          "font": {
           "size": 20
          },
          "showarrow": false,
          "text": "$K = 5$",
          "x": 0.11375,
          "xanchor": "center",
          "xref": "paper",
          "y": 1,
          "yanchor": "bottom",
          "yref": "paper"
         },
         {
          "font": {
           "size": 20
          },
          "showarrow": false,
          "text": "$K = 10$",
          "x": 0.37124999999999997,
          "xanchor": "center",
          "xref": "paper",
          "y": 1,
          "yanchor": "bottom",
          "yref": "paper"
         },
         {
          "font": {
           "size": 20
          },
          "showarrow": false,
          "text": "$K = 15$",
          "x": 0.62875,
          "xanchor": "center",
          "xref": "paper",
          "y": 1,
          "yanchor": "bottom",
          "yref": "paper"
         },
         {
          "font": {
           "size": 20
          },
          "showarrow": false,
          "text": "$K = 20$",
          "x": 0.88625,
          "xanchor": "center",
          "xref": "paper",
          "y": 1,
          "yanchor": "bottom",
          "yref": "paper"
         },
         {
          "font": {
           "size": 20
          },
          "showarrow": false,
          "text": "Power",
          "textangle": -90,
          "x": 0,
          "xanchor": "right",
          "xref": "paper",
          "xshift": -40,
          "y": 0.5,
          "yanchor": "middle",
          "yref": "paper"
         },
         {
          "font": {
           "size": 19
          },
          "showarrow": false,
          "text": "Normalized averaged rewards",
          "x": 0.4,
          "xanchor": "left",
          "xref": "paper",
          "y": 0.5,
          "yref": "paper"
         },
         {
          "font": {
           "size": 19
          },
          "showarrow": false,
          "text": "Averaged sample size per arm",
          "x": 0.4,
          "xanchor": "left",
          "xref": "paper",
          "y": -0.1,
          "yref": "paper"
         }
        ],
        "font": {
         "size": 16
        },
        "height": 800,
        "legend": {
         "orientation": "h",
         "x": 0.33,
         "y": -0.15
        },
        "plot_bgcolor": "rgb(242,242,242)",
        "shapes": [
         {
          "type": "line",
          "x0": 0,
          "x1": 1,
          "xref": "x domain",
          "y0": 0.8,
          "y1": 0.8,
          "yref": "y"
         },
         {
          "type": "line",
          "x0": 0,
          "x1": 1,
          "xref": "x2 domain",
          "y0": 0.8,
          "y1": 0.8,
          "yref": "y2"
         },
         {
          "type": "line",
          "x0": 0,
          "x1": 1,
          "xref": "x3 domain",
          "y0": 0.8,
          "y1": 0.8,
          "yref": "y3"
         },
         {
          "type": "line",
          "x0": 0,
          "x1": 1,
          "xref": "x4 domain",
          "y0": 0.8,
          "y1": 0.8,
          "yref": "y4"
         },
         {
          "type": "line",
          "x0": 0,
          "x1": 1,
          "xref": "x5 domain",
          "y0": 0.8,
          "y1": 0.8,
          "yref": "y5"
         },
         {
          "type": "line",
          "x0": 0,
          "x1": 1,
          "xref": "x6 domain",
          "y0": 0.8,
          "y1": 0.8,
          "yref": "y6"
         },
         {
          "type": "line",
          "x0": 0,
          "x1": 1,
          "xref": "x7 domain",
          "y0": 0.8,
          "y1": 0.8,
          "yref": "y7"
         },
         {
          "type": "line",
          "x0": 0,
          "x1": 1,
          "xref": "x8 domain",
          "y0": 0.8,
          "y1": 0.8,
          "yref": "y8"
         }
        ],
        "template": {
         "data": {
          "bar": [
           {
            "error_x": {
             "color": "#2a3f5f"
            },
            "error_y": {
             "color": "#2a3f5f"
            },
            "marker": {
             "line": {
              "color": "#E5ECF6",
              "width": 0.5
             },
             "pattern": {
              "fillmode": "overlay",
              "size": 10,
              "solidity": 0.2
             }
            },
            "type": "bar"
           }
          ],
          "barpolar": [
           {
            "marker": {
             "line": {
              "color": "#E5ECF6",
              "width": 0.5
             },
             "pattern": {
              "fillmode": "overlay",
              "size": 10,
              "solidity": 0.2
             }
            },
            "type": "barpolar"
           }
          ],
          "carpet": [
           {
            "aaxis": {
             "endlinecolor": "#2a3f5f",
             "gridcolor": "white",
             "linecolor": "white",
             "minorgridcolor": "white",
             "startlinecolor": "#2a3f5f"
            },
            "baxis": {
             "endlinecolor": "#2a3f5f",
             "gridcolor": "white",
             "linecolor": "white",
             "minorgridcolor": "white",
             "startlinecolor": "#2a3f5f"
            },
            "type": "carpet"
           }
          ],
          "choropleth": [
           {
            "colorbar": {
             "outlinewidth": 0,
             "ticks": ""
            },
            "type": "choropleth"
           }
          ],
          "contour": [
           {
            "colorbar": {
             "outlinewidth": 0,
             "ticks": ""
            },
            "colorscale": [
             [
              0,
              "#0d0887"
             ],
             [
              0.1111111111111111,
              "#46039f"
             ],
             [
              0.2222222222222222,
              "#7201a8"
             ],
             [
              0.3333333333333333,
              "#9c179e"
             ],
             [
              0.4444444444444444,
              "#bd3786"
             ],
             [
              0.5555555555555556,
              "#d8576b"
             ],
             [
              0.6666666666666666,
              "#ed7953"
             ],
             [
              0.7777777777777778,
              "#fb9f3a"
             ],
             [
              0.8888888888888888,
              "#fdca26"
             ],
             [
              1,
              "#f0f921"
             ]
            ],
            "type": "contour"
           }
          ],
          "contourcarpet": [
           {
            "colorbar": {
             "outlinewidth": 0,
             "ticks": ""
            },
            "type": "contourcarpet"
           }
          ],
          "heatmap": [
           {
            "colorbar": {
             "outlinewidth": 0,
             "ticks": ""
            },
            "colorscale": [
             [
              0,
              "#0d0887"
             ],
             [
              0.1111111111111111,
              "#46039f"
             ],
             [
              0.2222222222222222,
              "#7201a8"
             ],
             [
              0.3333333333333333,
              "#9c179e"
             ],
             [
              0.4444444444444444,
              "#bd3786"
             ],
             [
              0.5555555555555556,
              "#d8576b"
             ],
             [
              0.6666666666666666,
              "#ed7953"
             ],
             [
              0.7777777777777778,
              "#fb9f3a"
             ],
             [
              0.8888888888888888,
              "#fdca26"
             ],
             [
              1,
              "#f0f921"
             ]
            ],
            "type": "heatmap"
           }
          ],
          "heatmapgl": [
           {
            "colorbar": {
             "outlinewidth": 0,
             "ticks": ""
            },
            "colorscale": [
             [
              0,
              "#0d0887"
             ],
             [
              0.1111111111111111,
              "#46039f"
             ],
             [
              0.2222222222222222,
              "#7201a8"
             ],
             [
              0.3333333333333333,
              "#9c179e"
             ],
             [
              0.4444444444444444,
              "#bd3786"
             ],
             [
              0.5555555555555556,
              "#d8576b"
             ],
             [
              0.6666666666666666,
              "#ed7953"
             ],
             [
              0.7777777777777778,
              "#fb9f3a"
             ],
             [
              0.8888888888888888,
              "#fdca26"
             ],
             [
              1,
              "#f0f921"
             ]
            ],
            "type": "heatmapgl"
           }
          ],
          "histogram": [
           {
            "marker": {
             "pattern": {
              "fillmode": "overlay",
              "size": 10,
              "solidity": 0.2
             }
            },
            "type": "histogram"
           }
          ],
          "histogram2d": [
           {
            "colorbar": {
             "outlinewidth": 0,
             "ticks": ""
            },
            "colorscale": [
             [
              0,
              "#0d0887"
             ],
             [
              0.1111111111111111,
              "#46039f"
             ],
             [
              0.2222222222222222,
              "#7201a8"
             ],
             [
              0.3333333333333333,
              "#9c179e"
             ],
             [
              0.4444444444444444,
              "#bd3786"
             ],
             [
              0.5555555555555556,
              "#d8576b"
             ],
             [
              0.6666666666666666,
              "#ed7953"
             ],
             [
              0.7777777777777778,
              "#fb9f3a"
             ],
             [
              0.8888888888888888,
              "#fdca26"
             ],
             [
              1,
              "#f0f921"
             ]
            ],
            "type": "histogram2d"
           }
          ],
          "histogram2dcontour": [
           {
            "colorbar": {
             "outlinewidth": 0,
             "ticks": ""
            },
            "colorscale": [
             [
              0,
              "#0d0887"
             ],
             [
              0.1111111111111111,
              "#46039f"
             ],
             [
              0.2222222222222222,
              "#7201a8"
             ],
             [
              0.3333333333333333,
              "#9c179e"
             ],
             [
              0.4444444444444444,
              "#bd3786"
             ],
             [
              0.5555555555555556,
              "#d8576b"
             ],
             [
              0.6666666666666666,
              "#ed7953"
             ],
             [
              0.7777777777777778,
              "#fb9f3a"
             ],
             [
              0.8888888888888888,
              "#fdca26"
             ],
             [
              1,
              "#f0f921"
             ]
            ],
            "type": "histogram2dcontour"
           }
          ],
          "mesh3d": [
           {
            "colorbar": {
             "outlinewidth": 0,
             "ticks": ""
            },
            "type": "mesh3d"
           }
          ],
          "parcoords": [
           {
            "line": {
             "colorbar": {
              "outlinewidth": 0,
              "ticks": ""
             }
            },
            "type": "parcoords"
           }
          ],
          "pie": [
           {
            "automargin": true,
            "type": "pie"
           }
          ],
          "scatter": [
           {
            "fillpattern": {
             "fillmode": "overlay",
             "size": 10,
             "solidity": 0.2
            },
            "type": "scatter"
           }
          ],
          "scatter3d": [
           {
            "line": {
             "colorbar": {
              "outlinewidth": 0,
              "ticks": ""
             }
            },
            "marker": {
             "colorbar": {
              "outlinewidth": 0,
              "ticks": ""
             }
            },
            "type": "scatter3d"
           }
          ],
          "scattercarpet": [
           {
            "marker": {
             "colorbar": {
              "outlinewidth": 0,
              "ticks": ""
             }
            },
            "type": "scattercarpet"
           }
          ],
          "scattergeo": [
           {
            "marker": {
             "colorbar": {
              "outlinewidth": 0,
              "ticks": ""
             }
            },
            "type": "scattergeo"
           }
          ],
          "scattergl": [
           {
            "marker": {
             "colorbar": {
              "outlinewidth": 0,
              "ticks": ""
             }
            },
            "type": "scattergl"
           }
          ],
          "scattermapbox": [
           {
            "marker": {
             "colorbar": {
              "outlinewidth": 0,
              "ticks": ""
             }
            },
            "type": "scattermapbox"
           }
          ],
          "scatterpolar": [
           {
            "marker": {
             "colorbar": {
              "outlinewidth": 0,
              "ticks": ""
             }
            },
            "type": "scatterpolar"
           }
          ],
          "scatterpolargl": [
           {
            "marker": {
             "colorbar": {
              "outlinewidth": 0,
              "ticks": ""
             }
            },
            "type": "scatterpolargl"
           }
          ],
          "scatterternary": [
           {
            "marker": {
             "colorbar": {
              "outlinewidth": 0,
              "ticks": ""
             }
            },
            "type": "scatterternary"
           }
          ],
          "surface": [
           {
            "colorbar": {
             "outlinewidth": 0,
             "ticks": ""
            },
            "colorscale": [
             [
              0,
              "#0d0887"
             ],
             [
              0.1111111111111111,
              "#46039f"
             ],
             [
              0.2222222222222222,
              "#7201a8"
             ],
             [
              0.3333333333333333,
              "#9c179e"
             ],
             [
              0.4444444444444444,
              "#bd3786"
             ],
             [
              0.5555555555555556,
              "#d8576b"
             ],
             [
              0.6666666666666666,
              "#ed7953"
             ],
             [
              0.7777777777777778,
              "#fb9f3a"
             ],
             [
              0.8888888888888888,
              "#fdca26"
             ],
             [
              1,
              "#f0f921"
             ]
            ],
            "type": "surface"
           }
          ],
          "table": [
           {
            "cells": {
             "fill": {
              "color": "#EBF0F8"
             },
             "line": {
              "color": "white"
             }
            },
            "header": {
             "fill": {
              "color": "#C8D4E3"
             },
             "line": {
              "color": "white"
             }
            },
            "type": "table"
           }
          ]
         },
         "layout": {
          "annotationdefaults": {
           "arrowcolor": "#2a3f5f",
           "arrowhead": 0,
           "arrowwidth": 1
          },
          "autotypenumbers": "strict",
          "coloraxis": {
           "colorbar": {
            "outlinewidth": 0,
            "ticks": ""
           }
          },
          "colorscale": {
           "diverging": [
            [
             0,
             "#8e0152"
            ],
            [
             0.1,
             "#c51b7d"
            ],
            [
             0.2,
             "#de77ae"
            ],
            [
             0.3,
             "#f1b6da"
            ],
            [
             0.4,
             "#fde0ef"
            ],
            [
             0.5,
             "#f7f7f7"
            ],
            [
             0.6,
             "#e6f5d0"
            ],
            [
             0.7,
             "#b8e186"
            ],
            [
             0.8,
             "#7fbc41"
            ],
            [
             0.9,
             "#4d9221"
            ],
            [
             1,
             "#276419"
            ]
           ],
           "sequential": [
            [
             0,
             "#0d0887"
            ],
            [
             0.1111111111111111,
             "#46039f"
            ],
            [
             0.2222222222222222,
             "#7201a8"
            ],
            [
             0.3333333333333333,
             "#9c179e"
            ],
            [
             0.4444444444444444,
             "#bd3786"
            ],
            [
             0.5555555555555556,
             "#d8576b"
            ],
            [
             0.6666666666666666,
             "#ed7953"
            ],
            [
             0.7777777777777778,
             "#fb9f3a"
            ],
            [
             0.8888888888888888,
             "#fdca26"
            ],
            [
             1,
             "#f0f921"
            ]
           ],
           "sequentialminus": [
            [
             0,
             "#0d0887"
            ],
            [
             0.1111111111111111,
             "#46039f"
            ],
            [
             0.2222222222222222,
             "#7201a8"
            ],
            [
             0.3333333333333333,
             "#9c179e"
            ],
            [
             0.4444444444444444,
             "#bd3786"
            ],
            [
             0.5555555555555556,
             "#d8576b"
            ],
            [
             0.6666666666666666,
             "#ed7953"
            ],
            [
             0.7777777777777778,
             "#fb9f3a"
            ],
            [
             0.8888888888888888,
             "#fdca26"
            ],
            [
             1,
             "#f0f921"
            ]
           ]
          },
          "colorway": [
           "#636efa",
           "#EF553B",
           "#00cc96",
           "#ab63fa",
           "#FFA15A",
           "#19d3f3",
           "#FF6692",
           "#B6E880",
           "#FF97FF",
           "#FECB52"
          ],
          "font": {
           "color": "#2a3f5f"
          },
          "geo": {
           "bgcolor": "white",
           "lakecolor": "white",
           "landcolor": "#E5ECF6",
           "showlakes": true,
           "showland": true,
           "subunitcolor": "white"
          },
          "hoverlabel": {
           "align": "left"
          },
          "hovermode": "closest",
          "mapbox": {
           "style": "light"
          },
          "paper_bgcolor": "white",
          "plot_bgcolor": "#E5ECF6",
          "polar": {
           "angularaxis": {
            "gridcolor": "white",
            "linecolor": "white",
            "ticks": ""
           },
           "bgcolor": "#E5ECF6",
           "radialaxis": {
            "gridcolor": "white",
            "linecolor": "white",
            "ticks": ""
           }
          },
          "scene": {
           "xaxis": {
            "backgroundcolor": "#E5ECF6",
            "gridcolor": "white",
            "gridwidth": 2,
            "linecolor": "white",
            "showbackground": true,
            "ticks": "",
            "zerolinecolor": "white"
           },
           "yaxis": {
            "backgroundcolor": "#E5ECF6",
            "gridcolor": "white",
            "gridwidth": 2,
            "linecolor": "white",
            "showbackground": true,
            "ticks": "",
            "zerolinecolor": "white"
           },
           "zaxis": {
            "backgroundcolor": "#E5ECF6",
            "gridcolor": "white",
            "gridwidth": 2,
            "linecolor": "white",
            "showbackground": true,
            "ticks": "",
            "zerolinecolor": "white"
           }
          },
          "shapedefaults": {
           "line": {
            "color": "#2a3f5f"
           }
          },
          "ternary": {
           "aaxis": {
            "gridcolor": "white",
            "linecolor": "white",
            "ticks": ""
           },
           "baxis": {
            "gridcolor": "white",
            "linecolor": "white",
            "ticks": ""
           },
           "bgcolor": "#E5ECF6",
           "caxis": {
            "gridcolor": "white",
            "linecolor": "white",
            "ticks": ""
           }
          },
          "title": {
           "x": 0.05
          },
          "xaxis": {
           "automargin": true,
           "gridcolor": "white",
           "linecolor": "white",
           "ticks": "",
           "title": {
            "standoff": 15
           },
           "zerolinecolor": "white",
           "zerolinewidth": 2
          },
          "yaxis": {
           "automargin": true,
           "gridcolor": "white",
           "linecolor": "white",
           "ticks": "",
           "title": {
            "standoff": 15
           },
           "zerolinecolor": "white",
           "zerolinewidth": 2
          }
         }
        },
        "width": 1600,
        "xaxis": {
         "anchor": "y",
         "domain": [
          0,
          0.2275
         ],
         "range": [
          0.9,
          0.98
         ],
         "type": "linear"
        },
        "xaxis2": {
         "anchor": "y2",
         "domain": [
          0.2575,
          0.485
         ],
         "range": [
          0.9,
          0.98
         ],
         "type": "linear"
        },
        "xaxis3": {
         "anchor": "y3",
         "domain": [
          0.515,
          0.7425
         ],
         "range": [
          0.9,
          0.98
         ],
         "type": "linear"
        },
        "xaxis4": {
         "anchor": "y4",
         "domain": [
          0.7725,
          1
         ],
         "range": [
          0.9,
          0.98
         ],
         "type": "linear"
        },
        "xaxis5": {
         "anchor": "y5",
         "domain": [
          0,
          0.2275
         ],
         "range": [
          0,
          1100
         ],
         "type": "linear"
        },
        "xaxis6": {
         "anchor": "y6",
         "domain": [
          0.2575,
          0.485
         ],
         "range": [
          0,
          1100
         ],
         "type": "linear"
        },
        "xaxis7": {
         "anchor": "y7",
         "domain": [
          0.515,
          0.7425
         ],
         "range": [
          0,
          1100
         ],
         "type": "linear"
        },
        "xaxis8": {
         "anchor": "y8",
         "domain": [
          0.7725,
          1
         ],
         "range": [
          0,
          1100
         ],
         "type": "linear"
        },
        "yaxis": {
         "anchor": "x",
         "autorange": true,
         "domain": [
          0.575,
          1
         ],
         "range": [
          -0.05971103338671034,
          0.9719110333867104
         ],
         "type": "linear"
        },
        "yaxis2": {
         "anchor": "x2",
         "autorange": true,
         "domain": [
          0.575,
          1
         ],
         "matches": "y",
         "range": [
          -0.05971103338671034,
          0.9719110333867104
         ],
         "showticklabels": false,
         "type": "linear"
        },
        "yaxis3": {
         "anchor": "x3",
         "autorange": true,
         "domain": [
          0.575,
          1
         ],
         "matches": "y",
         "range": [
          -0.05971103338671034,
          0.9719110333867104
         ],
         "showticklabels": false,
         "type": "linear"
        },
        "yaxis4": {
         "anchor": "x4",
         "autorange": true,
         "domain": [
          0.575,
          1
         ],
         "matches": "y",
         "range": [
          -0.05971103338671034,
          0.9719110333867104
         ],
         "showticklabels": false,
         "type": "linear"
        },
        "yaxis5": {
         "anchor": "x5",
         "autorange": true,
         "domain": [
          0,
          0.425
         ],
         "range": [
          -0.05971103338671034,
          0.9719110333867104
         ],
         "type": "linear"
        },
        "yaxis6": {
         "anchor": "x6",
         "autorange": true,
         "domain": [
          0,
          0.425
         ],
         "matches": "y5",
         "range": [
          -0.05971103338671034,
          0.9719110333867104
         ],
         "showticklabels": false,
         "type": "linear"
        },
        "yaxis7": {
         "anchor": "x7",
         "autorange": true,
         "domain": [
          0,
          0.425
         ],
         "matches": "y5",
         "range": [
          -0.05971103338671034,
          0.9719110333867104
         ],
         "showticklabels": false,
         "type": "linear"
        },
        "yaxis8": {
         "anchor": "x8",
         "autorange": true,
         "domain": [
          0,
          0.425
         ],
         "matches": "y5",
         "range": [
          -0.05971103338671034,
          0.9719110333867104
         ],
         "showticklabels": false,
         "type": "linear"
        }
       }
      },
      "image/png": "[encoded data removed]",
      "text/html": [
       "<div>                            <div id=\"0976cf86-7dfb-4279-adad-73bade309bc5\" class=\"plotly-graph-div\" style=\"height:800px; width:1600px;\"></div>            <script type=\"text/javascript\">                require([\"plotly\"], function(Plotly) {                    window.PLOTLYENV=window.PLOTLYENV || {};                                    if (document.getElementById(\"0976cf86-7dfb-4279-adad-73bade309bc5\")) {                    Plotly.newPlot(                        \"0976cf86-7dfb-4279-adad-73bade309bc5\",                        [{\"legendgroup\":\"ES\",\"marker\":{\"color\":[\"red\"],\"size\":8,\"symbol\":[\"square\"]},\"mode\":\"markers\",\"name\":\"ES\",\"orientation\":\"h\",\"showlegend\":true,\"x\":[0.9422866454545455],\"xaxis\":\"x\",\"y\":[0.899],\"yaxis\":\"y\",\"type\":\"scatter\"},{\"legendgroup\":\"ES\",\"marker\":{\"color\":[\"red\"],\"size\":8,\"symbol\":[\"square\"]},\"mode\":\"markers\",\"name\":\"ES\",\"orientation\":\"h\",\"showlegend\":false,\"x\":[86.4],\"xaxis\":\"x5\",\"y\":[0.899],\"yaxis\":\"y5\",\"type\":\"scatter\"},{\"legendgroup\":\"A/B\",\"marker\":{\"color\":[\"lime\"],\"size\":8,\"symbol\":[\"circle\"]},\"mode\":\"markers\",\"name\":\"A/B\",\"orientation\":\"h\",\"showlegend\":true,\"x\":[0.9089395018181818],\"xaxis\":\"x\",\"y\":[0.8308],\"yaxis\":\"y\",\"type\":\"scatter\"},{\"legendgroup\":\"A/B\",\"marker\":{\"color\":[\"lime\"],\"size\":8,\"symbol\":[\"circle\"]},\"mode\":\"markers\",\"name\":\"A/B\",\"orientation\":\"h\",\"showlegend\":false,\"x\":[1000.0],\"xaxis\":\"x5\",\"y\":[0.8308],\"yaxis\":\"y5\",\"type\":\"scatter\"},{\"legendgroup\":\"UES\",\"marker\":{\"color\":[\"yellowgreen\"],\"size\":8,\"symbol\":[\"star\"]},\"mode\":\"markers\",\"name\":\"UES\",\"orientation\":\"h\",\"showlegend\":true,\"x\":[0.9367281545454545],\"xaxis\":\"x\",\"y\":[0.8454],\"yaxis\":\"y\",\"type\":\"scatter\"},{\"legendgroup\":\"UES\",\"marker\":{\"color\":[\"yellowgreen\"],\"size\":8,\"symbol\":[\"star\"]},\"mode\":\"markers\",\"name\":\"UES\",\"orientation\":\"h\",\"showlegend\":false,\"x\":[117.6],\"xaxis\":\"x5\",\"y\":[0.8454],\"yaxis\":\"y5\",\"type\":\"scatter\"},{\"legendgroup\":\"TSS\",\"marker\":{\"color\":[\"blueviolet\"],\"size\":8,\"symbol\":[\"triangle-up\"]},\"mode\":\"markers\",\"name\":\"TSS\",\"orientation\":\"h\",\"showlegend\":true,\"x\":[0.9418889909090908],\"xaxis\":\"x\",\"y\":[0.7214],\"yaxis\":\"y\",\"type\":\"scatter\"},{\"legendgroup\":\"TSS\",\"marker\":{\"color\":[\"blueviolet\"],\"size\":8,\"symbol\":[\"triangle-up\"]},\"mode\":\"markers\",\"name\":\"TSS\",\"orientation\":\"h\",\"showlegend\":false,\"x\":[317.6],\"xaxis\":\"x5\",\"y\":[0.7214],\"yaxis\":\"y5\",\"type\":\"scatter\"},{\"legendgroup\":\"UCBS\",\"marker\":{\"color\":[\"maroon\"],\"size\":8,\"symbol\":[\"x\"]},\"mode\":\"markers\",\"name\":\"UCBS\",\"orientation\":\"h\",\"showlegend\":true,\"x\":[0.9411898999999999],\"xaxis\":\"x\",\"y\":[0.891],\"yaxis\":\"y\",\"type\":\"scatter\"},{\"legendgroup\":\"UCBS\",\"marker\":{\"color\":[\"maroon\"],\"size\":8,\"symbol\":[\"x\"]},\"mode\":\"markers\",\"name\":\"UCBS\",\"orientation\":\"h\",\"showlegend\":false,\"x\":[104.6],\"xaxis\":\"x5\",\"y\":[0.891],\"yaxis\":\"y5\",\"type\":\"scatter\"},{\"legendgroup\":\"EGS\",\"marker\":{\"color\":[\"darkgray\"],\"size\":8,\"symbol\":[\"diamond\"]},\"mode\":\"markers\",\"name\":\"EGS\",\"orientation\":\"h\",\"showlegend\":true,\"x\":[0.9414221090909091],\"xaxis\":\"x\",\"y\":[0.7512],\"yaxis\":\"y\",\"type\":\"scatter\"},{\"legendgroup\":\"EGS\",\"marker\":{\"color\":[\"darkgray\"],\"size\":8,\"symbol\":[\"diamond\"]},\"mode\":\"markers\",\"name\":\"EGS\",\"orientation\":\"h\",\"showlegend\":false,\"x\":[223.8],\"xaxis\":\"x5\",\"y\":[0.7512],\"yaxis\":\"y5\",\"type\":\"scatter\"},{\"legendgroup\":\"ES\",\"marker\":{\"color\":[\"red\"],\"size\":8,\"symbol\":[\"square\"]},\"mode\":\"markers\",\"name\":\"ES\",\"orientation\":\"h\",\"showlegend\":false,\"x\":[0.9559114181818181],\"xaxis\":\"x2\",\"y\":[0.887],\"yaxis\":\"y2\",\"type\":\"scatter\"},{\"legendgroup\":\"ES\",\"marker\":{\"color\":[\"red\"],\"size\":8,\"symbol\":[\"square\"]},\"mode\":\"markers\",\"name\":\"ES\",\"orientation\":\"h\",\"showlegend\":false,\"x\":[102.4],\"xaxis\":\"x6\",\"y\":[0.887],\"yaxis\":\"y6\",\"type\":\"scatter\"},{\"legendgroup\":\"A/B\",\"marker\":{\"color\":[\"lime\"],\"size\":8,\"symbol\":[\"circle\"]},\"mode\":\"markers\",\"name\":\"A/B\",\"orientation\":\"h\",\"showlegend\":false,\"x\":[0.9089503727272727],\"xaxis\":\"x2\",\"y\":[0.7748],\"yaxis\":\"y2\",\"type\":\"scatter\"},{\"legendgroup\":\"A/B\",\"marker\":{\"color\":[\"lime\"],\"size\":8,\"symbol\":[\"circle\"]},\"mode\":\"markers\",\"name\":\"A/B\",\"orientation\":\"h\",\"showlegend\":false,\"x\":[1000.0],\"xaxis\":\"x6\",\"y\":[0.7748],\"yaxis\":\"y6\",\"type\":\"scatter\"},{\"legendgroup\":\"UES\",\"marker\":{\"color\":[\"yellowgreen\"],\"size\":8,\"symbol\":[\"star\"]},\"mode\":\"markers\",\"name\":\"UES\",\"orientation\":\"h\",\"showlegend\":false,\"x\":[0.943728490909091],\"xaxis\":\"x2\",\"y\":[0.7942],\"yaxis\":\"y2\",\"type\":\"scatter\"},{\"legendgroup\":\"UES\",\"marker\":{\"color\":[\"yellowgreen\"],\"size\":8,\"symbol\":[\"star\"]},\"mode\":\"markers\",\"name\":\"UES\",\"orientation\":\"h\",\"showlegend\":false,\"x\":[170.2],\"xaxis\":\"x6\",\"y\":[0.7942],\"yaxis\":\"y6\",\"type\":\"scatter\"},{\"legendgroup\":\"TSS\",\"marker\":{\"color\":[\"blueviolet\"],\"size\":8,\"symbol\":[\"triangle-up\"]},\"mode\":\"markers\",\"name\":\"TSS\",\"orientation\":\"h\",\"showlegend\":false,\"x\":[0.9565166181818182],\"xaxis\":\"x2\",\"y\":[0.3484],\"yaxis\":\"y2\",\"type\":\"scatter\"},{\"legendgroup\":\"TSS\",\"marker\":{\"color\":[\"blueviolet\"],\"size\":8,\"symbol\":[\"triangle-up\"]},\"mode\":\"markers\",\"name\":\"TSS\",\"orientation\":\"h\",\"showlegend\":false,\"x\":[602.3],\"xaxis\":\"x6\",\"y\":[0.3484],\"yaxis\":\"y6\",\"type\":\"scatter\"},{\"legendgroup\":\"UCBS\",\"marker\":{\"color\":[\"maroon\"],\"size\":8,\"symbol\":[\"x\"]},\"mode\":\"markers\",\"name\":\"UCBS\",\"orientation\":\"h\",\"showlegend\":false,\"x\":[0.9553390272727273],\"xaxis\":\"x2\",\"y\":[0.8818],\"yaxis\":\"y2\",\"type\":\"scatter\"},{\"legendgroup\":\"UCBS\",\"marker\":{\"color\":[\"maroon\"],\"size\":8,\"symbol\":[\"x\"]},\"mode\":\"markers\",\"name\":\"UCBS\",\"orientation\":\"h\",\"showlegend\":false,\"x\":[123.9],\"xaxis\":\"x6\",\"y\":[0.8818],\"yaxis\":\"y6\",\"type\":\"scatter\"},{\"legendgroup\":\"EGS\",\"marker\":{\"color\":[\"darkgray\"],\"size\":8,\"symbol\":[\"diamond\"]},\"mode\":\"markers\",\"name\":\"EGS\",\"orientation\":\"h\",\"showlegend\":false,\"x\":[0.9537688545454546],\"xaxis\":\"x2\",\"y\":[0.6444],\"yaxis\":\"y2\",\"type\":\"scatter\"},{\"legendgroup\":\"EGS\",\"marker\":{\"color\":[\"darkgray\"],\"size\":8,\"symbol\":[\"diamond\"]},\"mode\":\"markers\",\"name\":\"EGS\",\"orientation\":\"h\",\"showlegend\":false,\"x\":[285.8],\"xaxis\":\"x6\",\"y\":[0.6444],\"yaxis\":\"y6\",\"type\":\"scatter\"},{\"legendgroup\":\"ES\",\"marker\":{\"color\":[\"red\"],\"size\":8,\"symbol\":[\"square\"]},\"mode\":\"markers\",\"name\":\"ES\",\"orientation\":\"h\",\"showlegend\":false,\"x\":[0.9627201636363637],\"xaxis\":\"x3\",\"y\":[0.886],\"yaxis\":\"y3\",\"type\":\"scatter\"},{\"legendgroup\":\"ES\",\"marker\":{\"color\":[\"red\"],\"size\":8,\"symbol\":[\"square\"]},\"mode\":\"markers\",\"name\":\"ES\",\"orientation\":\"h\",\"showlegend\":false,\"x\":[102.533333],\"xaxis\":\"x7\",\"y\":[0.886],\"yaxis\":\"y7\",\"type\":\"scatter\"},{\"legendgroup\":\"A/B\",\"marker\":{\"color\":[\"lime\"],\"size\":8,\"symbol\":[\"circle\"]},\"mode\":\"markers\",\"name\":\"A/B\",\"orientation\":\"h\",\"showlegend\":false,\"x\":[0.9090177],\"xaxis\":\"x3\",\"y\":[0.738],\"yaxis\":\"y3\",\"type\":\"scatter\"},{\"legendgroup\":\"A/B\",\"marker\":{\"color\":[\"lime\"],\"size\":8,\"symbol\":[\"circle\"]},\"mode\":\"markers\",\"name\":\"A/B\",\"orientation\":\"h\",\"showlegend\":false,\"x\":[1000.0],\"xaxis\":\"x7\",\"y\":[0.738],\"yaxis\":\"y7\",\"type\":\"scatter\"},{\"legendgroup\":\"UES\",\"marker\":{\"color\":[\"yellowgreen\"],\"size\":8,\"symbol\":[\"star\"]},\"mode\":\"markers\",\"name\":\"UES\",\"orientation\":\"h\",\"showlegend\":false,\"x\":[0.9449445545454546],\"xaxis\":\"x3\",\"y\":[0.741],\"yaxis\":\"y3\",\"type\":\"scatter\"},{\"legendgroup\":\"UES\",\"marker\":{\"color\":[\"yellowgreen\"],\"size\":8,\"symbol\":[\"star\"]},\"mode\":\"markers\",\"name\":\"UES\",\"orientation\":\"h\",\"showlegend\":false,\"x\":[199.666667],\"xaxis\":\"x7\",\"y\":[0.741],\"yaxis\":\"y7\",\"type\":\"scatter\"},{\"legendgroup\":\"TSS\",\"marker\":{\"color\":[\"blueviolet\"],\"size\":8,\"symbol\":[\"triangle-up\"]},\"mode\":\"markers\",\"name\":\"TSS\",\"orientation\":\"h\",\"showlegend\":false,\"x\":[0.9636391545454545],\"xaxis\":\"x3\",\"y\":[0.0752],\"yaxis\":\"y3\",\"type\":\"scatter\"},{\"legendgroup\":\"TSS\",\"marker\":{\"color\":[\"blueviolet\"],\"size\":8,\"symbol\":[\"triangle-up\"]},\"mode\":\"markers\",\"name\":\"TSS\",\"orientation\":\"h\",\"showlegend\":false,\"x\":[739.917553],\"xaxis\":\"x7\",\"y\":[0.0752],\"yaxis\":\"y7\",\"type\":\"scatter\"},{\"legendgroup\":\"UCBS\",\"marker\":{\"color\":[\"maroon\"],\"size\":8,\"symbol\":[\"x\"]},\"mode\":\"markers\",\"name\":\"UCBS\",\"orientation\":\"h\",\"showlegend\":false,\"x\":[0.962345209090909],\"xaxis\":\"x3\",\"y\":[0.8832],\"yaxis\":\"y3\",\"type\":\"scatter\"},{\"legendgroup\":\"UCBS\",\"marker\":{\"color\":[\"maroon\"],\"size\":8,\"symbol\":[\"x\"]},\"mode\":\"markers\",\"name\":\"UCBS\",\"orientation\":\"h\",\"showlegend\":false,\"x\":[129.0],\"xaxis\":\"x7\",\"y\":[0.8832],\"yaxis\":\"y7\",\"type\":\"scatter\"},{\"legendgroup\":\"EGS\",\"marker\":{\"color\":[\"darkgray\"],\"size\":8,\"symbol\":[\"diamond\"]},\"mode\":\"markers\",\"name\":\"EGS\",\"orientation\":\"h\",\"showlegend\":false,\"x\":[0.9606518909090909],\"xaxis\":\"x3\",\"y\":[0.5906],\"yaxis\":\"y3\",\"type\":\"scatter\"},{\"legendgroup\":\"EGS\",\"marker\":{\"color\":[\"darkgray\"],\"size\":8,\"symbol\":[\"diamond\"]},\"mode\":\"markers\",\"name\":\"EGS\",\"orientation\":\"h\",\"showlegend\":false,\"x\":[328.4],\"xaxis\":\"x7\",\"y\":[0.5906],\"yaxis\":\"y7\",\"type\":\"scatter\"},{\"legendgroup\":\"ES\",\"marker\":{\"color\":[\"red\"],\"size\":8,\"symbol\":[\"square\"]},\"mode\":\"markers\",\"name\":\"ES\",\"orientation\":\"h\",\"showlegend\":false,\"x\":[0.9675049181818182],\"xaxis\":\"x4\",\"y\":[0.887],\"yaxis\":\"y4\",\"type\":\"scatter\"},{\"legendgroup\":\"ES\",\"marker\":{\"color\":[\"red\"],\"size\":8,\"symbol\":[\"square\"]},\"mode\":\"markers\",\"name\":\"ES\",\"orientation\":\"h\",\"showlegend\":false,\"x\":[96.85],\"xaxis\":\"x8\",\"y\":[0.887],\"yaxis\":\"y8\",\"type\":\"scatter\"},{\"legendgroup\":\"A/B\",\"marker\":{\"color\":[\"lime\"],\"size\":8,\"symbol\":[\"circle\"]},\"mode\":\"markers\",\"name\":\"A/B\",\"orientation\":\"h\",\"showlegend\":false,\"x\":[0.9087460418181817],\"xaxis\":\"x4\",\"y\":[0.6924],\"yaxis\":\"y4\",\"type\":\"scatter\"},{\"legendgroup\":\"A/B\",\"marker\":{\"color\":[\"lime\"],\"size\":8,\"symbol\":[\"circle\"]},\"mode\":\"markers\",\"name\":\"A/B\",\"orientation\":\"h\",\"showlegend\":false,\"x\":[1000.0],\"xaxis\":\"x8\",\"y\":[0.6924],\"yaxis\":\"y8\",\"type\":\"scatter\"},{\"legendgroup\":\"UES\",\"marker\":{\"color\":[\"yellowgreen\"],\"size\":8,\"symbol\":[\"star\"]},\"mode\":\"markers\",\"name\":\"UES\",\"orientation\":\"h\",\"showlegend\":false,\"x\":[0.9456604909090909],\"xaxis\":\"x4\",\"y\":[0.7216],\"yaxis\":\"y4\",\"type\":\"scatter\"},{\"legendgroup\":\"UES\",\"marker\":{\"color\":[\"yellowgreen\"],\"size\":8,\"symbol\":[\"star\"]},\"mode\":\"markers\",\"name\":\"UES\",\"orientation\":\"h\",\"showlegend\":false,\"x\":[220.25],\"xaxis\":\"x8\",\"y\":[0.7216],\"yaxis\":\"y8\",\"type\":\"scatter\"},{\"legendgroup\":\"TSS\",\"marker\":{\"color\":[\"blueviolet\"],\"size\":8,\"symbol\":[\"triangle-up\"]},\"mode\":\"markers\",\"name\":\"TSS\",\"orientation\":\"h\",\"showlegend\":false,\"x\":[0.9678546363636363],\"xaxis\":\"x4\",\"y\":[0.0132],\"yaxis\":\"y4\",\"type\":\"scatter\"},{\"legendgroup\":\"TSS\",\"marker\":{\"color\":[\"blueviolet\"],\"size\":8,\"symbol\":[\"triangle-up\"]},\"mode\":\"markers\",\"name\":\"TSS\",\"orientation\":\"h\",\"showlegend\":false,\"x\":[818.560606],\"xaxis\":\"x8\",\"y\":[0.0132],\"yaxis\":\"y8\",\"type\":\"scatter\"},{\"legendgroup\":\"UCBS\",\"marker\":{\"color\":[\"maroon\"],\"size\":8,\"symbol\":[\"x\"]},\"mode\":\"markers\",\"name\":\"UCBS\",\"orientation\":\"h\",\"showlegend\":false,\"x\":[0.9662772454545454],\"xaxis\":\"x4\",\"y\":[0.8828],\"yaxis\":\"y4\",\"type\":\"scatter\"},{\"legendgroup\":\"UCBS\",\"marker\":{\"color\":[\"maroon\"],\"size\":8,\"symbol\":[\"x\"]},\"mode\":\"markers\",\"name\":\"UCBS\",\"orientation\":\"h\",\"showlegend\":false,\"x\":[130.1],\"xaxis\":\"x8\",\"y\":[0.8828],\"yaxis\":\"y8\",\"type\":\"scatter\"},{\"legendgroup\":\"EGS\",\"marker\":{\"color\":[\"darkgray\"],\"size\":8,\"symbol\":[\"diamond\"]},\"mode\":\"markers\",\"name\":\"EGS\",\"orientation\":\"h\",\"showlegend\":false,\"x\":[0.9642136909090909],\"xaxis\":\"x4\",\"y\":[0.5478],\"yaxis\":\"y4\",\"type\":\"scatter\"},{\"legendgroup\":\"EGS\",\"marker\":{\"color\":[\"darkgray\"],\"size\":8,\"symbol\":[\"diamond\"]},\"mode\":\"markers\",\"name\":\"EGS\",\"orientation\":\"h\",\"showlegend\":false,\"x\":[355.4],\"xaxis\":\"x8\",\"y\":[0.5478],\"yaxis\":\"y8\",\"type\":\"scatter\"}],                        {\"template\":{\"data\":{\"histogram2dcontour\":[{\"type\":\"histogram2dcontour\",\"colorbar\":{\"outlinewidth\":0,\"ticks\":\"\"},\"colorscale\":[[0.0,\"#0d0887\"],[0.1111111111111111,\"#46039f\"],[0.2222222222222222,\"#7201a8\"],[0.3333333333333333,\"#9c179e\"],[0.4444444444444444,\"#bd3786\"],[0.5555555555555556,\"#d8576b\"],[0.6666666666666666,\"#ed7953\"],[0.7777777777777778,\"#fb9f3a\"],[0.8888888888888888,\"#fdca26\"],[1.0,\"#f0f921\"]]}],\"choropleth\":[{\"type\":\"choropleth\",\"colorbar\":{\"outlinewidth\":0,\"ticks\":\"\"}}],\"histogram2d\":[{\"type\":\"histogram2d\",\"colorbar\":{\"outlinewidth\":0,\"ticks\":\"\"},\"colorscale\":[[0.0,\"#0d0887\"],[0.1111111111111111,\"#46039f\"],[0.2222222222222222,\"#7201a8\"],[0.3333333333333333,\"#9c179e\"],[0.4444444444444444,\"#bd3786\"],[0.5555555555555556,\"#d8576b\"],[0.6666666666666666,\"#ed7953\"],[0.7777777777777778,\"#fb9f3a\"],[0.8888888888888888,\"#fdca26\"],[1.0,\"#f0f921\"]]}],\"heatmap\":[{\"type\":\"heatmap\",\"colorbar\":{\"outlinewidth\":0,\"ticks\":\"\"},\"colorscale\":[[0.0,\"#0d0887\"],[0.1111111111111111,\"#46039f\"],[0.2222222222222222,\"#7201a8\"],[0.3333333333333333,\"#9c179e\"],[0.4444444444444444,\"#bd3786\"],[0.5555555555555556,\"#d8576b\"],[0.6666666666666666,\"#ed7953\"],[0.7777777777777778,\"#fb9f3a\"],[0.8888888888888888,\"#fdca26\"],[1.0,\"#f0f921\"]]}],\"heatmapgl\":[{\"type\":\"heatmapgl\",\"colorbar\":{\"outlinewidth\":0,\"ticks\":\"\"},\"colorscale\":[[0.0,\"#0d0887\"],[0.1111111111111111,\"#46039f\"],[0.2222222222222222,\"#7201a8\"],[0.3333333333333333,\"#9c179e\"],[0.4444444444444444,\"#bd3786\"],[0.5555555555555556,\"#d8576b\"],[0.6666666666666666,\"#ed7953\"],[0.7777777777777778,\"#fb9f3a\"],[0.8888888888888888,\"#fdca26\"],[1.0,\"#f0f921\"]]}],\"contourcarpet\":[{\"type\":\"contourcarpet\",\"colorbar\":{\"outlinewidth\":0,\"ticks\":\"\"}}],\"contour\":[{\"type\":\"contour\",\"colorbar\":{\"outlinewidth\":0,\"ticks\":\"\"},\"colorscale\":[[0.0,\"#0d0887\"],[0.1111111111111111,\"#46039f\"],[0.2222222222222222,\"#7201a8\"],[0.3333333333333333,\"#9c179e\"],[0.4444444444444444,\"#bd3786\"],[0.5555555555555556,\"#d8576b\"],[0.6666666666666666,\"#ed7953\"],[0.7777777777777778,\"#fb9f3a\"],[0.8888888888888888,\"#fdca26\"],[1.0,\"#f0f921\"]]}],\"surface\":[{\"type\":\"surface\",\"colorbar\":{\"outlinewidth\":0,\"ticks\":\"\"},\"colorscale\":[[0.0,\"#0d0887\"],[0.1111111111111111,\"#46039f\"],[0.2222222222222222,\"#7201a8\"],[0.3333333333333333,\"#9c179e\"],[0.4444444444444444,\"#bd3786\"],[0.5555555555555556,\"#d8576b\"],[0.6666666666666666,\"#ed7953\"],[0.7777777777777778,\"#fb9f3a\"],[0.8888888888888888,\"#fdca26\"],[1.0,\"#f0f921\"]]}],\"mesh3d\":[{\"type\":\"mesh3d\",\"colorbar\":{\"outlinewidth\":0,\"ticks\":\"\"}}],\"scatter\":[{\"fillpattern\":{\"fillmode\":\"overlay\",\"size\":10,\"solidity\":0.2},\"type\":\"scatter\"}],\"parcoords\":[{\"type\":\"parcoords\",\"line\":{\"colorbar\":{\"outlinewidth\":0,\"ticks\":\"\"}}}],\"scatterpolargl\":[{\"type\":\"scatterpolargl\",\"marker\":{\"colorbar\":{\"outlinewidth\":0,\"ticks\":\"\"}}}],\"bar\":[{\"error_x\":{\"color\":\"#2a3f5f\"},\"error_y\":{\"color\":\"#2a3f5f\"},\"marker\":{\"line\":{\"color\":\"#E5ECF6\",\"width\":0.5},\"pattern\":{\"fillmode\":\"overlay\",\"size\":10,\"solidity\":0.2}},\"type\":\"bar\"}],\"scattergeo\":[{\"type\":\"scattergeo\",\"marker\":{\"colorbar\":{\"outlinewidth\":0,\"ticks\":\"\"}}}],\"scatterpolar\":[{\"type\":\"scatterpolar\",\"marker\":{\"colorbar\":{\"outlinewidth\":0,\"ticks\":\"\"}}}],\"histogram\":[{\"marker\":{\"pattern\":{\"fillmode\":\"overlay\",\"size\":10,\"solidity\":0.2}},\"type\":\"histogram\"}],\"scattergl\":[{\"type\":\"scattergl\",\"marker\":{\"colorbar\":{\"outlinewidth\":0,\"ticks\":\"\"}}}],\"scatter3d\":[{\"type\":\"scatter3d\",\"line\":{\"colorbar\":{\"outlinewidth\":0,\"ticks\":\"\"}},\"marker\":{\"colorbar\":{\"outlinewidth\":0,\"ticks\":\"\"}}}],\"scattermapbox\":[{\"type\":\"scattermapbox\",\"marker\":{\"colorbar\":{\"outlinewidth\":0,\"ticks\":\"\"}}}],\"scatterternary\":[{\"type\":\"scatterternary\",\"marker\":{\"colorbar\":{\"outlinewidth\":0,\"ticks\":\"\"}}}],\"scattercarpet\":[{\"type\":\"scattercarpet\",\"marker\":{\"colorbar\":{\"outlinewidth\":0,\"ticks\":\"\"}}}],\"carpet\":[{\"aaxis\":{\"endlinecolor\":\"#2a3f5f\",\"gridcolor\":\"white\",\"linecolor\":\"white\",\"minorgridcolor\":\"white\",\"startlinecolor\":\"#2a3f5f\"},\"baxis\":{\"endlinecolor\":\"#2a3f5f\",\"gridcolor\":\"white\",\"linecolor\":\"white\",\"minorgridcolor\":\"white\",\"startlinecolor\":\"#2a3f5f\"},\"type\":\"carpet\"}],\"table\":[{\"cells\":{\"fill\":{\"color\":\"#EBF0F8\"},\"line\":{\"color\":\"white\"}},\"header\":{\"fill\":{\"color\":\"#C8D4E3\"},\"line\":{\"color\":\"white\"}},\"type\":\"table\"}],\"barpolar\":[{\"marker\":{\"line\":{\"color\":\"#E5ECF6\",\"width\":0.5},\"pattern\":{\"fillmode\":\"overlay\",\"size\":10,\"solidity\":0.2}},\"type\":\"barpolar\"}],\"pie\":[{\"automargin\":true,\"type\":\"pie\"}]},\"layout\":{\"autotypenumbers\":\"strict\",\"colorway\":[\"#636efa\",\"#EF553B\",\"#00cc96\",\"#ab63fa\",\"#FFA15A\",\"#19d3f3\",\"#FF6692\",\"#B6E880\",\"#FF97FF\",\"#FECB52\"],\"font\":{\"color\":\"#2a3f5f\"},\"hovermode\":\"closest\",\"hoverlabel\":{\"align\":\"left\"},\"paper_bgcolor\":\"white\",\"plot_bgcolor\":\"#E5ECF6\",\"polar\":{\"bgcolor\":\"#E5ECF6\",\"angularaxis\":{\"gridcolor\":\"white\",\"linecolor\":\"white\",\"ticks\":\"\"},\"radialaxis\":{\"gridcolor\":\"white\",\"linecolor\":\"white\",\"ticks\":\"\"}},\"ternary\":{\"bgcolor\":\"#E5ECF6\",\"aaxis\":{\"gridcolor\":\"white\",\"linecolor\":\"white\",\"ticks\":\"\"},\"baxis\":{\"gridcolor\":\"white\",\"linecolor\":\"white\",\"ticks\":\"\"},\"caxis\":{\"gridcolor\":\"white\",\"linecolor\":\"white\",\"ticks\":\"\"}},\"coloraxis\":{\"colorbar\":{\"outlinewidth\":0,\"ticks\":\"\"}},\"colorscale\":{\"sequential\":[[0.0,\"#0d0887\"],[0.1111111111111111,\"#46039f\"],[0.2222222222222222,\"#7201a8\"],[0.3333333333333333,\"#9c179e\"],[0.4444444444444444,\"#bd3786\"],[0.5555555555555556,\"#d8576b\"],[0.6666666666666666,\"#ed7953\"],[0.7777777777777778,\"#fb9f3a\"],[0.8888888888888888,\"#fdca26\"],[1.0,\"#f0f921\"]],\"sequentialminus\":[[0.0,\"#0d0887\"],[0.1111111111111111,\"#46039f\"],[0.2222222222222222,\"#7201a8\"],[0.3333333333333333,\"#9c179e\"],[0.4444444444444444,\"#bd3786\"],[0.5555555555555556,\"#d8576b\"],[0.6666666666666666,\"#ed7953\"],[0.7777777777777778,\"#fb9f3a\"],[0.8888888888888888,\"#fdca26\"],[1.0,\"#f0f921\"]],\"diverging\":[[0,\"#8e0152\"],[0.1,\"#c51b7d\"],[0.2,\"#de77ae\"],[0.3,\"#f1b6da\"],[0.4,\"#fde0ef\"],[0.5,\"#f7f7f7\"],[0.6,\"#e6f5d0\"],[0.7,\"#b8e186\"],[0.8,\"#7fbc41\"],[0.9,\"#4d9221\"],[1,\"#276419\"]]},\"xaxis\":{\"gridcolor\":\"white\",\"linecolor\":\"white\",\"ticks\":\"\",\"title\":{\"standoff\":15},\"zerolinecolor\":\"white\",\"automargin\":true,\"zerolinewidth\":2},\"yaxis\":{\"gridcolor\":\"white\",\"linecolor\":\"white\",\"ticks\":\"\",\"title\":{\"standoff\":15},\"zerolinecolor\":\"white\",\"automargin\":true,\"zerolinewidth\":2},\"scene\":{\"xaxis\":{\"backgroundcolor\":\"#E5ECF6\",\"gridcolor\":\"white\",\"linecolor\":\"white\",\"showbackground\":true,\"ticks\":\"\",\"zerolinecolor\":\"white\",\"gridwidth\":2},\"yaxis\":{\"backgroundcolor\":\"#E5ECF6\",\"gridcolor\":\"white\",\"linecolor\":\"white\",\"showbackground\":true,\"ticks\":\"\",\"zerolinecolor\":\"white\",\"gridwidth\":2},\"zaxis\":{\"backgroundcolor\":\"#E5ECF6\",\"gridcolor\":\"white\",\"linecolor\":\"white\",\"showbackground\":true,\"ticks\":\"\",\"zerolinecolor\":\"white\",\"gridwidth\":2}},\"shapedefaults\":{\"line\":{\"color\":\"#2a3f5f\"}},\"annotationdefaults\":{\"arrowcolor\":\"#2a3f5f\",\"arrowhead\":0,\"arrowwidth\":1},\"geo\":{\"bgcolor\":\"white\",\"landcolor\":\"#E5ECF6\",\"subunitcolor\":\"white\",\"showland\":true,\"showlakes\":true,\"lakecolor\":\"white\"},\"title\":{\"x\":0.05},\"mapbox\":{\"style\":\"light\"}}},\"xaxis\":{\"anchor\":\"y\",\"domain\":[0.0,0.2275],\"range\":[0.9,0.98]},\"yaxis\":{\"anchor\":\"x\",\"domain\":[0.575,1.0]},\"xaxis2\":{\"anchor\":\"y2\",\"domain\":[0.2575,0.485],\"range\":[0.9,0.98]},\"yaxis2\":{\"anchor\":\"x2\",\"domain\":[0.575,1.0],\"matches\":\"y\",\"showticklabels\":false},\"xaxis3\":{\"anchor\":\"y3\",\"domain\":[0.515,0.7425],\"range\":[0.9,0.98]},\"yaxis3\":{\"anchor\":\"x3\",\"domain\":[0.575,1.0],\"matches\":\"y\",\"showticklabels\":false},\"xaxis4\":{\"anchor\":\"y4\",\"domain\":[0.7725,1.0],\"range\":[0.9,0.98]},\"yaxis4\":{\"anchor\":\"x4\",\"domain\":[0.575,1.0],\"matches\":\"y\",\"showticklabels\":false},\"xaxis5\":{\"anchor\":\"y5\",\"domain\":[0.0,0.2275],\"range\":[0,1100]},\"yaxis5\":{\"anchor\":\"x5\",\"domain\":[0.0,0.425]},\"xaxis6\":{\"anchor\":\"y6\",\"domain\":[0.2575,0.485],\"range\":[0,1100]},\"yaxis6\":{\"anchor\":\"x6\",\"domain\":[0.0,0.425],\"matches\":\"y5\",\"showticklabels\":false},\"xaxis7\":{\"anchor\":\"y7\",\"domain\":[0.515,0.7425],\"range\":[0,1100]},\"yaxis7\":{\"anchor\":\"x7\",\"domain\":[0.0,0.425],\"matches\":\"y5\",\"showticklabels\":false},\"xaxis8\":{\"anchor\":\"y8\",\"domain\":[0.7725,1.0],\"range\":[0,1100]},\"yaxis8\":{\"anchor\":\"x8\",\"domain\":[0.0,0.425],\"matches\":\"y5\",\"showticklabels\":false},\"annotations\":[{\"font\":{\"size\":20},\"showarrow\":false,\"text\":\"$K = 5$\",\"x\":0.11375,\"xanchor\":\"center\",\"xref\":\"paper\",\"y\":1.0,\"yanchor\":\"bottom\",\"yref\":\"paper\"},{\"font\":{\"size\":20},\"showarrow\":false,\"text\":\"$K = 10$\",\"x\":0.37124999999999997,\"xanchor\":\"center\",\"xref\":\"paper\",\"y\":1.0,\"yanchor\":\"bottom\",\"yref\":\"paper\"},{\"font\":{\"size\":20},\"showarrow\":false,\"text\":\"$K = 15$\",\"x\":0.62875,\"xanchor\":\"center\",\"xref\":\"paper\",\"y\":1.0,\"yanchor\":\"bottom\",\"yref\":\"paper\"},{\"font\":{\"size\":20},\"showarrow\":false,\"text\":\"$K = 20$\",\"x\":0.88625,\"xanchor\":\"center\",\"xref\":\"paper\",\"y\":1.0,\"yanchor\":\"bottom\",\"yref\":\"paper\"},{\"font\":{\"size\":20},\"showarrow\":false,\"text\":\"Power\",\"textangle\":-90,\"x\":0,\"xanchor\":\"right\",\"xref\":\"paper\",\"xshift\":-40,\"y\":0.5,\"yanchor\":\"middle\",\"yref\":\"paper\"},{\"font\":{\"size\":19},\"showarrow\":false,\"text\":\"Normalized averaged rewards\",\"x\":0.4,\"xanchor\":\"left\",\"xref\":\"paper\",\"y\":0.5,\"yref\":\"paper\"},{\"font\":{\"size\":19},\"showarrow\":false,\"text\":\"Averaged sample size per arm\",\"x\":0.4,\"xanchor\":\"left\",\"xref\":\"paper\",\"y\":-0.1,\"yref\":\"paper\"}],\"shapes\":[{\"type\":\"line\",\"x0\":0,\"x1\":1,\"xref\":\"x domain\",\"y0\":0.8,\"y1\":0.8,\"yref\":\"y\"},{\"type\":\"line\",\"x0\":0,\"x1\":1,\"xref\":\"x2 domain\",\"y0\":0.8,\"y1\":0.8,\"yref\":\"y2\"},{\"type\":\"line\",\"x0\":0,\"x1\":1,\"xref\":\"x3 domain\",\"y0\":0.8,\"y1\":0.8,\"yref\":\"y3\"},{\"type\":\"line\",\"x0\":0,\"x1\":1,\"xref\":\"x4 domain\",\"y0\":0.8,\"y1\":0.8,\"yref\":\"y4\"},{\"type\":\"line\",\"x0\":0,\"x1\":1,\"xref\":\"x5 domain\",\"y0\":0.8,\"y1\":0.8,\"yref\":\"y5\"},{\"type\":\"line\",\"x0\":0,\"x1\":1,\"xref\":\"x6 domain\",\"y0\":0.8,\"y1\":0.8,\"yref\":\"y6\"},{\"type\":\"line\",\"x0\":0,\"x1\":1,\"xref\":\"x7 domain\",\"y0\":0.8,\"y1\":0.8,\"yref\":\"y7\"},{\"type\":\"line\",\"x0\":0,\"x1\":1,\"xref\":\"x8 domain\",\"y0\":0.8,\"y1\":0.8,\"yref\":\"y8\"}],\"legend\":{\"orientation\":\"h\",\"x\":0.33,\"y\":-0.15},\"font\":{\"size\":16},\"height\":800,\"width\":1600,\"plot_bgcolor\":\"rgb(242,242,242)\"},                        {\"responsive\": true}                    ).then(function(){\n",
       "                            \n",
       "var gd = document.getElementById('0976cf86-7dfb-4279-adad-73bade309bc5');\n",
       "var x = new MutationObserver(function (mutations, observer) {{\n",
       "        var display = window.getComputedStyle(gd).display;\n",
       "        if (!display || display === 'none') {{\n",
       "            console.log([gd, 'removed!']);\n",
       "            Plotly.purge(gd);\n",
       "            observer.disconnect();\n",
       "        }}\n",
       "}});\n",
       "\n",
       "// Listen for the removal of the full notebook cells\n",
       "var notebookContainer = gd.closest('#notebook-container');\n",
       "if (notebookContainer) {{\n",
       "    x.observe(notebookContainer, {childList: true});\n",
       "}}\n",
       "\n",
       "// Listen for the clearing of the current output cell\n",
       "var outputEl = gd.closest('.output');\n",
       "if (outputEl) {{\n",
       "    x.observe(outputEl, {childList: true});\n",
       "}}\n",
       "\n",
       "                        })                };                });            </script>        </div>"
      ]
     },
     "metadata": {},
     "output_type": "display_data"
    }
   ],
   "source": [
    "df = pd.read_csv(\"res_sim_gauss_var_numarm.csv\")\n",
    "idx2key = {\n",
    "    \"0\": r\"$K = 5$\",\n",
    "    \"1\": r\"$K = 10$\",\n",
    "    \"2\": r\"$K = 15$\",\n",
    "    \"3\": r\"$K = 20$\",\n",
    "}\n",
    "algos = [\"ES\", \"A/B\", \"UES\", \"TSS\", \"UCBS\", \"EGS\"]\n",
    "key2data = get_key2data(df, idx2key)\n",
    "print(key2data)\n",
    "fig = sd_return_fig(algos, key2data, 11, False, [[0.90, 0.98], [0, 1100]], 8)\n",
    "fig.add_annotation(dict(\n",
    "    font=dict(size=19),\n",
    "    x=0.4,\n",
    "    y=0.5,\n",
    "    showarrow=False,\n",
    "    text=\"Normalized averaged rewards\",\n",
    "    xanchor=\"left\",\n",
    "    xref=\"paper\",\n",
    "    yref=\"paper\",\n",
    "))\n",
    "fig.add_annotation(dict(\n",
    "    font=dict(size=19),\n",
    "    x=0.4,\n",
    "    y=-0.1,\n",
    "    showarrow=False,\n",
    "    text=\"Averaged sample size per arm\",\n",
    "    xanchor=\"left\",\n",
    "    xref=\"paper\",\n",
    "    yref=\"paper\",\n",
    "))\n",
    "\n",
    "# print(fig.layout)\n",
    "fig.show()\n",
    "plotly.io.write_image(fig, 'sim_gauss_var_numarm.pdf', format='pdf')"
   ]
  },
  {
   "cell_type": "markdown",
   "id": "343e53fb-5e14-4469-ae25-76bb197c540e",
   "metadata": {},
   "source": [
    "# Real Data"
   ]
  },
  {
   "cell_type": "code",
   "execution_count": 30,
   "id": "2dc45263-2639-42a3-95f5-c7add003616f",
   "metadata": {},
   "outputs": [
    {
     "data": {
      "application/vnd.plotly.v1+json": {
       "config": {
        "plotlyServerURL": "https://plot.ly"
       },
       "data": [
        {
         "legendgroup": "ES",
         "marker": {
          "color": [
           "red"
          ],
          "size": 12,
          "symbol": [
           "square"
          ]
         },
         "mode": "markers",
         "name": "ES",
         "orientation": "h",
         "showlegend": false,
         "type": "scatter",
         "x": [
          0.9873333333333333
         ],
         "xaxis": "x2",
         "y": [
          0.7717
         ],
         "yaxis": "y2"
        },
        {
         "legendgroup": "A/B",
         "marker": {
          "color": [
           "lime"
          ],
          "size": 12,
          "symbol": [
           "circle"
          ]
         },
         "mode": "markers",
         "name": "A/B",
         "orientation": "h",
         "showlegend": false,
         "type": "scatter",
         "x": [
          0.8586666666666667
         ],
         "xaxis": "x2",
         "y": [
          0.7724
         ],
         "yaxis": "y2"
        },
        {
         "legendgroup": "UES",
         "marker": {
          "color": [
           "yellowgreen"
          ],
          "size": 12,
          "symbol": [
           "star"
          ]
         },
         "mode": "markers",
         "name": "UES",
         "orientation": "h",
         "showlegend": false,
         "type": "scatter",
         "x": [
          0.96
         ],
         "xaxis": "x2",
         "y": [
          0.749
         ],
         "yaxis": "y2"
        },
        {
         "legendgroup": "TSS",
         "marker": {
          "color": [
           "blueviolet"
          ],
          "size": 12,
          "symbol": [
           "triangle-up"
          ]
         },
         "mode": "markers",
         "name": "TSS",
         "orientation": "h",
         "showlegend": false,
         "type": "scatter",
         "x": [
          0.99
         ],
         "xaxis": "x2",
         "y": [
          0.0838
         ],
         "yaxis": "y2"
        },
        {
         "legendgroup": "UCBS",
         "marker": {
          "color": [
           "maroon"
          ],
          "size": 12,
          "symbol": [
           "x"
          ]
         },
         "mode": "markers",
         "name": "UCBS",
         "orientation": "h",
         "showlegend": false,
         "type": "scatter",
         "x": [
          0.9866666666666667
         ],
         "xaxis": "x2",
         "y": [
          0.029
         ],
         "yaxis": "y2"
        },
        {
         "legendgroup": "EGS",
         "marker": {
          "color": [
           "darkgray"
          ],
          "size": 12,
          "symbol": [
           "diamond"
          ]
         },
         "mode": "markers",
         "name": "EGS",
         "orientation": "h",
         "showlegend": false,
         "type": "scatter",
         "x": [
          0.98
         ],
         "xaxis": "x2",
         "y": [
          0.3194
         ],
         "yaxis": "y2"
        },
        {
         "legendgroup": "ES",
         "marker": {
          "color": [
           "red"
          ],
          "size": 12,
          "symbol": [
           "square"
          ]
         },
         "mode": "markers",
         "name": "ES",
         "orientation": "h",
         "showlegend": true,
         "type": "scatter",
         "x": [
          34146.666666666664
         ],
         "xaxis": "x4",
         "y": [
          0.7717
         ],
         "yaxis": "y4"
        },
        {
         "legendgroup": "A/B",
         "marker": {
          "color": [
           "lime"
          ],
          "size": 12,
          "symbol": [
           "circle"
          ]
         },
         "mode": "markers",
         "name": "A/B",
         "orientation": "h",
         "showlegend": true,
         "type": "scatter",
         "x": [
          92384.22222222222
         ],
         "xaxis": "x4",
         "y": [
          0.7724
         ],
         "yaxis": "y4"
        },
        {
         "legendgroup": "UES",
         "marker": {
          "color": [
           "yellowgreen"
          ],
          "size": 12,
          "symbol": [
           "star"
          ]
         },
         "mode": "markers",
         "name": "UES",
         "orientation": "h",
         "showlegend": true,
         "type": "scatter",
         "x": [
          49328.88888888889
         ],
         "xaxis": "x4",
         "y": [
          0.749
         ],
         "yaxis": "y4"
        },
        {
         "legendgroup": "TSS",
         "marker": {
          "color": [
           "blueviolet"
          ],
          "size": 12,
          "symbol": [
           "triangle-up"
          ]
         },
         "mode": "markers",
         "name": "TSS",
         "orientation": "h",
         "showlegend": true,
         "type": "scatter",
         "x": [
          30160.444444444445
         ],
         "xaxis": "x4",
         "y": [
          0.0838
         ],
         "yaxis": "y4"
        },
        {
         "legendgroup": "UCBS",
         "marker": {
          "color": [
           "maroon"
          ],
          "size": 12,
          "symbol": [
           "x"
          ]
         },
         "mode": "markers",
         "name": "UCBS",
         "orientation": "h",
         "showlegend": true,
         "type": "scatter",
         "x": [
          24407.333333333332
         ],
         "xaxis": "x4",
         "y": [
          0.029
         ],
         "yaxis": "y4"
        },
        {
         "legendgroup": "EGS",
         "marker": {
          "color": [
           "darkgray"
          ],
          "size": 12,
          "symbol": [
           "diamond"
          ]
         },
         "mode": "markers",
         "name": "EGS",
         "orientation": "h",
         "showlegend": true,
         "type": "scatter",
         "x": [
          31597.777777777777
         ],
         "xaxis": "x4",
         "y": [
          0.3194
         ],
         "yaxis": "y4"
        },
        {
         "legendgroup": "ES",
         "marker": {
          "color": [
           "red"
          ],
          "size": 12,
          "symbol": [
           "square"
          ]
         },
         "mode": "markers",
         "name": "ES",
         "orientation": "h",
         "showlegend": false,
         "type": "scatter",
         "x": [
          0.9395454545454546
         ],
         "xaxis": "x",
         "y": [
          0.8283
         ],
         "yaxis": "y"
        },
        {
         "legendgroup": "A/B",
         "marker": {
          "color": [
           "lime"
          ],
          "size": 12,
          "symbol": [
           "circle"
          ]
         },
         "mode": "markers",
         "name": "A/B",
         "orientation": "h",
         "showlegend": false,
         "type": "scatter",
         "x": [
          0.8386363636363636
         ],
         "xaxis": "x",
         "y": [
          0.8017
         ],
         "yaxis": "y"
        },
        {
         "legendgroup": "TSS",
         "marker": {
          "color": [
           "blueviolet"
          ],
          "size": 12,
          "symbol": [
           "triangle-up"
          ]
         },
         "mode": "markers",
         "name": "TSS",
         "orientation": "h",
         "showlegend": false,
         "type": "scatter",
         "x": [
          0.9409090909090908
         ],
         "xaxis": "x",
         "y": [
          0.785
         ],
         "yaxis": "y"
        },
        {
         "legendgroup": "UCBS",
         "marker": {
          "color": [
           "maroon"
          ],
          "size": 12,
          "symbol": [
           "x"
          ]
         },
         "mode": "markers",
         "name": "UCBS",
         "orientation": "h",
         "showlegend": false,
         "type": "scatter",
         "x": [
          0.9409090909090908
         ],
         "xaxis": "x",
         "y": [
          0.8203
         ],
         "yaxis": "y"
        },
        {
         "legendgroup": "EGS",
         "marker": {
          "color": [
           "darkgray"
          ],
          "size": 12,
          "symbol": [
           "diamond"
          ]
         },
         "mode": "markers",
         "name": "EGS",
         "orientation": "h",
         "showlegend": false,
         "type": "scatter",
         "x": [
          0.9413636363636364
         ],
         "xaxis": "x",
         "y": [
          0.7328
         ],
         "yaxis": "y"
        },
        {
         "legendgroup": "IG",
         "marker": {
          "color": [
           "darkorange"
          ],
          "size": 12,
          "symbol": [
           "cross"
          ]
         },
         "mode": "markers",
         "name": "IG",
         "orientation": "h",
         "showlegend": true,
         "type": "scatter",
         "x": [
          0.8522727272727273
         ],
         "xaxis": "x",
         "y": [
          0.8161
         ],
         "yaxis": "y"
        },
        {
         "legendgroup": "IRG",
         "marker": {
          "color": [
           "black"
          ],
          "size": 12,
          "symbol": [
           "pentagon"
          ]
         },
         "mode": "markers",
         "name": "IRG",
         "orientation": "h",
         "showlegend": true,
         "type": "scatter",
         "x": [
          0.8386363636363636
         ],
         "xaxis": "x",
         "y": [
          0.5242
         ],
         "yaxis": "y"
        },
        {
         "legendgroup": "ES",
         "marker": {
          "color": [
           "red"
          ],
          "size": 12,
          "symbol": [
           "square"
          ]
         },
         "mode": "markers",
         "name": "ES",
         "orientation": "h",
         "showlegend": false,
         "type": "scatter",
         "x": [
          4865
         ],
         "xaxis": "x3",
         "y": [
          0.8283
         ],
         "yaxis": "y3"
        },
        {
         "legendgroup": "A/B",
         "marker": {
          "color": [
           "lime"
          ],
          "size": 12,
          "symbol": [
           "circle"
          ]
         },
         "mode": "markers",
         "name": "A/B",
         "orientation": "h",
         "showlegend": false,
         "type": "scatter",
         "x": [
          16533
         ],
         "xaxis": "x3",
         "y": [
          0.8017
         ],
         "yaxis": "y3"
        },
        {
         "legendgroup": "TSS",
         "marker": {
          "color": [
           "blueviolet"
          ],
          "size": 12,
          "symbol": [
           "triangle-up"
          ]
         },
         "mode": "markers",
         "name": "TSS",
         "orientation": "h",
         "showlegend": false,
         "type": "scatter",
         "x": [
          5657
         ],
         "xaxis": "x3",
         "y": [
          0.785
         ],
         "yaxis": "y3"
        },
        {
         "legendgroup": "UCBS",
         "marker": {
          "color": [
           "maroon"
          ],
          "size": 12,
          "symbol": [
           "x"
          ]
         },
         "mode": "markers",
         "name": "UCBS",
         "orientation": "h",
         "showlegend": false,
         "type": "scatter",
         "x": [
          4991
         ],
         "xaxis": "x3",
         "y": [
          0.8203
         ],
         "yaxis": "y3"
        },
        {
         "legendgroup": "EGS",
         "marker": {
          "color": [
           "darkgray"
          ],
          "size": 12,
          "symbol": [
           "diamond"
          ]
         },
         "mode": "markers",
         "name": "EGS",
         "orientation": "h",
         "showlegend": false,
         "type": "scatter",
         "x": [
          7121
         ],
         "xaxis": "x3",
         "y": [
          0.7328
         ],
         "yaxis": "y3"
        },
        {
         "legendgroup": "IG",
         "marker": {
          "color": [
           "darkorange"
          ],
          "size": 12,
          "symbol": [
           "cross"
          ]
         },
         "mode": "markers",
         "name": "IG",
         "orientation": "h",
         "showlegend": false,
         "type": "scatter",
         "x": [
          16533
         ],
         "xaxis": "x3",
         "y": [
          0.8161
         ],
         "yaxis": "y3"
        },
        {
         "legendgroup": "IRG",
         "marker": {
          "color": [
           "black"
          ],
          "size": 12,
          "symbol": [
           "pentagon"
          ]
         },
         "mode": "markers",
         "name": "IRG",
         "orientation": "h",
         "showlegend": false,
         "type": "scatter",
         "x": [
          16533
         ],
         "xaxis": "x3",
         "y": [
          0.5242
         ],
         "yaxis": "y3"
        }
       ],
       "layout": {
        "annotations": [
         {
          "font": {
           "size": 20
          },
          "showarrow": false,
          "text": "(a) Bernoulli reward type",
          "x": 0.2425,
          "xanchor": "center",
          "xref": "paper",
          "y": 1,
          "yanchor": "bottom",
          "yref": "paper"
         },
         {
          "font": {
           "size": 20
          },
          "showarrow": false,
          "text": "(b) Continuous reward type",
          "x": 0.7575000000000001,
          "xanchor": "center",
          "xref": "paper",
          "y": 1,
          "yanchor": "bottom",
          "yref": "paper"
         },
         {
          "font": {
           "size": 20
          },
          "showarrow": false,
          "text": "Power",
          "textangle": -90,
          "x": 0,
          "xanchor": "right",
          "xref": "paper",
          "xshift": -40,
          "y": 0.5,
          "yanchor": "middle",
          "yref": "paper"
         },
         {
          "font": {
           "size": 19
          },
          "showarrow": false,
          "text": "Normalized averaged rewards",
          "x": 0.35,
          "xanchor": "left",
          "xref": "paper",
          "y": 0.5,
          "yref": "paper"
         },
         {
          "font": {
           "size": 19
          },
          "showarrow": false,
          "text": "Averaged sample size per arm",
          "x": 0.35,
          "xanchor": "left",
          "xref": "paper",
          "y": -0.1,
          "yref": "paper"
         }
        ],
        "font": {
         "size": 16
        },
        "height": 1000,
        "legend": {
         "orientation": "h",
         "x": 0.25,
         "y": -0.15
        },
        "plot_bgcolor": "rgb(242,242,242)",
        "shapes": [
         {
          "type": "line",
          "x0": 0,
          "x1": 1,
          "xref": "x domain",
          "y0": 0.8,
          "y1": 0.8,
          "yref": "y"
         },
         {
          "type": "line",
          "x0": 0,
          "x1": 1,
          "xref": "x2 domain",
          "y0": 0.8,
          "y1": 0.8,
          "yref": "y2"
         },
         {
          "type": "line",
          "x0": 0,
          "x1": 1,
          "xref": "x3 domain",
          "y0": 0.8,
          "y1": 0.8,
          "yref": "y3"
         },
         {
          "type": "line",
          "x0": 0,
          "x1": 1,
          "xref": "x4 domain",
          "y0": 0.8,
          "y1": 0.8,
          "yref": "y4"
         }
        ],
        "template": {
         "data": {
          "bar": [
           {
            "error_x": {
             "color": "#2a3f5f"
            },
            "error_y": {
             "color": "#2a3f5f"
            },
            "marker": {
             "line": {
              "color": "#E5ECF6",
              "width": 0.5
             },
             "pattern": {
              "fillmode": "overlay",
              "size": 10,
              "solidity": 0.2
             }
            },
            "type": "bar"
           }
          ],
          "barpolar": [
           {
            "marker": {
             "line": {
              "color": "#E5ECF6",
              "width": 0.5
             },
             "pattern": {
              "fillmode": "overlay",
              "size": 10,
              "solidity": 0.2
             }
            },
            "type": "barpolar"
           }
          ],
          "carpet": [
           {
            "aaxis": {
             "endlinecolor": "#2a3f5f",
             "gridcolor": "white",
             "linecolor": "white",
             "minorgridcolor": "white",
             "startlinecolor": "#2a3f5f"
            },
            "baxis": {
             "endlinecolor": "#2a3f5f",
             "gridcolor": "white",
             "linecolor": "white",
             "minorgridcolor": "white",
             "startlinecolor": "#2a3f5f"
            },
            "type": "carpet"
           }
          ],
          "choropleth": [
           {
            "colorbar": {
             "outlinewidth": 0,
             "ticks": ""
            },
            "type": "choropleth"
           }
          ],
          "contour": [
           {
            "colorbar": {
             "outlinewidth": 0,
             "ticks": ""
            },
            "colorscale": [
             [
              0,
              "#0d0887"
             ],
             [
              0.1111111111111111,
              "#46039f"
             ],
             [
              0.2222222222222222,
              "#7201a8"
             ],
             [
              0.3333333333333333,
              "#9c179e"
             ],
             [
              0.4444444444444444,
              "#bd3786"
             ],
             [
              0.5555555555555556,
              "#d8576b"
             ],
             [
              0.6666666666666666,
              "#ed7953"
             ],
             [
              0.7777777777777778,
              "#fb9f3a"
             ],
             [
              0.8888888888888888,
              "#fdca26"
             ],
             [
              1,
              "#f0f921"
             ]
            ],
            "type": "contour"
           }
          ],
          "contourcarpet": [
           {
            "colorbar": {
             "outlinewidth": 0,
             "ticks": ""
            },
            "type": "contourcarpet"
           }
          ],
          "heatmap": [
           {
            "colorbar": {
             "outlinewidth": 0,
             "ticks": ""
            },
            "colorscale": [
             [
              0,
              "#0d0887"
             ],
             [
              0.1111111111111111,
              "#46039f"
             ],
             [
              0.2222222222222222,
              "#7201a8"
             ],
             [
              0.3333333333333333,
              "#9c179e"
             ],
             [
              0.4444444444444444,
              "#bd3786"
             ],
             [
              0.5555555555555556,
              "#d8576b"
             ],
             [
              0.6666666666666666,
              "#ed7953"
             ],
             [
              0.7777777777777778,
              "#fb9f3a"
             ],
             [
              0.8888888888888888,
              "#fdca26"
             ],
             [
              1,
              "#f0f921"
             ]
            ],
            "type": "heatmap"
           }
          ],
          "heatmapgl": [
           {
            "colorbar": {
             "outlinewidth": 0,
             "ticks": ""
            },
            "colorscale": [
             [
              0,
              "#0d0887"
             ],
             [
              0.1111111111111111,
              "#46039f"
             ],
             [
              0.2222222222222222,
              "#7201a8"
             ],
             [
              0.3333333333333333,
              "#9c179e"
             ],
             [
              0.4444444444444444,
              "#bd3786"
             ],
             [
              0.5555555555555556,
              "#d8576b"
             ],
             [
              0.6666666666666666,
              "#ed7953"
             ],
             [
              0.7777777777777778,
              "#fb9f3a"
             ],
             [
              0.8888888888888888,
              "#fdca26"
             ],
             [
              1,
              "#f0f921"
             ]
            ],
            "type": "heatmapgl"
           }
          ],
          "histogram": [
           {
            "marker": {
             "pattern": {
              "fillmode": "overlay",
              "size": 10,
              "solidity": 0.2
             }
            },
            "type": "histogram"
           }
          ],
          "histogram2d": [
           {
            "colorbar": {
             "outlinewidth": 0,
             "ticks": ""
            },
            "colorscale": [
             [
              0,
              "#0d0887"
             ],
             [
              0.1111111111111111,
              "#46039f"
             ],
             [
              0.2222222222222222,
              "#7201a8"
             ],
             [
              0.3333333333333333,
              "#9c179e"
             ],
             [
              0.4444444444444444,
              "#bd3786"
             ],
             [
              0.5555555555555556,
              "#d8576b"
             ],
             [
              0.6666666666666666,
              "#ed7953"
             ],
             [
              0.7777777777777778,
              "#fb9f3a"
             ],
             [
              0.8888888888888888,
              "#fdca26"
             ],
             [
              1,
              "#f0f921"
             ]
            ],
            "type": "histogram2d"
           }
          ],
          "histogram2dcontour": [
           {
            "colorbar": {
             "outlinewidth": 0,
             "ticks": ""
            },
            "colorscale": [
             [
              0,
              "#0d0887"
             ],
             [
              0.1111111111111111,
              "#46039f"
             ],
             [
              0.2222222222222222,
              "#7201a8"
             ],
             [
              0.3333333333333333,
              "#9c179e"
             ],
             [
              0.4444444444444444,
              "#bd3786"
             ],
             [
              0.5555555555555556,
              "#d8576b"
             ],
             [
              0.6666666666666666,
              "#ed7953"
             ],
             [
              0.7777777777777778,
              "#fb9f3a"
             ],
             [
              0.8888888888888888,
              "#fdca26"
             ],
             [
              1,
              "#f0f921"
             ]
            ],
            "type": "histogram2dcontour"
           }
          ],
          "mesh3d": [
           {
            "colorbar": {
             "outlinewidth": 0,
             "ticks": ""
            },
            "type": "mesh3d"
           }
          ],
          "parcoords": [
           {
            "line": {
             "colorbar": {
              "outlinewidth": 0,
              "ticks": ""
             }
            },
            "type": "parcoords"
           }
          ],
          "pie": [
           {
            "automargin": true,
            "type": "pie"
           }
          ],
          "scatter": [
           {
            "fillpattern": {
             "fillmode": "overlay",
             "size": 10,
             "solidity": 0.2
            },
            "type": "scatter"
           }
          ],
          "scatter3d": [
           {
            "line": {
             "colorbar": {
              "outlinewidth": 0,
              "ticks": ""
             }
            },
            "marker": {
             "colorbar": {
              "outlinewidth": 0,
              "ticks": ""
             }
            },
            "type": "scatter3d"
           }
          ],
          "scattercarpet": [
           {
            "marker": {
             "colorbar": {
              "outlinewidth": 0,
              "ticks": ""
             }
            },
            "type": "scattercarpet"
           }
          ],
          "scattergeo": [
           {
            "marker": {
             "colorbar": {
              "outlinewidth": 0,
              "ticks": ""
             }
            },
            "type": "scattergeo"
           }
          ],
          "scattergl": [
           {
            "marker": {
             "colorbar": {
              "outlinewidth": 0,
              "ticks": ""
             }
            },
            "type": "scattergl"
           }
          ],
          "scattermapbox": [
           {
            "marker": {
             "colorbar": {
              "outlinewidth": 0,
              "ticks": ""
             }
            },
            "type": "scattermapbox"
           }
          ],
          "scatterpolar": [
           {
            "marker": {
             "colorbar": {
              "outlinewidth": 0,
              "ticks": ""
             }
            },
            "type": "scatterpolar"
           }
          ],
          "scatterpolargl": [
           {
            "marker": {
             "colorbar": {
              "outlinewidth": 0,
              "ticks": ""
             }
            },
            "type": "scatterpolargl"
           }
          ],
          "scatterternary": [
           {
            "marker": {
             "colorbar": {
              "outlinewidth": 0,
              "ticks": ""
             }
            },
            "type": "scatterternary"
           }
          ],
          "surface": [
           {
            "colorbar": {
             "outlinewidth": 0,
             "ticks": ""
            },
            "colorscale": [
             [
              0,
              "#0d0887"
             ],
             [
              0.1111111111111111,
              "#46039f"
             ],
             [
              0.2222222222222222,
              "#7201a8"
             ],
             [
              0.3333333333333333,
              "#9c179e"
             ],
             [
              0.4444444444444444,
              "#bd3786"
             ],
             [
              0.5555555555555556,
              "#d8576b"
             ],
             [
              0.6666666666666666,
              "#ed7953"
             ],
             [
              0.7777777777777778,
              "#fb9f3a"
             ],
             [
              0.8888888888888888,
              "#fdca26"
             ],
             [
              1,
              "#f0f921"
             ]
            ],
            "type": "surface"
           }
          ],
          "table": [
           {
            "cells": {
             "fill": {
              "color": "#EBF0F8"
             },
             "line": {
              "color": "white"
             }
            },
            "header": {
             "fill": {
              "color": "#C8D4E3"
             },
             "line": {
              "color": "white"
             }
            },
            "type": "table"
           }
          ]
         },
         "layout": {
          "annotationdefaults": {
           "arrowcolor": "#2a3f5f",
           "arrowhead": 0,
           "arrowwidth": 1
          },
          "autotypenumbers": "strict",
          "coloraxis": {
           "colorbar": {
            "outlinewidth": 0,
            "ticks": ""
           }
          },
          "colorscale": {
           "diverging": [
            [
             0,
             "#8e0152"
            ],
            [
             0.1,
             "#c51b7d"
            ],
            [
             0.2,
             "#de77ae"
            ],
            [
             0.3,
             "#f1b6da"
            ],
            [
             0.4,
             "#fde0ef"
            ],
            [
             0.5,
             "#f7f7f7"
            ],
            [
             0.6,
             "#e6f5d0"
            ],
            [
             0.7,
             "#b8e186"
            ],
            [
             0.8,
             "#7fbc41"
            ],
            [
             0.9,
             "#4d9221"
            ],
            [
             1,
             "#276419"
            ]
           ],
           "sequential": [
            [
             0,
             "#0d0887"
            ],
            [
             0.1111111111111111,
             "#46039f"
            ],
            [
             0.2222222222222222,
             "#7201a8"
            ],
            [
             0.3333333333333333,
             "#9c179e"
            ],
            [
             0.4444444444444444,
             "#bd3786"
            ],
            [
             0.5555555555555556,
             "#d8576b"
            ],
            [
             0.6666666666666666,
             "#ed7953"
            ],
            [
             0.7777777777777778,
             "#fb9f3a"
            ],
            [
             0.8888888888888888,
             "#fdca26"
            ],
            [
             1,
             "#f0f921"
            ]
           ],
           "sequentialminus": [
            [
             0,
             "#0d0887"
            ],
            [
             0.1111111111111111,
             "#46039f"
            ],
            [
             0.2222222222222222,
             "#7201a8"
            ],
            [
             0.3333333333333333,
             "#9c179e"
            ],
            [
             0.4444444444444444,
             "#bd3786"
            ],
            [
             0.5555555555555556,
             "#d8576b"
            ],
            [
             0.6666666666666666,
             "#ed7953"
            ],
            [
             0.7777777777777778,
             "#fb9f3a"
            ],
            [
             0.8888888888888888,
             "#fdca26"
            ],
            [
             1,
             "#f0f921"
            ]
           ]
          },
          "colorway": [
           "#636efa",
           "#EF553B",
           "#00cc96",
           "#ab63fa",
           "#FFA15A",
           "#19d3f3",
           "#FF6692",
           "#B6E880",
           "#FF97FF",
           "#FECB52"
          ],
          "font": {
           "color": "#2a3f5f"
          },
          "geo": {
           "bgcolor": "white",
           "lakecolor": "white",
           "landcolor": "#E5ECF6",
           "showlakes": true,
           "showland": true,
           "subunitcolor": "white"
          },
          "hoverlabel": {
           "align": "left"
          },
          "hovermode": "closest",
          "mapbox": {
           "style": "light"
          },
          "paper_bgcolor": "white",
          "plot_bgcolor": "#E5ECF6",
          "polar": {
           "angularaxis": {
            "gridcolor": "white",
            "linecolor": "white",
            "ticks": ""
           },
           "bgcolor": "#E5ECF6",
           "radialaxis": {
            "gridcolor": "white",
            "linecolor": "white",
            "ticks": ""
           }
          },
          "scene": {
           "xaxis": {
            "backgroundcolor": "#E5ECF6",
            "gridcolor": "white",
            "gridwidth": 2,
            "linecolor": "white",
            "showbackground": true,
            "ticks": "",
            "zerolinecolor": "white"
           },
           "yaxis": {
            "backgroundcolor": "#E5ECF6",
            "gridcolor": "white",
            "gridwidth": 2,
            "linecolor": "white",
            "showbackground": true,
            "ticks": "",
            "zerolinecolor": "white"
           },
           "zaxis": {
            "backgroundcolor": "#E5ECF6",
            "gridcolor": "white",
            "gridwidth": 2,
            "linecolor": "white",
            "showbackground": true,
            "ticks": "",
            "zerolinecolor": "white"
           }
          },
          "shapedefaults": {
           "line": {
            "color": "#2a3f5f"
           }
          },
          "ternary": {
           "aaxis": {
            "gridcolor": "white",
            "linecolor": "white",
            "ticks": ""
           },
           "baxis": {
            "gridcolor": "white",
            "linecolor": "white",
            "ticks": ""
           },
           "bgcolor": "#E5ECF6",
           "caxis": {
            "gridcolor": "white",
            "linecolor": "white",
            "ticks": ""
           }
          },
          "title": {
           "x": 0.05
          },
          "xaxis": {
           "automargin": true,
           "gridcolor": "white",
           "linecolor": "white",
           "ticks": "",
           "title": {
            "standoff": 15
           },
           "zerolinecolor": "white",
           "zerolinewidth": 2
          },
          "yaxis": {
           "automargin": true,
           "gridcolor": "white",
           "linecolor": "white",
           "ticks": "",
           "title": {
            "standoff": 15
           },
           "zerolinecolor": "white",
           "zerolinewidth": 2
          }
         }
        },
        "width": 1200,
        "xaxis": {
         "anchor": "y",
         "domain": [
          0,
          0.485
         ],
         "range": [
          0.8,
          1
         ],
         "type": "linear"
        },
        "xaxis2": {
         "anchor": "y2",
         "domain": [
          0.515,
          1
         ],
         "range": [
          0.8,
          1
         ],
         "type": "linear"
        },
        "xaxis3": {
         "anchor": "y3",
         "autorange": true,
         "domain": [
          0,
          0.485
         ],
         "range": [
          3995.269363951157,
          17402.730636048844
         ],
         "type": "linear"
        },
        "xaxis4": {
         "anchor": "y4",
         "autorange": true,
         "domain": [
          0.515,
          1
         ],
         "range": [
          19340.348176497984,
          97451.20737905757
         ],
         "type": "linear"
        },
        "yaxis": {
         "anchor": "x",
         "autorange": true,
         "domain": [
          0.55,
          1
         ],
         "range": [
          -0.03870210639525733,
          0.8960021063952573
         ],
         "type": "linear"
        },
        "yaxis2": {
         "anchor": "x2",
         "autorange": true,
         "domain": [
          0.55,
          1
         ],
         "matches": "y",
         "range": [
          -0.03870210639525733,
          0.8960021063952573
         ],
         "showticklabels": false,
         "type": "linear"
        },
        "yaxis3": {
         "anchor": "x3",
         "autorange": true,
         "domain": [
          0,
          0.45
         ],
         "range": [
          -0.03870210639525733,
          0.8960021063952573
         ],
         "type": "linear"
        },
        "yaxis4": {
         "anchor": "x4",
         "autorange": true,
         "domain": [
          0,
          0.45
         ],
         "matches": "y3",
         "range": [
          -0.03870210639525733,
          0.8960021063952573
         ],
         "showticklabels": false,
         "type": "linear"
        }
       }
      },
      "image/png": "[encoded data removed]",
      "text/html": [
       "<div>                            <div id=\"d284f112-a41b-4c1c-bb36-0b1440f8d872\" class=\"plotly-graph-div\" style=\"height:1000px; width:1200px;\"></div>            <script type=\"text/javascript\">                require([\"plotly\"], function(Plotly) {                    window.PLOTLYENV=window.PLOTLYENV || {};                                    if (document.getElementById(\"d284f112-a41b-4c1c-bb36-0b1440f8d872\")) {                    Plotly.newPlot(                        \"d284f112-a41b-4c1c-bb36-0b1440f8d872\",                        [{\"legendgroup\":\"ES\",\"marker\":{\"color\":[\"red\"],\"size\":12,\"symbol\":[\"square\"]},\"mode\":\"markers\",\"name\":\"ES\",\"orientation\":\"h\",\"showlegend\":false,\"x\":[0.9873333333333333],\"xaxis\":\"x2\",\"y\":[0.7717],\"yaxis\":\"y2\",\"type\":\"scatter\"},{\"legendgroup\":\"A/B\",\"marker\":{\"color\":[\"lime\"],\"size\":12,\"symbol\":[\"circle\"]},\"mode\":\"markers\",\"name\":\"A/B\",\"orientation\":\"h\",\"showlegend\":false,\"x\":[0.8586666666666667],\"xaxis\":\"x2\",\"y\":[0.7724],\"yaxis\":\"y2\",\"type\":\"scatter\"},{\"legendgroup\":\"UES\",\"marker\":{\"color\":[\"yellowgreen\"],\"size\":12,\"symbol\":[\"star\"]},\"mode\":\"markers\",\"name\":\"UES\",\"orientation\":\"h\",\"showlegend\":false,\"x\":[0.96],\"xaxis\":\"x2\",\"y\":[0.749],\"yaxis\":\"y2\",\"type\":\"scatter\"},{\"legendgroup\":\"TSS\",\"marker\":{\"color\":[\"blueviolet\"],\"size\":12,\"symbol\":[\"triangle-up\"]},\"mode\":\"markers\",\"name\":\"TSS\",\"orientation\":\"h\",\"showlegend\":false,\"x\":[0.99],\"xaxis\":\"x2\",\"y\":[0.0838],\"yaxis\":\"y2\",\"type\":\"scatter\"},{\"legendgroup\":\"UCBS\",\"marker\":{\"color\":[\"maroon\"],\"size\":12,\"symbol\":[\"x\"]},\"mode\":\"markers\",\"name\":\"UCBS\",\"orientation\":\"h\",\"showlegend\":false,\"x\":[0.9866666666666667],\"xaxis\":\"x2\",\"y\":[0.029],\"yaxis\":\"y2\",\"type\":\"scatter\"},{\"legendgroup\":\"EGS\",\"marker\":{\"color\":[\"darkgray\"],\"size\":12,\"symbol\":[\"diamond\"]},\"mode\":\"markers\",\"name\":\"EGS\",\"orientation\":\"h\",\"showlegend\":false,\"x\":[0.98],\"xaxis\":\"x2\",\"y\":[0.3194],\"yaxis\":\"y2\",\"type\":\"scatter\"},{\"legendgroup\":\"ES\",\"marker\":{\"color\":[\"red\"],\"size\":12,\"symbol\":[\"square\"]},\"mode\":\"markers\",\"name\":\"ES\",\"orientation\":\"h\",\"showlegend\":true,\"x\":[34146.666666666664],\"xaxis\":\"x4\",\"y\":[0.7717],\"yaxis\":\"y4\",\"type\":\"scatter\"},{\"legendgroup\":\"A/B\",\"marker\":{\"color\":[\"lime\"],\"size\":12,\"symbol\":[\"circle\"]},\"mode\":\"markers\",\"name\":\"A/B\",\"orientation\":\"h\",\"showlegend\":true,\"x\":[92384.22222222222],\"xaxis\":\"x4\",\"y\":[0.7724],\"yaxis\":\"y4\",\"type\":\"scatter\"},{\"legendgroup\":\"UES\",\"marker\":{\"color\":[\"yellowgreen\"],\"size\":12,\"symbol\":[\"star\"]},\"mode\":\"markers\",\"name\":\"UES\",\"orientation\":\"h\",\"showlegend\":true,\"x\":[49328.88888888889],\"xaxis\":\"x4\",\"y\":[0.749],\"yaxis\":\"y4\",\"type\":\"scatter\"},{\"legendgroup\":\"TSS\",\"marker\":{\"color\":[\"blueviolet\"],\"size\":12,\"symbol\":[\"triangle-up\"]},\"mode\":\"markers\",\"name\":\"TSS\",\"orientation\":\"h\",\"showlegend\":true,\"x\":[30160.444444444445],\"xaxis\":\"x4\",\"y\":[0.0838],\"yaxis\":\"y4\",\"type\":\"scatter\"},{\"legendgroup\":\"UCBS\",\"marker\":{\"color\":[\"maroon\"],\"size\":12,\"symbol\":[\"x\"]},\"mode\":\"markers\",\"name\":\"UCBS\",\"orientation\":\"h\",\"showlegend\":true,\"x\":[24407.333333333332],\"xaxis\":\"x4\",\"y\":[0.029],\"yaxis\":\"y4\",\"type\":\"scatter\"},{\"legendgroup\":\"EGS\",\"marker\":{\"color\":[\"darkgray\"],\"size\":12,\"symbol\":[\"diamond\"]},\"mode\":\"markers\",\"name\":\"EGS\",\"orientation\":\"h\",\"showlegend\":true,\"x\":[31597.777777777777],\"xaxis\":\"x4\",\"y\":[0.3194],\"yaxis\":\"y4\",\"type\":\"scatter\"},{\"legendgroup\":\"ES\",\"marker\":{\"color\":[\"red\"],\"size\":12,\"symbol\":[\"square\"]},\"mode\":\"markers\",\"name\":\"ES\",\"orientation\":\"h\",\"showlegend\":false,\"x\":[0.9395454545454546],\"xaxis\":\"x\",\"y\":[0.8283],\"yaxis\":\"y\",\"type\":\"scatter\"},{\"legendgroup\":\"A/B\",\"marker\":{\"color\":[\"lime\"],\"size\":12,\"symbol\":[\"circle\"]},\"mode\":\"markers\",\"name\":\"A/B\",\"orientation\":\"h\",\"showlegend\":false,\"x\":[0.8386363636363636],\"xaxis\":\"x\",\"y\":[0.8017],\"yaxis\":\"y\",\"type\":\"scatter\"},{\"legendgroup\":\"TSS\",\"marker\":{\"color\":[\"blueviolet\"],\"size\":12,\"symbol\":[\"triangle-up\"]},\"mode\":\"markers\",\"name\":\"TSS\",\"orientation\":\"h\",\"showlegend\":false,\"x\":[0.9409090909090908],\"xaxis\":\"x\",\"y\":[0.785],\"yaxis\":\"y\",\"type\":\"scatter\"},{\"legendgroup\":\"UCBS\",\"marker\":{\"color\":[\"maroon\"],\"size\":12,\"symbol\":[\"x\"]},\"mode\":\"markers\",\"name\":\"UCBS\",\"orientation\":\"h\",\"showlegend\":false,\"x\":[0.9409090909090908],\"xaxis\":\"x\",\"y\":[0.8203],\"yaxis\":\"y\",\"type\":\"scatter\"},{\"legendgroup\":\"EGS\",\"marker\":{\"color\":[\"darkgray\"],\"size\":12,\"symbol\":[\"diamond\"]},\"mode\":\"markers\",\"name\":\"EGS\",\"orientation\":\"h\",\"showlegend\":false,\"x\":[0.9413636363636364],\"xaxis\":\"x\",\"y\":[0.7328],\"yaxis\":\"y\",\"type\":\"scatter\"},{\"legendgroup\":\"IG\",\"marker\":{\"color\":[\"darkorange\"],\"size\":12,\"symbol\":[\"cross\"]},\"mode\":\"markers\",\"name\":\"IG\",\"orientation\":\"h\",\"showlegend\":true,\"x\":[0.8522727272727273],\"xaxis\":\"x\",\"y\":[0.8161],\"yaxis\":\"y\",\"type\":\"scatter\"},{\"legendgroup\":\"IRG\",\"marker\":{\"color\":[\"black\"],\"size\":12,\"symbol\":[\"pentagon\"]},\"mode\":\"markers\",\"name\":\"IRG\",\"orientation\":\"h\",\"showlegend\":true,\"x\":[0.8386363636363636],\"xaxis\":\"x\",\"y\":[0.5242],\"yaxis\":\"y\",\"type\":\"scatter\"},{\"legendgroup\":\"ES\",\"marker\":{\"color\":[\"red\"],\"size\":12,\"symbol\":[\"square\"]},\"mode\":\"markers\",\"name\":\"ES\",\"orientation\":\"h\",\"showlegend\":false,\"x\":[4865.0],\"xaxis\":\"x3\",\"y\":[0.8283],\"yaxis\":\"y3\",\"type\":\"scatter\"},{\"legendgroup\":\"A/B\",\"marker\":{\"color\":[\"lime\"],\"size\":12,\"symbol\":[\"circle\"]},\"mode\":\"markers\",\"name\":\"A/B\",\"orientation\":\"h\",\"showlegend\":false,\"x\":[16533.0],\"xaxis\":\"x3\",\"y\":[0.8017],\"yaxis\":\"y3\",\"type\":\"scatter\"},{\"legendgroup\":\"TSS\",\"marker\":{\"color\":[\"blueviolet\"],\"size\":12,\"symbol\":[\"triangle-up\"]},\"mode\":\"markers\",\"name\":\"TSS\",\"orientation\":\"h\",\"showlegend\":false,\"x\":[5657.0],\"xaxis\":\"x3\",\"y\":[0.785],\"yaxis\":\"y3\",\"type\":\"scatter\"},{\"legendgroup\":\"UCBS\",\"marker\":{\"color\":[\"maroon\"],\"size\":12,\"symbol\":[\"x\"]},\"mode\":\"markers\",\"name\":\"UCBS\",\"orientation\":\"h\",\"showlegend\":false,\"x\":[4991.0],\"xaxis\":\"x3\",\"y\":[0.8203],\"yaxis\":\"y3\",\"type\":\"scatter\"},{\"legendgroup\":\"EGS\",\"marker\":{\"color\":[\"darkgray\"],\"size\":12,\"symbol\":[\"diamond\"]},\"mode\":\"markers\",\"name\":\"EGS\",\"orientation\":\"h\",\"showlegend\":false,\"x\":[7121.0],\"xaxis\":\"x3\",\"y\":[0.7328],\"yaxis\":\"y3\",\"type\":\"scatter\"},{\"legendgroup\":\"IG\",\"marker\":{\"color\":[\"darkorange\"],\"size\":12,\"symbol\":[\"cross\"]},\"mode\":\"markers\",\"name\":\"IG\",\"orientation\":\"h\",\"showlegend\":false,\"x\":[16533.0],\"xaxis\":\"x3\",\"y\":[0.8161],\"yaxis\":\"y3\",\"type\":\"scatter\"},{\"legendgroup\":\"IRG\",\"marker\":{\"color\":[\"black\"],\"size\":12,\"symbol\":[\"pentagon\"]},\"mode\":\"markers\",\"name\":\"IRG\",\"orientation\":\"h\",\"showlegend\":false,\"x\":[16533.0],\"xaxis\":\"x3\",\"y\":[0.5242],\"yaxis\":\"y3\",\"type\":\"scatter\"}],                        {\"template\":{\"data\":{\"histogram2dcontour\":[{\"type\":\"histogram2dcontour\",\"colorbar\":{\"outlinewidth\":0,\"ticks\":\"\"},\"colorscale\":[[0.0,\"#0d0887\"],[0.1111111111111111,\"#46039f\"],[0.2222222222222222,\"#7201a8\"],[0.3333333333333333,\"#9c179e\"],[0.4444444444444444,\"#bd3786\"],[0.5555555555555556,\"#d8576b\"],[0.6666666666666666,\"#ed7953\"],[0.7777777777777778,\"#fb9f3a\"],[0.8888888888888888,\"#fdca26\"],[1.0,\"#f0f921\"]]}],\"choropleth\":[{\"type\":\"choropleth\",\"colorbar\":{\"outlinewidth\":0,\"ticks\":\"\"}}],\"histogram2d\":[{\"type\":\"histogram2d\",\"colorbar\":{\"outlinewidth\":0,\"ticks\":\"\"},\"colorscale\":[[0.0,\"#0d0887\"],[0.1111111111111111,\"#46039f\"],[0.2222222222222222,\"#7201a8\"],[0.3333333333333333,\"#9c179e\"],[0.4444444444444444,\"#bd3786\"],[0.5555555555555556,\"#d8576b\"],[0.6666666666666666,\"#ed7953\"],[0.7777777777777778,\"#fb9f3a\"],[0.8888888888888888,\"#fdca26\"],[1.0,\"#f0f921\"]]}],\"heatmap\":[{\"type\":\"heatmap\",\"colorbar\":{\"outlinewidth\":0,\"ticks\":\"\"},\"colorscale\":[[0.0,\"#0d0887\"],[0.1111111111111111,\"#46039f\"],[0.2222222222222222,\"#7201a8\"],[0.3333333333333333,\"#9c179e\"],[0.4444444444444444,\"#bd3786\"],[0.5555555555555556,\"#d8576b\"],[0.6666666666666666,\"#ed7953\"],[0.7777777777777778,\"#fb9f3a\"],[0.8888888888888888,\"#fdca26\"],[1.0,\"#f0f921\"]]}],\"heatmapgl\":[{\"type\":\"heatmapgl\",\"colorbar\":{\"outlinewidth\":0,\"ticks\":\"\"},\"colorscale\":[[0.0,\"#0d0887\"],[0.1111111111111111,\"#46039f\"],[0.2222222222222222,\"#7201a8\"],[0.3333333333333333,\"#9c179e\"],[0.4444444444444444,\"#bd3786\"],[0.5555555555555556,\"#d8576b\"],[0.6666666666666666,\"#ed7953\"],[0.7777777777777778,\"#fb9f3a\"],[0.8888888888888888,\"#fdca26\"],[1.0,\"#f0f921\"]]}],\"contourcarpet\":[{\"type\":\"contourcarpet\",\"colorbar\":{\"outlinewidth\":0,\"ticks\":\"\"}}],\"contour\":[{\"type\":\"contour\",\"colorbar\":{\"outlinewidth\":0,\"ticks\":\"\"},\"colorscale\":[[0.0,\"#0d0887\"],[0.1111111111111111,\"#46039f\"],[0.2222222222222222,\"#7201a8\"],[0.3333333333333333,\"#9c179e\"],[0.4444444444444444,\"#bd3786\"],[0.5555555555555556,\"#d8576b\"],[0.6666666666666666,\"#ed7953\"],[0.7777777777777778,\"#fb9f3a\"],[0.8888888888888888,\"#fdca26\"],[1.0,\"#f0f921\"]]}],\"surface\":[{\"type\":\"surface\",\"colorbar\":{\"outlinewidth\":0,\"ticks\":\"\"},\"colorscale\":[[0.0,\"#0d0887\"],[0.1111111111111111,\"#46039f\"],[0.2222222222222222,\"#7201a8\"],[0.3333333333333333,\"#9c179e\"],[0.4444444444444444,\"#bd3786\"],[0.5555555555555556,\"#d8576b\"],[0.6666666666666666,\"#ed7953\"],[0.7777777777777778,\"#fb9f3a\"],[0.8888888888888888,\"#fdca26\"],[1.0,\"#f0f921\"]]}],\"mesh3d\":[{\"type\":\"mesh3d\",\"colorbar\":{\"outlinewidth\":0,\"ticks\":\"\"}}],\"scatter\":[{\"fillpattern\":{\"fillmode\":\"overlay\",\"size\":10,\"solidity\":0.2},\"type\":\"scatter\"}],\"parcoords\":[{\"type\":\"parcoords\",\"line\":{\"colorbar\":{\"outlinewidth\":0,\"ticks\":\"\"}}}],\"scatterpolargl\":[{\"type\":\"scatterpolargl\",\"marker\":{\"colorbar\":{\"outlinewidth\":0,\"ticks\":\"\"}}}],\"bar\":[{\"error_x\":{\"color\":\"#2a3f5f\"},\"error_y\":{\"color\":\"#2a3f5f\"},\"marker\":{\"line\":{\"color\":\"#E5ECF6\",\"width\":0.5},\"pattern\":{\"fillmode\":\"overlay\",\"size\":10,\"solidity\":0.2}},\"type\":\"bar\"}],\"scattergeo\":[{\"type\":\"scattergeo\",\"marker\":{\"colorbar\":{\"outlinewidth\":0,\"ticks\":\"\"}}}],\"scatterpolar\":[{\"type\":\"scatterpolar\",\"marker\":{\"colorbar\":{\"outlinewidth\":0,\"ticks\":\"\"}}}],\"histogram\":[{\"marker\":{\"pattern\":{\"fillmode\":\"overlay\",\"size\":10,\"solidity\":0.2}},\"type\":\"histogram\"}],\"scattergl\":[{\"type\":\"scattergl\",\"marker\":{\"colorbar\":{\"outlinewidth\":0,\"ticks\":\"\"}}}],\"scatter3d\":[{\"type\":\"scatter3d\",\"line\":{\"colorbar\":{\"outlinewidth\":0,\"ticks\":\"\"}},\"marker\":{\"colorbar\":{\"outlinewidth\":0,\"ticks\":\"\"}}}],\"scattermapbox\":[{\"type\":\"scattermapbox\",\"marker\":{\"colorbar\":{\"outlinewidth\":0,\"ticks\":\"\"}}}],\"scatterternary\":[{\"type\":\"scatterternary\",\"marker\":{\"colorbar\":{\"outlinewidth\":0,\"ticks\":\"\"}}}],\"scattercarpet\":[{\"type\":\"scattercarpet\",\"marker\":{\"colorbar\":{\"outlinewidth\":0,\"ticks\":\"\"}}}],\"carpet\":[{\"aaxis\":{\"endlinecolor\":\"#2a3f5f\",\"gridcolor\":\"white\",\"linecolor\":\"white\",\"minorgridcolor\":\"white\",\"startlinecolor\":\"#2a3f5f\"},\"baxis\":{\"endlinecolor\":\"#2a3f5f\",\"gridcolor\":\"white\",\"linecolor\":\"white\",\"minorgridcolor\":\"white\",\"startlinecolor\":\"#2a3f5f\"},\"type\":\"carpet\"}],\"table\":[{\"cells\":{\"fill\":{\"color\":\"#EBF0F8\"},\"line\":{\"color\":\"white\"}},\"header\":{\"fill\":{\"color\":\"#C8D4E3\"},\"line\":{\"color\":\"white\"}},\"type\":\"table\"}],\"barpolar\":[{\"marker\":{\"line\":{\"color\":\"#E5ECF6\",\"width\":0.5},\"pattern\":{\"fillmode\":\"overlay\",\"size\":10,\"solidity\":0.2}},\"type\":\"barpolar\"}],\"pie\":[{\"automargin\":true,\"type\":\"pie\"}]},\"layout\":{\"autotypenumbers\":\"strict\",\"colorway\":[\"#636efa\",\"#EF553B\",\"#00cc96\",\"#ab63fa\",\"#FFA15A\",\"#19d3f3\",\"#FF6692\",\"#B6E880\",\"#FF97FF\",\"#FECB52\"],\"font\":{\"color\":\"#2a3f5f\"},\"hovermode\":\"closest\",\"hoverlabel\":{\"align\":\"left\"},\"paper_bgcolor\":\"white\",\"plot_bgcolor\":\"#E5ECF6\",\"polar\":{\"bgcolor\":\"#E5ECF6\",\"angularaxis\":{\"gridcolor\":\"white\",\"linecolor\":\"white\",\"ticks\":\"\"},\"radialaxis\":{\"gridcolor\":\"white\",\"linecolor\":\"white\",\"ticks\":\"\"}},\"ternary\":{\"bgcolor\":\"#E5ECF6\",\"aaxis\":{\"gridcolor\":\"white\",\"linecolor\":\"white\",\"ticks\":\"\"},\"baxis\":{\"gridcolor\":\"white\",\"linecolor\":\"white\",\"ticks\":\"\"},\"caxis\":{\"gridcolor\":\"white\",\"linecolor\":\"white\",\"ticks\":\"\"}},\"coloraxis\":{\"colorbar\":{\"outlinewidth\":0,\"ticks\":\"\"}},\"colorscale\":{\"sequential\":[[0.0,\"#0d0887\"],[0.1111111111111111,\"#46039f\"],[0.2222222222222222,\"#7201a8\"],[0.3333333333333333,\"#9c179e\"],[0.4444444444444444,\"#bd3786\"],[0.5555555555555556,\"#d8576b\"],[0.6666666666666666,\"#ed7953\"],[0.7777777777777778,\"#fb9f3a\"],[0.8888888888888888,\"#fdca26\"],[1.0,\"#f0f921\"]],\"sequentialminus\":[[0.0,\"#0d0887\"],[0.1111111111111111,\"#46039f\"],[0.2222222222222222,\"#7201a8\"],[0.3333333333333333,\"#9c179e\"],[0.4444444444444444,\"#bd3786\"],[0.5555555555555556,\"#d8576b\"],[0.6666666666666666,\"#ed7953\"],[0.7777777777777778,\"#fb9f3a\"],[0.8888888888888888,\"#fdca26\"],[1.0,\"#f0f921\"]],\"diverging\":[[0,\"#8e0152\"],[0.1,\"#c51b7d\"],[0.2,\"#de77ae\"],[0.3,\"#f1b6da\"],[0.4,\"#fde0ef\"],[0.5,\"#f7f7f7\"],[0.6,\"#e6f5d0\"],[0.7,\"#b8e186\"],[0.8,\"#7fbc41\"],[0.9,\"#4d9221\"],[1,\"#276419\"]]},\"xaxis\":{\"gridcolor\":\"white\",\"linecolor\":\"white\",\"ticks\":\"\",\"title\":{\"standoff\":15},\"zerolinecolor\":\"white\",\"automargin\":true,\"zerolinewidth\":2},\"yaxis\":{\"gridcolor\":\"white\",\"linecolor\":\"white\",\"ticks\":\"\",\"title\":{\"standoff\":15},\"zerolinecolor\":\"white\",\"automargin\":true,\"zerolinewidth\":2},\"scene\":{\"xaxis\":{\"backgroundcolor\":\"#E5ECF6\",\"gridcolor\":\"white\",\"linecolor\":\"white\",\"showbackground\":true,\"ticks\":\"\",\"zerolinecolor\":\"white\",\"gridwidth\":2},\"yaxis\":{\"backgroundcolor\":\"#E5ECF6\",\"gridcolor\":\"white\",\"linecolor\":\"white\",\"showbackground\":true,\"ticks\":\"\",\"zerolinecolor\":\"white\",\"gridwidth\":2},\"zaxis\":{\"backgroundcolor\":\"#E5ECF6\",\"gridcolor\":\"white\",\"linecolor\":\"white\",\"showbackground\":true,\"ticks\":\"\",\"zerolinecolor\":\"white\",\"gridwidth\":2}},\"shapedefaults\":{\"line\":{\"color\":\"#2a3f5f\"}},\"annotationdefaults\":{\"arrowcolor\":\"#2a3f5f\",\"arrowhead\":0,\"arrowwidth\":1},\"geo\":{\"bgcolor\":\"white\",\"landcolor\":\"#E5ECF6\",\"subunitcolor\":\"white\",\"showland\":true,\"showlakes\":true,\"lakecolor\":\"white\"},\"title\":{\"x\":0.05},\"mapbox\":{\"style\":\"light\"}}},\"xaxis\":{\"anchor\":\"y\",\"domain\":[0.0,0.485],\"range\":[0.8,1.0]},\"yaxis\":{\"anchor\":\"x\",\"domain\":[0.55,1.0]},\"xaxis2\":{\"anchor\":\"y2\",\"domain\":[0.515,1.0],\"range\":[0.8,1.0]},\"yaxis2\":{\"anchor\":\"x2\",\"domain\":[0.55,1.0],\"matches\":\"y\",\"showticklabels\":false},\"xaxis3\":{\"anchor\":\"y3\",\"domain\":[0.0,0.485]},\"yaxis3\":{\"anchor\":\"x3\",\"domain\":[0.0,0.45]},\"xaxis4\":{\"anchor\":\"y4\",\"domain\":[0.515,1.0]},\"yaxis4\":{\"anchor\":\"x4\",\"domain\":[0.0,0.45],\"matches\":\"y3\",\"showticklabels\":false},\"annotations\":[{\"font\":{\"size\":20},\"showarrow\":false,\"text\":\"(a) Bernoulli reward type\",\"x\":0.2425,\"xanchor\":\"center\",\"xref\":\"paper\",\"y\":1.0,\"yanchor\":\"bottom\",\"yref\":\"paper\"},{\"font\":{\"size\":20},\"showarrow\":false,\"text\":\"(b) Continuous reward type\",\"x\":0.7575000000000001,\"xanchor\":\"center\",\"xref\":\"paper\",\"y\":1.0,\"yanchor\":\"bottom\",\"yref\":\"paper\"},{\"font\":{\"size\":20},\"showarrow\":false,\"text\":\"Power\",\"textangle\":-90,\"x\":0,\"xanchor\":\"right\",\"xref\":\"paper\",\"xshift\":-40,\"y\":0.5,\"yanchor\":\"middle\",\"yref\":\"paper\"},{\"font\":{\"size\":19},\"showarrow\":false,\"text\":\"Normalized averaged rewards\",\"x\":0.35,\"xanchor\":\"left\",\"xref\":\"paper\",\"y\":0.5,\"yref\":\"paper\"},{\"font\":{\"size\":19},\"showarrow\":false,\"text\":\"Averaged sample size per arm\",\"x\":0.35,\"xanchor\":\"left\",\"xref\":\"paper\",\"y\":-0.1,\"yref\":\"paper\"}],\"shapes\":[{\"type\":\"line\",\"x0\":0,\"x1\":1,\"xref\":\"x domain\",\"y0\":0.8,\"y1\":0.8,\"yref\":\"y\"},{\"type\":\"line\",\"x0\":0,\"x1\":1,\"xref\":\"x2 domain\",\"y0\":0.8,\"y1\":0.8,\"yref\":\"y2\"},{\"type\":\"line\",\"x0\":0,\"x1\":1,\"xref\":\"x3 domain\",\"y0\":0.8,\"y1\":0.8,\"yref\":\"y3\"},{\"type\":\"line\",\"x0\":0,\"x1\":1,\"xref\":\"x4 domain\",\"y0\":0.8,\"y1\":0.8,\"yref\":\"y4\"}],\"legend\":{\"orientation\":\"h\",\"x\":0.25,\"y\":-0.15},\"font\":{\"size\":16},\"height\":1000,\"width\":1200,\"plot_bgcolor\":\"rgb(242,242,242)\"},                        {\"responsive\": true}                    ).then(function(){\n",
       "                            \n",
       "var gd = document.getElementById('d284f112-a41b-4c1c-bb36-0b1440f8d872');\n",
       "var x = new MutationObserver(function (mutations, observer) {{\n",
       "        var display = window.getComputedStyle(gd).display;\n",
       "        if (!display || display === 'none') {{\n",
       "            console.log([gd, 'removed!']);\n",
       "            Plotly.purge(gd);\n",
       "            observer.disconnect();\n",
       "        }}\n",
       "}});\n",
       "\n",
       "// Listen for the removal of the full notebook cells\n",
       "var notebookContainer = gd.closest('#notebook-container');\n",
       "if (notebookContainer) {{\n",
       "    x.observe(notebookContainer, {childList: true});\n",
       "}}\n",
       "\n",
       "// Listen for the clearing of the current output cell\n",
       "var outputEl = gd.closest('.output');\n",
       "if (outputEl) {{\n",
       "    x.observe(outputEl, {childList: true});\n",
       "}}\n",
       "\n",
       "                        })                };                });            </script>        </div>"
      ]
     },
     "metadata": {},
     "output_type": "display_data"
    }
   ],
   "source": [
    "fig = make_subplots(\n",
    "    rows=2, cols=2,\n",
    "    y_title=\"Power\",\n",
    "    column_titles=[\"(a) Bernoulli reward type\", \"(b) Continuous reward type\"],\n",
    "    shared_yaxes=True,\n",
    "    horizontal_spacing=0.03,\n",
    "    vertical_spacing=0.1,\n",
    ")\n",
    "\n",
    "legends = [\"ES\", \"A/B\", \"UES\", \"TSS\", \"UCBS\", \"EGS\"]\n",
    "powers = np.array([0.7717, 0.7724, 0.749, 0.0838, 0.029, 0.3194])\n",
    "total_samples = np.array([153660, 415729, 221980, 135722, 109833, 142190])\n",
    "samples_per_arm = total_samples / 4.5\n",
    "rewards = np.array([1481, 1288, 1440, 1485, 1480, 1470])\n",
    "max_reward = 1500\n",
    "data = {\"legends\": legends, \"powers\": powers, \"samples\": samples_per_arm, \"rewards\": rewards}\n",
    "df = pd.DataFrame(data=data)\n",
    "df[\"max_reward\"] = max_reward\n",
    "df[\"normalized_rewards\"] = df[\"rewards\"] / df[\"max_reward\"]\n",
    "\n",
    "scatters1, rows1, cols1 = list(), list(), list()\n",
    "for i, row in df.iterrows():\n",
    "    scatters1.append(\n",
    "        go.Scatter(\n",
    "            x=[row[\"normalized_rewards\"]],\n",
    "            y=[row[\"powers\"]],\n",
    "            legendgroup=row[\"legends\"],\n",
    "            mode=\"markers\",\n",
    "            marker=go.scatter.Marker(\n",
    "                color=[my_l2c[row[\"legends\"]]],\n",
    "                symbol=[my_l2s[row[\"legends\"]]],\n",
    "                size=12,\n",
    "            ), \n",
    "            name=row[\"legends\"],\n",
    "            orientation='h',\n",
    "            showlegend=False,\n",
    "            xaxis='x',\n",
    "            yaxis='y',\n",
    "        )\n",
    "    )\n",
    "    rows1.append(1)\n",
    "    cols1.append(2)\n",
    "fig.add_traces(\n",
    "    scatters1, rows=rows1, cols=cols1\n",
    ")\n",
    "\n",
    "scatters2, rows2, cols2 = list(), list(), list()\n",
    "for i, row in df.iterrows():\n",
    "    scatters2.append(\n",
    "        go.Scatter(\n",
    "            x=[row[\"samples\"]],\n",
    "            y=[row[\"powers\"]],\n",
    "            legendgroup=row[\"legends\"],\n",
    "            mode=\"markers\",\n",
    "            marker=go.scatter.Marker(\n",
    "                color=[my_l2c[row[\"legends\"]]],\n",
    "                symbol=[my_l2s[row[\"legends\"]]],\n",
    "                size=12,\n",
    "            ), \n",
    "            name=row[\"legends\"],\n",
    "            orientation='h',\n",
    "            showlegend=True,\n",
    "            xaxis='x',\n",
    "            yaxis='y',\n",
    "        )\n",
    "    )\n",
    "    rows2.append(2)\n",
    "    cols2.append(2)\n",
    "fig.add_traces(\n",
    "    scatters2, rows=rows2, cols=cols2\n",
    ")\n",
    "\n",
    "legends = [\"ES\", \"A/B\", \"TSS\", \"UCBS\", \"EGS\", \"IG\", \"IRG\"]\n",
    "powers = np.array([0.8283, 0.8017, 0.785, 0.8203, 0.7328, 0.8161, 0.5242])\n",
    "total_samples = np.array([9730, 33066, 11314, 9982, 14242, 33066, 33066])\n",
    "samples_per_arm = total_samples/2\n",
    "rewards = np.array([0.2067, 0.1845, 0.207, 0.207, 0.2071, 0.1875, 0.1845])\n",
    "max_reward = 0.22\n",
    "data = {\"legends\": legends, \"powers\": powers, \"samples\": samples_per_arm, \"rewards\": rewards}\n",
    "df = pd.DataFrame(data=data)\n",
    "df[\"max_reward\"] = max_reward\n",
    "df[\"normalized_rewards\"] = df[\"rewards\"] / df[\"max_reward\"]\n",
    "\n",
    "scatters1, rows1, cols1 = list(), list(), list()\n",
    "for i, row in df.iterrows():\n",
    "    scatters1.append(\n",
    "        go.Scatter(\n",
    "            x=[row[\"normalized_rewards\"]],\n",
    "            y=[row[\"powers\"]],\n",
    "            legendgroup=row[\"legends\"],\n",
    "            mode=\"markers\",\n",
    "            marker=go.scatter.Marker(\n",
    "                color=[my_l2c[row[\"legends\"]]],\n",
    "                symbol=[my_l2s[row[\"legends\"]]],\n",
    "                size=12,\n",
    "            ), \n",
    "            name=row[\"legends\"],\n",
    "            orientation='h',\n",
    "            # showlegend=True,\n",
    "            showlegend=True if i in [5, 6] else False,\n",
    "            xaxis='x',\n",
    "            yaxis='y',\n",
    "        )\n",
    "    )\n",
    "    rows1.append(1)\n",
    "    cols1.append(1)\n",
    "fig.add_traces(\n",
    "    scatters1, rows=rows1, cols=cols1\n",
    ")\n",
    "\n",
    "scatters2, rows2, cols2 = list(), list(), list()\n",
    "for i, row in df.iterrows():\n",
    "    scatters2.append(\n",
    "        go.Scatter(\n",
    "            x=[row[\"samples\"]],\n",
    "            y=[row[\"powers\"]],\n",
    "            legendgroup=row[\"legends\"],\n",
    "            mode=\"markers\",\n",
    "            marker=go.scatter.Marker(\n",
    "                color=[my_l2c[row[\"legends\"]]],\n",
    "                symbol=[my_l2s[row[\"legends\"]]],\n",
    "                size=12,\n",
    "            ), \n",
    "            name=row[\"legends\"],\n",
    "            orientation='h',\n",
    "            showlegend=False,\n",
    "            xaxis='x',\n",
    "            yaxis='y',\n",
    "        )\n",
    "    )\n",
    "    rows2.append(2)\n",
    "    cols2.append(1)\n",
    "fig.add_traces(\n",
    "    scatters2, rows=rows2, cols=cols2\n",
    ")\n",
    "\n",
    "\n",
    "\n",
    "fig.add_hline(0.8)\n",
    "fig.update_layout(\n",
    "    legend=dict(\n",
    "        orientation='h',\n",
    "        x=0.25,\n",
    "        y=-0.15,\n",
    "        # title='Test Design',\n",
    "    ),\n",
    "    height=1000,\n",
    "    width=1200,\n",
    "    # paper_bgcolor='rgba(0,0,0,0)',\n",
    "    # plot_bgcolor='Beige',\n",
    "    plot_bgcolor='rgb(242,242,242)',\n",
    "    font_size=16,\n",
    ")\n",
    "# fig.update_xaxes(title_text=\"Normalized averaged rewards\", row=1, col=1)\n",
    "# fig.update_xaxes(title_text=\"Averaged sample size per arm\", row=1, col=2)\n",
    "# fig.for_each_annotation(lambda a: a.update(text=f'<b>{a.text}</b>'))\n",
    "fig.update_annotations(font=dict(size=20))\n",
    "fig.add_annotation(dict(\n",
    "    font=dict(size=19),\n",
    "    x=0.35,\n",
    "    y=0.5,\n",
    "    showarrow=False,\n",
    "    text=\"Normalized averaged rewards\",\n",
    "    xanchor=\"left\",\n",
    "    xref=\"paper\",\n",
    "    yref=\"paper\",\n",
    "))\n",
    "fig.add_annotation(dict(\n",
    "    font=dict(size=19),\n",
    "    x=0.35,\n",
    "    y=-0.1,\n",
    "    showarrow=False,\n",
    "    text=\"Averaged sample size per arm\",\n",
    "    xanchor=\"left\",\n",
    "    xref=\"paper\",\n",
    "    yref=\"paper\",\n",
    "))\n",
    "fig.update_xaxes(range=[0.8, 1.0], row=1, col=1)\n",
    "fig.update_xaxes(range=[0.8, 1.0], row=1, col=2)\n",
    "\n",
    "# fig.update_annotations(font=dict(family=\"Helvetica\", size=12))\n",
    "fig.show()\n",
    "plotly.io.write_image(fig, 'real_bernoulli_normal.pdf', format='pdf')"
   ]
  },
  {
   "cell_type": "markdown",
   "id": "f0a25e11-8131-450f-9bc2-e8640ca94cac",
   "metadata": {
    "tags": []
   },
   "source": [
    "# Real Data 2 (deprecated)"
   ]
  },
  {
   "cell_type": "code",
   "execution_count": 31,
   "id": "93bda242-c18e-45d7-9589-2a73633033a7",
   "metadata": {},
   "outputs": [],
   "source": [
    "def rd_return_fig(legends, powers, samples, rewards, max_rewards):\n",
    "    data = {\"legends\": legends, \"powers\": powers, \"samples\": samples, \"rewards\": rewards}\n",
    "    df = pd.DataFrame(data=data)\n",
    "    df[\"max_reward\"] = max_reward\n",
    "    df[\"normalized_rewards\"] = df[\"rewards\"] / df[\"max_reward\"]\n",
    "    \n",
    "    fig = make_subplots(\n",
    "        rows=1, cols=2,\n",
    "        y_title=\"Power\",\n",
    "        column_titles=[\"(a) Trade-off between Power and Rewards\", \"(b) Trade-off between Power and Sample Size\"],\n",
    "        shared_yaxes=True,\n",
    "        horizontal_spacing=0.03,\n",
    "        vertical_spacing=0.1,\n",
    "    )\n",
    "\n",
    "    scatters1, rows1, cols1 = list(), list(), list()\n",
    "    for i, row in df.iterrows():\n",
    "        scatters1.append(\n",
    "            go.Scatter(\n",
    "                x=[row[\"normalized_rewards\"]],\n",
    "                y=[row[\"powers\"]],\n",
    "                legendgroup=row[\"legends\"],\n",
    "                mode=\"markers\",\n",
    "                marker=go.scatter.Marker(\n",
    "                    color=[my_l2c[row[\"legends\"]]],\n",
    "                    symbol=[my_l2s[row[\"legends\"]]],\n",
    "                    size=12,\n",
    "                ), \n",
    "                name=row[\"legends\"],\n",
    "                orientation='h',\n",
    "                showlegend=True,\n",
    "                xaxis='x',\n",
    "                yaxis='y',\n",
    "            )\n",
    "        )\n",
    "        rows1.append(1)\n",
    "        cols1.append(1)\n",
    "    fig.add_traces(\n",
    "        scatters1, rows=rows1, cols=cols1\n",
    "    )\n",
    "    \n",
    "    scatters2, rows2, cols2 = list(), list(), list()\n",
    "    for i, row in df.iterrows():\n",
    "        scatters2.append(\n",
    "            go.Scatter(\n",
    "                x=[row[\"samples\"]],\n",
    "                y=[row[\"powers\"]],\n",
    "                legendgroup=row[\"legends\"],\n",
    "                mode=\"markers\",\n",
    "                marker=go.scatter.Marker(\n",
    "                    color=[my_l2c[row[\"legends\"]]],\n",
    "                    symbol=[my_l2s[row[\"legends\"]]],\n",
    "                    size=12,\n",
    "                ), \n",
    "                name=row[\"legends\"],\n",
    "                orientation='h',\n",
    "                showlegend=False,\n",
    "                xaxis='x',\n",
    "                yaxis='y',\n",
    "            )\n",
    "        )\n",
    "        rows2.append(1)\n",
    "        cols2.append(2)\n",
    "    fig.add_traces(\n",
    "        scatters2, rows=rows2, cols=cols2\n",
    "    )\n",
    "    \n",
    "    fig.add_hline(0.8)\n",
    "    fig.update_layout(\n",
    "        legend=dict(\n",
    "            orientation='h',\n",
    "            x=0.25,\n",
    "            y=-0.15,\n",
    "            # title='Test Design',\n",
    "        ),\n",
    "        height=600,\n",
    "        width=1200,\n",
    "        # paper_bgcolor='rgba(0,0,0,0)',\n",
    "        # plot_bgcolor='Beige',\n",
    "        plot_bgcolor='rgb(242,242,242)',\n",
    "        font_size=16,\n",
    "    )\n",
    "    fig.update_xaxes(title_text=\"Normalized averaged rewards\", row=1, col=1)\n",
    "    fig.update_xaxes(title_text=\"Averaged sample size per arm\", row=1, col=2)\n",
    "    # fig.for_each_annotation(lambda a: a.update(text=f'<b>{a.text}</b>'))\n",
    "    fig.update_annotations(font=dict(size=20))\n",
    "    # fig.update_annotations(font=dict(family=\"Helvetica\", size=12))\n",
    "    return fig"
   ]
  },
  {
   "cell_type": "code",
   "execution_count": null,
   "id": "afd6ebf1-b3b6-4e7f-95e3-2ff1a8b3a730",
   "metadata": {},
   "outputs": [],
   "source": [
    "legends = [\"ES\", \"A/B\", \"TSS\", \"UCBS\", \"EGS\", \"IG\", \"IRG\"]\n",
    "powers = np.array([0.8283, 0.8017, 0.785, 0.8203, 0.7328, 0.8161, 0.5242])\n",
    "total_samples = np.array([9730, 33066, 11314, 9982, 14242, 33066, 33066])\n",
    "samples_per_arm = total_samples/2\n",
    "rewards = np.array([0.2067, 0.1845, 0.207, 0.207, 0.2071, 0.1875, 0.1845])\n",
    "max_reward = 0.22\n",
    "fig = rd_return_fig(legends, powers, samples_per_arm, rewards, max_reward)\n",
    "fig.show()\n",
    "plotly.io.write_image(fig, 'real_bernoulli.pdf', format='pdf')"
   ]
  },
  {
   "cell_type": "code",
   "execution_count": null,
   "id": "c11e6426-9884-41c9-969a-b2bbeab02fde",
   "metadata": {},
   "outputs": [],
   "source": [
    "legends = [\"ES\", \"A/B\", \"UES\", \"TSS\", \"UCBS\", \"EGS\"]\n",
    "powers = np.array([0.7717, 0.7724, 0.749, 0.0838, 0.029, 0.3194])\n",
    "total_samples = np.array([153660, 415729, 221980, 135722, 109833, 142190])\n",
    "samples_per_arm = total_samples / 4.5\n",
    "rewards = np.array([1481, 1288, 1440, 1485, 1480, 1470])\n",
    "max_reward = 1500\n",
    "fig = rd_return_fig(legends, powers, samples_per_arm, rewards, max_reward)\n",
    "fig.show()\n",
    "plotly.io.write_image(fig, 'real_normal.pdf', format='pdf')"
   ]
  },
  {
   "cell_type": "code",
   "execution_count": null,
   "id": "df26b51f-a104-4612-aba1-b75d6a9c1adf",
   "metadata": {},
   "outputs": [],
   "source": [
    "my_colors = ['lime', 'red', 'blueviolet', 'maroon', 'darkgray', 'darkorange', 'black']\n",
    "my_symbols = ['square', 'circle', 'triangle-up', 'x', 'diamond', 'cross', 'pentagon']\n",
    "\n",
    "fig = make_subplots(\n",
    "    rows=1, cols=2,\n",
    "    y_title=\"Power\",\n",
    "    column_titles=[\"Trade-off between Power and Rewards\", \"Trade-off between Power and Sample Size\"],\n",
    "    shared_yaxes=True,\n",
    "    horizontal_spacing=0.03,\n",
    "    vertical_spacing=0.1\n",
    ")\n",
    "\n",
    "fig.add_trace(\n",
    "    go.Scatter(\n",
    "        x=df[\"normalized_rewards\"], \n",
    "        y=df[\"powers\"], \n",
    "        mode=\"markers\",\n",
    "        marker=go.scatter.Marker(\n",
    "            color=my_colors[0:len(df[\"powers\"])],\n",
    "            symbol=my_symbols[0:len(df[\"powers\"])],\n",
    "            size=10,\n",
    "        ),\n",
    "        showlegend=True,\n",
    "        legendgroup=\"g1\",\n",
    "        name=\"111\",\n",
    "    ),\n",
    "    row=1, col=1,\n",
    ")\n",
    "fig.add_trace(\n",
    "    go.Scatter(\n",
    "        x=df[\"samples\"], \n",
    "        y=df[\"powers\"], \n",
    "        mode=\"markers\",\n",
    "        marker=go.scatter.Marker(\n",
    "            color=my_colors[0:len(df[\"powers\"])],\n",
    "            symbol=my_symbols[0:len(df[\"powers\"])],\n",
    "            size=10,\n",
    "        ),\n",
    "        showlegend=False,\n",
    "        legendgroup=\"g1\",\n",
    "        name=\"222\",\n",
    "    ),\n",
    "    row=1,col=2,\n",
    ")\n",
    "fig.add_hline(0.8)\n",
    "fig.update_layout(\n",
    "    legend_orientation=\"h\",\n",
    "    height=600,\n",
    "    width=1200,\n",
    "    showlegend=False,\n",
    ")\n",
    "fig.update_xaxes(title_text=\"Normalized Rewards\", row=1, col=1)\n",
    "fig.update_xaxes(title_text=\"Sample Size\", row=1, col=2)\n",
    "fig.show()"
   ]
  },
  {
   "cell_type": "code",
   "execution_count": null,
   "id": "49923993-a9d6-4942-b591-e2cc7f89e470",
   "metadata": {},
   "outputs": [],
   "source": [
    "fig1 = px.scatter(\n",
    "    df, \n",
    "    x=\"normalized_rewards\", \n",
    "    y=\"powers\", \n",
    "    range_x=[0.7, 1],\n",
    "    color=\"legends\", \n",
    "    symbol=\"legends\",\n",
    "    symbol_sequence=['square', 'circle', 'triangle-up', 'x', 'diamond', 'cross', 'pentagon'],\n",
    "    labels={\"normalized_rewards\": \"Normalized Rewards\", \"powers\": \"Power\", \"legends\": \"Test Design\"},\n",
    "    title=\"Trade-off between Power and Rewards\",\n",
    "    width=800,height=800,\n",
    ")\n",
    "fig1.add_hline(y=0.8)\n",
    "fig1.update_layout(legend_orientation=\"h\")\n",
    "fig1.update_traces(marker=dict(size=12))\n",
    "fig1.show()"
   ]
  },
  {
   "cell_type": "code",
   "execution_count": null,
   "id": "7b19660b-1469-48a7-9bf1-17ece0a9a3c1",
   "metadata": {},
   "outputs": [],
   "source": [
    "fig2 = px.scatter(\n",
    "    df, \n",
    "    x=\"samples\", \n",
    "    y=\"powers\", \n",
    "    color=\"legends\", \n",
    "    symbol=\"legends\",\n",
    "    symbol_sequence=['square', 'circle', 'triangle-up', 'x', 'diamond', 'cross', 'pentagon'],\n",
    "    labels={\"samples\": \"Sample Size\", \"powers\": \"Power\", \"legends\": \"Test Design\"},\n",
    "    title=\"Trade-off between Power and Sample Size\",\n",
    "    width=800,height=800,\n",
    ")\n",
    "fig2.add_hline(y=0.8)\n",
    "fig2.update_layout(legend_orientation=\"h\")\n",
    "fig2.update_traces(marker=dict(size=12))\n",
    "fig2.show()"
   ]
  },
  {
   "cell_type": "code",
   "execution_count": null,
   "id": "2a8f4bcd-f698-4af2-b4fe-226f846fc695",
   "metadata": {},
   "outputs": [],
   "source": [
    "fig2.data"
   ]
  },
  {
   "cell_type": "code",
   "execution_count": null,
   "id": "57ed3d1c-b75d-4063-973e-8108b03f0630",
   "metadata": {},
   "outputs": [],
   "source": []
  },
  {
   "cell_type": "code",
   "execution_count": null,
   "id": "4ddb4125-7193-4345-b40b-19088ec007cb",
   "metadata": {},
   "outputs": [],
   "source": []
  },
  {
   "cell_type": "code",
   "execution_count": null,
   "id": "89685e81-ebf8-41e0-a637-225129644374",
   "metadata": {},
   "outputs": [],
   "source": [
    "my_colors = ['lime', 'red', 'blueviolet', 'maroon', 'darkgray', 'darkorange', 'black']\n",
    "my_symbols = ['square', 'circle', 'triangle-up', 'x', 'diamond', 'cross', 'pentagon']\n",
    "\n",
    "fig = make_subplots(\n",
    "    rows=1, cols=2,\n",
    "    y_title=\"Power\",\n",
    "    column_titles=[\"Trade-off between Power and Rewards\", \"Trade-off between Power and Sample Size\"],\n",
    "    shared_yaxes=True,\n",
    "    horizontal_spacing=0.03,\n",
    "    vertical_spacing=0.1\n",
    ")\n",
    "\n",
    "fig.add_trace(\n",
    "    go.Scatter(\n",
    "        x=df[\"normalized_rewards\"], \n",
    "        y=df[\"powers\"], \n",
    "        mode=\"markers\",\n",
    "        marker=go.scatter.Marker(\n",
    "            color=my_colors[0:len(df[\"powers\"])],\n",
    "            symbol=my_symbols[0:len(df[\"powers\"])],\n",
    "            size=10,\n",
    "        ),\n",
    "        showlegend=True,\n",
    "        legendgroup=\"g1\",\n",
    "        name=\"111\",\n",
    "    ),\n",
    "    row=1, col=1,\n",
    ")\n",
    "fig.add_trace(\n",
    "    go.Scatter(\n",
    "        x=df[\"samples\"], \n",
    "        y=df[\"powers\"], \n",
    "        mode=\"markers\",\n",
    "        marker=go.scatter.Marker(\n",
    "            color=my_colors[0:len(df[\"powers\"])],\n",
    "            symbol=my_symbols[0:len(df[\"powers\"])],\n",
    "            size=10,\n",
    "        ),\n",
    "        showlegend=False,\n",
    "        legendgroup=\"g1\",\n",
    "        name=\"222\",\n",
    "    ),\n",
    "    row=1,col=2,\n",
    ")\n",
    "fig.add_hline(0.8)\n",
    "fig.update_layout(\n",
    "    legend_orientation=\"h\",\n",
    "    height=600,\n",
    "    width=1200,\n",
    "    showlegend=False,\n",
    ")\n",
    "fig.update_xaxes(title_text=\"Normalized Rewards\", row=1, col=1)\n",
    "fig.update_xaxes(title_text=\"Sample Size\", row=1, col=2)\n",
    "fig.show()"
   ]
  }
 ],
 "metadata": {
  "kernelspec": {
   "display_name": "Python 3 (ipykernel)",
   "language": "python",
   "name": "python3"
  },
  "language_info": {
   "codemirror_mode": {
    "name": "ipython",
    "version": 3
   },
   "file_extension": ".py",
   "mimetype": "text/x-python",
   "name": "python",
   "nbconvert_exporter": "python",
   "pygments_lexer": "ipython3",
   "version": "3.7.13"
  }
 },
 "nbformat": 4,
 "nbformat_minor": 5
}
